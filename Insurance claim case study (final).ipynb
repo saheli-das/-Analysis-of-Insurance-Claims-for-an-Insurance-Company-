{
 "cells": [
  {
   "cell_type": "code",
   "execution_count": 67,
   "id": "8babb00a-8c25-45a7-b796-99cf019d9d54",
   "metadata": {},
   "outputs": [],
   "source": [
    "import pandas as pd \n",
    "import numpy as np \n",
    "import matplotlib.pyplot as plt \n",
    "%matplotlib inline \n",
    "import os\n",
    "import seaborn as sns\n",
    "import warnings\n",
    "import scipy.stats as stats"
   ]
  },
  {
   "cell_type": "markdown",
   "id": "3e34727e-4097-4472-90ca-dc3cb8c472f0",
   "metadata": {},
   "source": [
    "### 1. Import claims_data.csv and cust_data.csv which is provided to you and combine the two datasets appropriately to create a 360-degree view of the data, Use the same for the subsequent questions"
   ]
  },
  {
   "cell_type": "code",
   "execution_count": null,
   "id": "eeccb61d-e57c-46e9-bfd2-709ab06823e9",
   "metadata": {},
   "outputs": [],
   "source": [
    "os.chdir(r\"C:\\Users\\Saheli\\Desktop\\python(2.1)\\Term 2.1(Case Study)\\Case Study 5\\Case Study 3 - Insurance Claims Case Study\\claims.csv\")"
   ]
  },
  {
   "cell_type": "code",
   "execution_count": 7,
   "id": "e8ac504a-b0ab-4436-8484-e74823d54318",
   "metadata": {},
   "outputs": [],
   "source": [
    "claims = pd.read_csv(r\"C:\\Users\\Saheli\\Desktop\\python(2.1)\\Term 2.1(Case Study)\\Case Study 5\\Case Study 3 - Insurance Claims Case Study\\claims.csv\")\n",
    "Demographics = pd.read_csv(r\"C:\\Users\\Saheli\\Desktop\\python(2.1)\\Term 2.1(Case Study)\\Case Study 5\\Case Study 3 - Insurance Claims Case Study\\cust_demographics.csv\")"
   ]
  },
  {
   "cell_type": "code",
   "execution_count": 9,
   "id": "ef938dbc-9854-48b1-97f4-704b68391b26",
   "metadata": {},
   "outputs": [
    {
     "data": {
      "text/html": [
       "<div>\n",
       "<style scoped>\n",
       "    .dataframe tbody tr th:only-of-type {\n",
       "        vertical-align: middle;\n",
       "    }\n",
       "\n",
       "    .dataframe tbody tr th {\n",
       "        vertical-align: top;\n",
       "    }\n",
       "\n",
       "    .dataframe thead th {\n",
       "        text-align: right;\n",
       "    }\n",
       "</style>\n",
       "<table border=\"1\" class=\"dataframe\">\n",
       "  <thead>\n",
       "    <tr style=\"text-align: right;\">\n",
       "      <th></th>\n",
       "      <th>claim_id</th>\n",
       "      <th>customer_id</th>\n",
       "      <th>incident_cause</th>\n",
       "      <th>claim_date</th>\n",
       "      <th>claim_area</th>\n",
       "      <th>police_report</th>\n",
       "      <th>claim_type</th>\n",
       "      <th>claim_amount</th>\n",
       "      <th>total_policy_claims</th>\n",
       "      <th>fraudulent</th>\n",
       "    </tr>\n",
       "  </thead>\n",
       "  <tbody>\n",
       "    <tr>\n",
       "      <th>0</th>\n",
       "      <td>54004764</td>\n",
       "      <td>21868593</td>\n",
       "      <td>Driver error</td>\n",
       "      <td>11/27/2017</td>\n",
       "      <td>Auto</td>\n",
       "      <td>No</td>\n",
       "      <td>Material only</td>\n",
       "      <td>$2980</td>\n",
       "      <td>1.0</td>\n",
       "      <td>No</td>\n",
       "    </tr>\n",
       "    <tr>\n",
       "      <th>1</th>\n",
       "      <td>33985796</td>\n",
       "      <td>75740424</td>\n",
       "      <td>Crime</td>\n",
       "      <td>10/03/2018</td>\n",
       "      <td>Home</td>\n",
       "      <td>Unknown</td>\n",
       "      <td>Material only</td>\n",
       "      <td>$2980</td>\n",
       "      <td>3.0</td>\n",
       "      <td>No</td>\n",
       "    </tr>\n",
       "    <tr>\n",
       "      <th>2</th>\n",
       "      <td>53522022</td>\n",
       "      <td>30308357</td>\n",
       "      <td>Other driver error</td>\n",
       "      <td>02/02/2018</td>\n",
       "      <td>Auto</td>\n",
       "      <td>No</td>\n",
       "      <td>Material only</td>\n",
       "      <td>$3369.5</td>\n",
       "      <td>1.0</td>\n",
       "      <td>Yes</td>\n",
       "    </tr>\n",
       "    <tr>\n",
       "      <th>3</th>\n",
       "      <td>13015401</td>\n",
       "      <td>47830476</td>\n",
       "      <td>Natural causes</td>\n",
       "      <td>06/17/2018</td>\n",
       "      <td>Auto</td>\n",
       "      <td>No</td>\n",
       "      <td>Material only</td>\n",
       "      <td>$1680</td>\n",
       "      <td>1.0</td>\n",
       "      <td>No</td>\n",
       "    </tr>\n",
       "    <tr>\n",
       "      <th>4</th>\n",
       "      <td>22890252</td>\n",
       "      <td>19269962</td>\n",
       "      <td>Crime</td>\n",
       "      <td>01/13/2018</td>\n",
       "      <td>Auto</td>\n",
       "      <td>No</td>\n",
       "      <td>Material only</td>\n",
       "      <td>$2680</td>\n",
       "      <td>1.0</td>\n",
       "      <td>No</td>\n",
       "    </tr>\n",
       "    <tr>\n",
       "      <th>...</th>\n",
       "      <td>...</td>\n",
       "      <td>...</td>\n",
       "      <td>...</td>\n",
       "      <td>...</td>\n",
       "      <td>...</td>\n",
       "      <td>...</td>\n",
       "      <td>...</td>\n",
       "      <td>...</td>\n",
       "      <td>...</td>\n",
       "      <td>...</td>\n",
       "    </tr>\n",
       "    <tr>\n",
       "      <th>1095</th>\n",
       "      <td>97727122</td>\n",
       "      <td>35951012</td>\n",
       "      <td>Other driver error</td>\n",
       "      <td>06/11/2017</td>\n",
       "      <td>Auto</td>\n",
       "      <td>No</td>\n",
       "      <td>Material only</td>\n",
       "      <td>$3059</td>\n",
       "      <td>4.0</td>\n",
       "      <td>Yes</td>\n",
       "    </tr>\n",
       "    <tr>\n",
       "      <th>1096</th>\n",
       "      <td>10247193</td>\n",
       "      <td>14818669</td>\n",
       "      <td>Natural causes</td>\n",
       "      <td>03/14/2018</td>\n",
       "      <td>Auto</td>\n",
       "      <td>No</td>\n",
       "      <td>Material only</td>\n",
       "      <td>$1520</td>\n",
       "      <td>2.0</td>\n",
       "      <td>No</td>\n",
       "    </tr>\n",
       "    <tr>\n",
       "      <th>1097</th>\n",
       "      <td>79807493</td>\n",
       "      <td>85322831</td>\n",
       "      <td>Other driver error</td>\n",
       "      <td>02/09/2018</td>\n",
       "      <td>Auto</td>\n",
       "      <td>No</td>\n",
       "      <td>Material and injury</td>\n",
       "      <td>$23575</td>\n",
       "      <td>2.0</td>\n",
       "      <td>Yes</td>\n",
       "    </tr>\n",
       "    <tr>\n",
       "      <th>1098</th>\n",
       "      <td>69299345</td>\n",
       "      <td>73449366</td>\n",
       "      <td>Other causes</td>\n",
       "      <td>03/21/2018</td>\n",
       "      <td>Auto</td>\n",
       "      <td>Unknown</td>\n",
       "      <td>Material and injury</td>\n",
       "      <td>$25120</td>\n",
       "      <td>1.0</td>\n",
       "      <td>No</td>\n",
       "    </tr>\n",
       "    <tr>\n",
       "      <th>1099</th>\n",
       "      <td>58809728</td>\n",
       "      <td>43020876</td>\n",
       "      <td>Other driver error</td>\n",
       "      <td>06/04/2017</td>\n",
       "      <td>Auto</td>\n",
       "      <td>Yes</td>\n",
       "      <td>Material and injury</td>\n",
       "      <td>$36685</td>\n",
       "      <td>3.0</td>\n",
       "      <td>Yes</td>\n",
       "    </tr>\n",
       "  </tbody>\n",
       "</table>\n",
       "<p>1100 rows × 10 columns</p>\n",
       "</div>"
      ],
      "text/plain": [
       "      claim_id  customer_id      incident_cause  claim_date claim_area  \\\n",
       "0     54004764     21868593        Driver error  11/27/2017       Auto   \n",
       "1     33985796     75740424               Crime  10/03/2018       Home   \n",
       "2     53522022     30308357  Other driver error  02/02/2018       Auto   \n",
       "3     13015401     47830476      Natural causes  06/17/2018       Auto   \n",
       "4     22890252     19269962               Crime  01/13/2018       Auto   \n",
       "...        ...          ...                 ...         ...        ...   \n",
       "1095  97727122     35951012  Other driver error  06/11/2017       Auto   \n",
       "1096  10247193     14818669      Natural causes  03/14/2018       Auto   \n",
       "1097  79807493     85322831  Other driver error  02/09/2018       Auto   \n",
       "1098  69299345     73449366        Other causes  03/21/2018       Auto   \n",
       "1099  58809728     43020876  Other driver error  06/04/2017       Auto   \n",
       "\n",
       "     police_report           claim_type claim_amount  total_policy_claims  \\\n",
       "0               No        Material only        $2980                  1.0   \n",
       "1          Unknown        Material only        $2980                  3.0   \n",
       "2               No        Material only      $3369.5                  1.0   \n",
       "3               No        Material only        $1680                  1.0   \n",
       "4               No        Material only        $2680                  1.0   \n",
       "...            ...                  ...          ...                  ...   \n",
       "1095            No        Material only        $3059                  4.0   \n",
       "1096            No        Material only        $1520                  2.0   \n",
       "1097            No  Material and injury       $23575                  2.0   \n",
       "1098       Unknown  Material and injury       $25120                  1.0   \n",
       "1099           Yes  Material and injury       $36685                  3.0   \n",
       "\n",
       "     fraudulent  \n",
       "0            No  \n",
       "1            No  \n",
       "2           Yes  \n",
       "3            No  \n",
       "4            No  \n",
       "...         ...  \n",
       "1095        Yes  \n",
       "1096         No  \n",
       "1097        Yes  \n",
       "1098         No  \n",
       "1099        Yes  \n",
       "\n",
       "[1100 rows x 10 columns]"
      ]
     },
     "execution_count": 9,
     "metadata": {},
     "output_type": "execute_result"
    }
   ],
   "source": [
    "claims"
   ]
  },
  {
   "cell_type": "code",
   "execution_count": 13,
   "id": "4b685e3f-e5f5-496a-8846-fcd82e08357b",
   "metadata": {},
   "outputs": [
    {
     "name": "stdout",
     "output_type": "stream",
     "text": [
      "<class 'pandas.core.frame.DataFrame'>\n",
      "RangeIndex: 1100 entries, 0 to 1099\n",
      "Data columns (total 10 columns):\n",
      " #   Column               Non-Null Count  Dtype  \n",
      "---  ------               --------------  -----  \n",
      " 0   claim_id             1100 non-null   int64  \n",
      " 1   customer_id          1100 non-null   int64  \n",
      " 2   incident_cause       1100 non-null   object \n",
      " 3   claim_date           1100 non-null   object \n",
      " 4   claim_area           1100 non-null   object \n",
      " 5   police_report        1100 non-null   object \n",
      " 6   claim_type           1100 non-null   object \n",
      " 7   claim_amount         1035 non-null   object \n",
      " 8   total_policy_claims  1090 non-null   float64\n",
      " 9   fraudulent           1100 non-null   object \n",
      "dtypes: float64(1), int64(2), object(7)\n",
      "memory usage: 86.1+ KB\n"
     ]
    }
   ],
   "source": [
    "claims.info()"
   ]
  },
  {
   "cell_type": "code",
   "execution_count": 15,
   "id": "902f6fcf-a676-452a-a299-dd6c53dd4862",
   "metadata": {},
   "outputs": [
    {
     "name": "stdout",
     "output_type": "stream",
     "text": [
      "<class 'pandas.core.frame.DataFrame'>\n",
      "RangeIndex: 1085 entries, 0 to 1084\n",
      "Data columns (total 6 columns):\n",
      " #   Column       Non-Null Count  Dtype \n",
      "---  ------       --------------  ----- \n",
      " 0   CUST_ID      1085 non-null   int64 \n",
      " 1   gender       1085 non-null   object\n",
      " 2   DateOfBirth  1085 non-null   object\n",
      " 3   State        1085 non-null   object\n",
      " 4   Contact      1085 non-null   object\n",
      " 5   Segment      1085 non-null   object\n",
      "dtypes: int64(1), object(5)\n",
      "memory usage: 51.0+ KB\n"
     ]
    }
   ],
   "source": [
    "Demographics.info()"
   ]
  },
  {
   "cell_type": "code",
   "execution_count": 17,
   "id": "65076c3d-af45-47f7-a8db-1b2fdbf4cf57",
   "metadata": {},
   "outputs": [
    {
     "name": "stdout",
     "output_type": "stream",
     "text": [
      "The claims table contains 1100 rows and 10 columns\n",
      "The Customer Demographics table contains 1085 rows and 6 columns\n"
     ]
    }
   ],
   "source": [
    "print ('The claims table contains',claims.shape[0],'rows and',claims.shape[1],'columns')\n",
    "print ('The Customer Demographics table contains', Demographics.shape[0],'rows and',Demographics.shape[1],'columns')"
   ]
  },
  {
   "cell_type": "code",
   "execution_count": 19,
   "id": "ad9affbf-d770-463c-a01c-679b28434639",
   "metadata": {},
   "outputs": [
    {
     "data": {
      "text/html": [
       "<div>\n",
       "<style scoped>\n",
       "    .dataframe tbody tr th:only-of-type {\n",
       "        vertical-align: middle;\n",
       "    }\n",
       "\n",
       "    .dataframe tbody tr th {\n",
       "        vertical-align: top;\n",
       "    }\n",
       "\n",
       "    .dataframe thead th {\n",
       "        text-align: right;\n",
       "    }\n",
       "</style>\n",
       "<table border=\"1\" class=\"dataframe\">\n",
       "  <thead>\n",
       "    <tr style=\"text-align: right;\">\n",
       "      <th></th>\n",
       "      <th>count</th>\n",
       "      <th>mean</th>\n",
       "      <th>std</th>\n",
       "      <th>min</th>\n",
       "      <th>25%</th>\n",
       "      <th>50%</th>\n",
       "      <th>75%</th>\n",
       "      <th>max</th>\n",
       "    </tr>\n",
       "  </thead>\n",
       "  <tbody>\n",
       "    <tr>\n",
       "      <th>claim_id</th>\n",
       "      <td>1100.0</td>\n",
       "      <td>4.883819e+07</td>\n",
       "      <td>2.918806e+07</td>\n",
       "      <td>26832.0</td>\n",
       "      <td>23815805.0</td>\n",
       "      <td>48539331.0</td>\n",
       "      <td>74074466.00</td>\n",
       "      <td>99775483.0</td>\n",
       "    </tr>\n",
       "    <tr>\n",
       "      <th>customer_id</th>\n",
       "      <td>1100.0</td>\n",
       "      <td>5.079954e+07</td>\n",
       "      <td>2.847727e+07</td>\n",
       "      <td>154557.0</td>\n",
       "      <td>26479506.5</td>\n",
       "      <td>49790067.0</td>\n",
       "      <td>76019781.25</td>\n",
       "      <td>99961993.0</td>\n",
       "    </tr>\n",
       "    <tr>\n",
       "      <th>total_policy_claims</th>\n",
       "      <td>1090.0</td>\n",
       "      <td>1.591743e+00</td>\n",
       "      <td>1.147251e+00</td>\n",
       "      <td>1.0</td>\n",
       "      <td>1.0</td>\n",
       "      <td>1.0</td>\n",
       "      <td>2.00</td>\n",
       "      <td>8.0</td>\n",
       "    </tr>\n",
       "  </tbody>\n",
       "</table>\n",
       "</div>"
      ],
      "text/plain": [
       "                      count          mean           std       min         25%  \\\n",
       "claim_id             1100.0  4.883819e+07  2.918806e+07   26832.0  23815805.0   \n",
       "customer_id          1100.0  5.079954e+07  2.847727e+07  154557.0  26479506.5   \n",
       "total_policy_claims  1090.0  1.591743e+00  1.147251e+00       1.0         1.0   \n",
       "\n",
       "                            50%          75%         max  \n",
       "claim_id             48539331.0  74074466.00  99775483.0  \n",
       "customer_id          49790067.0  76019781.25  99961993.0  \n",
       "total_policy_claims         1.0         2.00         8.0  "
      ]
     },
     "execution_count": 19,
     "metadata": {},
     "output_type": "execute_result"
    }
   ],
   "source": [
    "claims.describe().T"
   ]
  },
  {
   "cell_type": "code",
   "execution_count": 21,
   "id": "87f719a9-b368-46fe-b507-c6a713b0aabf",
   "metadata": {},
   "outputs": [
    {
     "data": {
      "text/html": [
       "<div>\n",
       "<style scoped>\n",
       "    .dataframe tbody tr th:only-of-type {\n",
       "        vertical-align: middle;\n",
       "    }\n",
       "\n",
       "    .dataframe tbody tr th {\n",
       "        vertical-align: top;\n",
       "    }\n",
       "\n",
       "    .dataframe thead th {\n",
       "        text-align: right;\n",
       "    }\n",
       "</style>\n",
       "<table border=\"1\" class=\"dataframe\">\n",
       "  <thead>\n",
       "    <tr style=\"text-align: right;\">\n",
       "      <th></th>\n",
       "      <th>count</th>\n",
       "      <th>mean</th>\n",
       "      <th>std</th>\n",
       "      <th>min</th>\n",
       "      <th>25%</th>\n",
       "      <th>50%</th>\n",
       "      <th>75%</th>\n",
       "      <th>max</th>\n",
       "    </tr>\n",
       "  </thead>\n",
       "  <tbody>\n",
       "    <tr>\n",
       "      <th>CUST_ID</th>\n",
       "      <td>1085.0</td>\n",
       "      <td>5.084410e+07</td>\n",
       "      <td>2.847987e+07</td>\n",
       "      <td>154557.0</td>\n",
       "      <td>26734721.0</td>\n",
       "      <td>49820646.0</td>\n",
       "      <td>75995055.0</td>\n",
       "      <td>99961993.0</td>\n",
       "    </tr>\n",
       "  </tbody>\n",
       "</table>\n",
       "</div>"
      ],
      "text/plain": [
       "          count          mean           std       min         25%         50%  \\\n",
       "CUST_ID  1085.0  5.084410e+07  2.847987e+07  154557.0  26734721.0  49820646.0   \n",
       "\n",
       "                75%         max  \n",
       "CUST_ID  75995055.0  99961993.0  "
      ]
     },
     "execution_count": 21,
     "metadata": {},
     "output_type": "execute_result"
    }
   ],
   "source": [
    "Demographics.describe().T"
   ]
  },
  {
   "cell_type": "markdown",
   "id": "49fcbbb5-2827-4b15-9b15-ebdf5f4ea649",
   "metadata": {},
   "source": [
    "### 2. Perform a data audit for the datatypes and find out if there are any mismatch within the current datatypes of the columns and their business significance"
   ]
  },
  {
   "cell_type": "markdown",
   "id": "9306b041-6299-44d8-8f8c-aed0a5130e71",
   "metadata": {},
   "source": [
    "### DATA INCONSISTENCIES"
   ]
  },
  {
   "cell_type": "code",
   "execution_count": 27,
   "id": "2f214da8-2823-46a7-8cde-a4abc711bd4b",
   "metadata": {},
   "outputs": [
    {
     "name": "stdout",
     "output_type": "stream",
     "text": [
      "incident_cause\n",
      "Other causes          290\n",
      "Driver error          262\n",
      "Other driver error    249\n",
      "Natural causes        189\n",
      "Crime                 110\n",
      "Name: count, dtype: int64\n",
      "claim_date\n",
      "04/04/2018    18\n",
      "10/17/2017    17\n",
      "07/07/2018    17\n",
      "01/13/2018    17\n",
      "10/03/2018    16\n",
      "              ..\n",
      "06/10/2018     6\n",
      "01/26/2018     6\n",
      "08/04/2017     6\n",
      "08/18/2017     6\n",
      "08/23/2018     5\n",
      "Name: count, Length: 100, dtype: int64\n",
      "claim_area\n",
      "Auto    985\n",
      "Home    115\n",
      "Name: count, dtype: int64\n",
      "police_report\n",
      "No         630\n",
      "Unknown    300\n",
      "Yes        170\n",
      "Name: count, dtype: int64\n",
      "claim_type\n",
      "Material only          663\n",
      "Material and injury    241\n",
      "Injury only            196\n",
      "Name: count, dtype: int64\n",
      "claim_amount\n",
      "$2090       7\n",
      "$2070       7\n",
      "$1630       7\n",
      "$1860       7\n",
      "$2320       7\n",
      "           ..\n",
      "$40210      1\n",
      "$27002      1\n",
      "$33030      1\n",
      "$31498.5    1\n",
      "$36685      1\n",
      "Name: count, Length: 683, dtype: int64\n",
      "fraudulent\n",
      "No     846\n",
      "Yes    254\n",
      "Name: count, dtype: int64\n"
     ]
    }
   ],
   "source": [
    "Claims_cat = claims.select_dtypes(include = 'object')\n",
    "for i in Claims_cat:\n",
    "     print(Claims_cat[i].value_counts())"
   ]
  },
  {
   "cell_type": "code",
   "execution_count": 29,
   "id": "a359c9c2-d25d-4628-a68f-78affa6c6eab",
   "metadata": {},
   "outputs": [
    {
     "name": "stdout",
     "output_type": "stream",
     "text": [
      "gender\n",
      "Male      553\n",
      "Female    532\n",
      "Name: count, dtype: int64\n",
      "DateOfBirth\n",
      "12-Jan-79    1\n",
      "26-May-74    1\n",
      "08-Sep-79    1\n",
      "18-Jun-87    1\n",
      "16-Mar-78    1\n",
      "            ..\n",
      "20-Jul-82    1\n",
      "28-Aug-99    1\n",
      "28-Mar-96    1\n",
      "21-Dec-84    1\n",
      "12-Jul-95    1\n",
      "Name: count, Length: 1085, dtype: int64\n",
      "State\n",
      "NY    31\n",
      "DE    29\n",
      "AR    29\n",
      "ME    28\n",
      "AL    28\n",
      "ID    27\n",
      "ND    27\n",
      "RI    26\n",
      "CO    26\n",
      "TN    26\n",
      "IA    26\n",
      "FL    25\n",
      "NV    25\n",
      "SD    25\n",
      "MA    25\n",
      "CT    25\n",
      "NC    24\n",
      "WI    24\n",
      "IL    23\n",
      "MO    23\n",
      "IN    22\n",
      "TX    22\n",
      "OH    22\n",
      "VT    22\n",
      "OK    21\n",
      "NE    21\n",
      "MD    21\n",
      "MT    20\n",
      "WV    20\n",
      "PA    20\n",
      "SC    20\n",
      "LA    20\n",
      "KS    19\n",
      "AK    19\n",
      "WA    19\n",
      "GA    19\n",
      "NM    19\n",
      "UT    18\n",
      "VA    18\n",
      "MI    18\n",
      "NH    18\n",
      "CA    17\n",
      "HI    17\n",
      "NJ    17\n",
      "MN    17\n",
      "MS    17\n",
      "WY    17\n",
      "AZ    15\n",
      "OR    14\n",
      "KY    14\n",
      "Name: count, dtype: int64\n",
      "Contact\n",
      "789-916-8172    1\n",
      "327-934-6843    1\n",
      "154-695-4765    1\n",
      "196-126-1725    1\n",
      "972-651-4751    1\n",
      "               ..\n",
      "349-214-6872    1\n",
      "624-716-1427    1\n",
      "734-137-4865    1\n",
      "194-786-8173    1\n",
      "182-385-1392    1\n",
      "Name: count, Length: 1085, dtype: int64\n",
      "Segment\n",
      "Gold        372\n",
      "Platinum    364\n",
      "Silver      349\n",
      "Name: count, dtype: int64\n"
     ]
    }
   ],
   "source": [
    "Demographics_cat = Demographics.select_dtypes(include = 'object')\n",
    "for i in Demographics_cat:\n",
    "    print(Demographics_cat[i].value_counts())"
   ]
  },
  {
   "cell_type": "markdown",
   "id": "91d050b9-dd69-458b-a326-f4616cafec5f",
   "metadata": {},
   "source": [
    "### # Based on the above observation few inconsistencies to be fixed :\n",
    "- Converting the data type of claim date in claim table  and DOB in customer demographic table to Datetime format.\n",
    "-Convert the column claim_amount to numeric using the appropriate modules/attributes to remove the $ sign."
   ]
  },
  {
   "cell_type": "markdown",
   "id": "ec59e145-29b4-4cb5-899d-e110bc6d5031",
   "metadata": {},
   "source": [
    "### Fixing data inconsistencies:"
   ]
  },
  {
   "cell_type": "markdown",
   "id": "0ef01f7f-314c-4c90-ae2c-a7ed014cd22e",
   "metadata": {},
   "source": [
    "### Converting the data type of claim date in claim table and DOB in customer demographic table to Datetime format."
   ]
  },
  {
   "cell_type": "code",
   "execution_count": 36,
   "id": "da1c3645-c2f2-4bb8-8367-92a8c67af1c8",
   "metadata": {},
   "outputs": [],
   "source": [
    "claims.claim_date = claims.claim_date.str.replace('/','-')\n",
    "Demographics.DateOfBirth= Demographics.DateOfBirth.str.replace('/','-')"
   ]
  },
  {
   "cell_type": "code",
   "execution_count": 38,
   "id": "8d9d1d49-d402-4528-8ae2-6ea1cfcb6a2c",
   "metadata": {},
   "outputs": [],
   "source": [
    "claims.claim_date= pd.to_datetime(claims.claim_date, format = '%m-%d-%Y' )"
   ]
  },
  {
   "cell_type": "code",
   "execution_count": 40,
   "id": "ae912b46-23dc-4855-8ffa-c814ebaca70b",
   "metadata": {},
   "outputs": [],
   "source": [
    "Demographics.DateOfBirth=pd.to_datetime(Demographics.DateOfBirth, format = '%d-%b-%y')"
   ]
  },
  {
   "cell_type": "code",
   "execution_count": 42,
   "id": "f8e118ca-7e23-4694-bee0-05eb175b89e8",
   "metadata": {},
   "outputs": [
    {
     "data": {
      "text/html": [
       "<div>\n",
       "<style scoped>\n",
       "    .dataframe tbody tr th:only-of-type {\n",
       "        vertical-align: middle;\n",
       "    }\n",
       "\n",
       "    .dataframe tbody tr th {\n",
       "        vertical-align: top;\n",
       "    }\n",
       "\n",
       "    .dataframe thead th {\n",
       "        text-align: right;\n",
       "    }\n",
       "</style>\n",
       "<table border=\"1\" class=\"dataframe\">\n",
       "  <thead>\n",
       "    <tr style=\"text-align: right;\">\n",
       "      <th></th>\n",
       "      <th>CUST_ID</th>\n",
       "      <th>gender</th>\n",
       "      <th>DateOfBirth</th>\n",
       "      <th>State</th>\n",
       "      <th>Contact</th>\n",
       "      <th>Segment</th>\n",
       "    </tr>\n",
       "  </thead>\n",
       "  <tbody>\n",
       "    <tr>\n",
       "      <th>9</th>\n",
       "      <td>33507197</td>\n",
       "      <td>Female</td>\n",
       "      <td>2066-09-09</td>\n",
       "      <td>RI</td>\n",
       "      <td>165-519-4583</td>\n",
       "      <td>Gold</td>\n",
       "    </tr>\n",
       "    <tr>\n",
       "      <th>13</th>\n",
       "      <td>21240703</td>\n",
       "      <td>Male</td>\n",
       "      <td>2063-07-22</td>\n",
       "      <td>MD</td>\n",
       "      <td>473-561-2675</td>\n",
       "      <td>Silver</td>\n",
       "    </tr>\n",
       "    <tr>\n",
       "      <th>17</th>\n",
       "      <td>63916778</td>\n",
       "      <td>Male</td>\n",
       "      <td>2066-09-07</td>\n",
       "      <td>IL</td>\n",
       "      <td>146-157-4572</td>\n",
       "      <td>Platinum</td>\n",
       "    </tr>\n",
       "    <tr>\n",
       "      <th>18</th>\n",
       "      <td>17004138</td>\n",
       "      <td>Female</td>\n",
       "      <td>2065-08-13</td>\n",
       "      <td>WA</td>\n",
       "      <td>436-354-4682</td>\n",
       "      <td>Silver</td>\n",
       "    </tr>\n",
       "    <tr>\n",
       "      <th>20</th>\n",
       "      <td>75584003</td>\n",
       "      <td>Female</td>\n",
       "      <td>2067-04-22</td>\n",
       "      <td>OK</td>\n",
       "      <td>723-418-3248</td>\n",
       "      <td>Silver</td>\n",
       "    </tr>\n",
       "    <tr>\n",
       "      <th>...</th>\n",
       "      <td>...</td>\n",
       "      <td>...</td>\n",
       "      <td>...</td>\n",
       "      <td>...</td>\n",
       "      <td>...</td>\n",
       "      <td>...</td>\n",
       "    </tr>\n",
       "    <tr>\n",
       "      <th>1058</th>\n",
       "      <td>56425562</td>\n",
       "      <td>Female</td>\n",
       "      <td>2063-03-18</td>\n",
       "      <td>GA</td>\n",
       "      <td>823-712-3528</td>\n",
       "      <td>Platinum</td>\n",
       "    </tr>\n",
       "    <tr>\n",
       "      <th>1074</th>\n",
       "      <td>87596868</td>\n",
       "      <td>Male</td>\n",
       "      <td>2061-11-18</td>\n",
       "      <td>AZ</td>\n",
       "      <td>573-396-3182</td>\n",
       "      <td>Silver</td>\n",
       "    </tr>\n",
       "    <tr>\n",
       "      <th>1077</th>\n",
       "      <td>65208809</td>\n",
       "      <td>Male</td>\n",
       "      <td>2064-04-22</td>\n",
       "      <td>VA</td>\n",
       "      <td>286-128-6132</td>\n",
       "      <td>Platinum</td>\n",
       "    </tr>\n",
       "    <tr>\n",
       "      <th>1079</th>\n",
       "      <td>46850495</td>\n",
       "      <td>Male</td>\n",
       "      <td>2062-08-21</td>\n",
       "      <td>NV</td>\n",
       "      <td>761-193-2346</td>\n",
       "      <td>Platinum</td>\n",
       "    </tr>\n",
       "    <tr>\n",
       "      <th>1083</th>\n",
       "      <td>11256802</td>\n",
       "      <td>Female</td>\n",
       "      <td>2064-10-22</td>\n",
       "      <td>LA</td>\n",
       "      <td>469-345-5617</td>\n",
       "      <td>Silver</td>\n",
       "    </tr>\n",
       "  </tbody>\n",
       "</table>\n",
       "<p>246 rows × 6 columns</p>\n",
       "</div>"
      ],
      "text/plain": [
       "       CUST_ID  gender DateOfBirth State       Contact   Segment\n",
       "9     33507197  Female  2066-09-09    RI  165-519-4583      Gold\n",
       "13    21240703    Male  2063-07-22    MD  473-561-2675    Silver\n",
       "17    63916778    Male  2066-09-07    IL  146-157-4572  Platinum\n",
       "18    17004138  Female  2065-08-13    WA  436-354-4682    Silver\n",
       "20    75584003  Female  2067-04-22    OK  723-418-3248    Silver\n",
       "...        ...     ...         ...   ...           ...       ...\n",
       "1058  56425562  Female  2063-03-18    GA  823-712-3528  Platinum\n",
       "1074  87596868    Male  2061-11-18    AZ  573-396-3182    Silver\n",
       "1077  65208809    Male  2064-04-22    VA  286-128-6132  Platinum\n",
       "1079  46850495    Male  2062-08-21    NV  761-193-2346  Platinum\n",
       "1083  11256802  Female  2064-10-22    LA  469-345-5617    Silver\n",
       "\n",
       "[246 rows x 6 columns]"
      ]
     },
     "execution_count": 42,
     "metadata": {},
     "output_type": "execute_result"
    }
   ],
   "source": [
    "Demographics[Demographics.DateOfBirth.dt.year >=2000]"
   ]
  },
  {
   "cell_type": "code",
   "execution_count": 44,
   "id": "ce4d779b-f4de-4c94-ad9e-1e814fecde8a",
   "metadata": {},
   "outputs": [],
   "source": [
    "# some DOB's in Demographics have the year in 2000s which is not possible , thus need to substract a century.\n",
    "Demographics.DateOfBirth = np.where(Demographics.DateOfBirth.dt.year >=2000,Demographics.DateOfBirth - pd.DateOffset(years = 100),Demographics.DateOfBirth)"
   ]
  },
  {
   "cell_type": "code",
   "execution_count": 46,
   "id": "5e9dacee-2eb4-47db-ac26-247839087d73",
   "metadata": {},
   "outputs": [
    {
     "data": {
      "text/html": [
       "<div>\n",
       "<style scoped>\n",
       "    .dataframe tbody tr th:only-of-type {\n",
       "        vertical-align: middle;\n",
       "    }\n",
       "\n",
       "    .dataframe tbody tr th {\n",
       "        vertical-align: top;\n",
       "    }\n",
       "\n",
       "    .dataframe thead th {\n",
       "        text-align: right;\n",
       "    }\n",
       "</style>\n",
       "<table border=\"1\" class=\"dataframe\">\n",
       "  <thead>\n",
       "    <tr style=\"text-align: right;\">\n",
       "      <th></th>\n",
       "      <th>CUST_ID</th>\n",
       "      <th>gender</th>\n",
       "      <th>DateOfBirth</th>\n",
       "      <th>State</th>\n",
       "      <th>Contact</th>\n",
       "      <th>Segment</th>\n",
       "    </tr>\n",
       "  </thead>\n",
       "  <tbody>\n",
       "  </tbody>\n",
       "</table>\n",
       "</div>"
      ],
      "text/plain": [
       "Empty DataFrame\n",
       "Columns: [CUST_ID, gender, DateOfBirth, State, Contact, Segment]\n",
       "Index: []"
      ]
     },
     "execution_count": 46,
     "metadata": {},
     "output_type": "execute_result"
    }
   ],
   "source": [
    "Demographics[Demographics.DateOfBirth.dt.year >=2000]"
   ]
  },
  {
   "cell_type": "markdown",
   "id": "1406530c-00bc-484e-a0cf-67e064b20819",
   "metadata": {},
   "source": [
    "### 3. Convert the column claim_amount to numeric using the appropriate modules/attributes to remove the $ sign."
   ]
  },
  {
   "cell_type": "code",
   "execution_count": 49,
   "id": "17f490c4-6594-48ec-b1b2-95e7929c62b2",
   "metadata": {},
   "outputs": [],
   "source": [
    "claims.claim_amount= claims.claim_amount.str.replace('$','').astype(float)"
   ]
  },
  {
   "cell_type": "code",
   "execution_count": 52,
   "id": "1b082ee6-9f88-4820-882d-98b2d9fb1213",
   "metadata": {},
   "outputs": [
    {
     "data": {
      "text/html": [
       "<div>\n",
       "<style scoped>\n",
       "    .dataframe tbody tr th:only-of-type {\n",
       "        vertical-align: middle;\n",
       "    }\n",
       "\n",
       "    .dataframe tbody tr th {\n",
       "        vertical-align: top;\n",
       "    }\n",
       "\n",
       "    .dataframe thead th {\n",
       "        text-align: right;\n",
       "    }\n",
       "</style>\n",
       "<table border=\"1\" class=\"dataframe\">\n",
       "  <thead>\n",
       "    <tr style=\"text-align: right;\">\n",
       "      <th></th>\n",
       "      <th>claim_id</th>\n",
       "      <th>customer_id</th>\n",
       "      <th>incident_cause</th>\n",
       "      <th>claim_date</th>\n",
       "      <th>claim_area</th>\n",
       "      <th>police_report</th>\n",
       "      <th>claim_type</th>\n",
       "      <th>claim_amount</th>\n",
       "      <th>total_policy_claims</th>\n",
       "      <th>fraudulent</th>\n",
       "    </tr>\n",
       "  </thead>\n",
       "  <tbody>\n",
       "    <tr>\n",
       "      <th>0</th>\n",
       "      <td>54004764</td>\n",
       "      <td>21868593</td>\n",
       "      <td>Driver error</td>\n",
       "      <td>2017-11-27</td>\n",
       "      <td>Auto</td>\n",
       "      <td>No</td>\n",
       "      <td>Material only</td>\n",
       "      <td>2980.0</td>\n",
       "      <td>1.0</td>\n",
       "      <td>No</td>\n",
       "    </tr>\n",
       "    <tr>\n",
       "      <th>1</th>\n",
       "      <td>33985796</td>\n",
       "      <td>75740424</td>\n",
       "      <td>Crime</td>\n",
       "      <td>2018-10-03</td>\n",
       "      <td>Home</td>\n",
       "      <td>Unknown</td>\n",
       "      <td>Material only</td>\n",
       "      <td>2980.0</td>\n",
       "      <td>3.0</td>\n",
       "      <td>No</td>\n",
       "    </tr>\n",
       "    <tr>\n",
       "      <th>2</th>\n",
       "      <td>53522022</td>\n",
       "      <td>30308357</td>\n",
       "      <td>Other driver error</td>\n",
       "      <td>2018-02-02</td>\n",
       "      <td>Auto</td>\n",
       "      <td>No</td>\n",
       "      <td>Material only</td>\n",
       "      <td>3369.5</td>\n",
       "      <td>1.0</td>\n",
       "      <td>Yes</td>\n",
       "    </tr>\n",
       "    <tr>\n",
       "      <th>3</th>\n",
       "      <td>13015401</td>\n",
       "      <td>47830476</td>\n",
       "      <td>Natural causes</td>\n",
       "      <td>2018-06-17</td>\n",
       "      <td>Auto</td>\n",
       "      <td>No</td>\n",
       "      <td>Material only</td>\n",
       "      <td>1680.0</td>\n",
       "      <td>1.0</td>\n",
       "      <td>No</td>\n",
       "    </tr>\n",
       "    <tr>\n",
       "      <th>4</th>\n",
       "      <td>22890252</td>\n",
       "      <td>19269962</td>\n",
       "      <td>Crime</td>\n",
       "      <td>2018-01-13</td>\n",
       "      <td>Auto</td>\n",
       "      <td>No</td>\n",
       "      <td>Material only</td>\n",
       "      <td>2680.0</td>\n",
       "      <td>1.0</td>\n",
       "      <td>No</td>\n",
       "    </tr>\n",
       "    <tr>\n",
       "      <th>...</th>\n",
       "      <td>...</td>\n",
       "      <td>...</td>\n",
       "      <td>...</td>\n",
       "      <td>...</td>\n",
       "      <td>...</td>\n",
       "      <td>...</td>\n",
       "      <td>...</td>\n",
       "      <td>...</td>\n",
       "      <td>...</td>\n",
       "      <td>...</td>\n",
       "    </tr>\n",
       "    <tr>\n",
       "      <th>1095</th>\n",
       "      <td>97727122</td>\n",
       "      <td>35951012</td>\n",
       "      <td>Other driver error</td>\n",
       "      <td>2017-06-11</td>\n",
       "      <td>Auto</td>\n",
       "      <td>No</td>\n",
       "      <td>Material only</td>\n",
       "      <td>3059.0</td>\n",
       "      <td>4.0</td>\n",
       "      <td>Yes</td>\n",
       "    </tr>\n",
       "    <tr>\n",
       "      <th>1096</th>\n",
       "      <td>10247193</td>\n",
       "      <td>14818669</td>\n",
       "      <td>Natural causes</td>\n",
       "      <td>2018-03-14</td>\n",
       "      <td>Auto</td>\n",
       "      <td>No</td>\n",
       "      <td>Material only</td>\n",
       "      <td>1520.0</td>\n",
       "      <td>2.0</td>\n",
       "      <td>No</td>\n",
       "    </tr>\n",
       "    <tr>\n",
       "      <th>1097</th>\n",
       "      <td>79807493</td>\n",
       "      <td>85322831</td>\n",
       "      <td>Other driver error</td>\n",
       "      <td>2018-02-09</td>\n",
       "      <td>Auto</td>\n",
       "      <td>No</td>\n",
       "      <td>Material and injury</td>\n",
       "      <td>23575.0</td>\n",
       "      <td>2.0</td>\n",
       "      <td>Yes</td>\n",
       "    </tr>\n",
       "    <tr>\n",
       "      <th>1098</th>\n",
       "      <td>69299345</td>\n",
       "      <td>73449366</td>\n",
       "      <td>Other causes</td>\n",
       "      <td>2018-03-21</td>\n",
       "      <td>Auto</td>\n",
       "      <td>Unknown</td>\n",
       "      <td>Material and injury</td>\n",
       "      <td>25120.0</td>\n",
       "      <td>1.0</td>\n",
       "      <td>No</td>\n",
       "    </tr>\n",
       "    <tr>\n",
       "      <th>1099</th>\n",
       "      <td>58809728</td>\n",
       "      <td>43020876</td>\n",
       "      <td>Other driver error</td>\n",
       "      <td>2017-06-04</td>\n",
       "      <td>Auto</td>\n",
       "      <td>Yes</td>\n",
       "      <td>Material and injury</td>\n",
       "      <td>36685.0</td>\n",
       "      <td>3.0</td>\n",
       "      <td>Yes</td>\n",
       "    </tr>\n",
       "  </tbody>\n",
       "</table>\n",
       "<p>1100 rows × 10 columns</p>\n",
       "</div>"
      ],
      "text/plain": [
       "      claim_id  customer_id      incident_cause claim_date claim_area  \\\n",
       "0     54004764     21868593        Driver error 2017-11-27       Auto   \n",
       "1     33985796     75740424               Crime 2018-10-03       Home   \n",
       "2     53522022     30308357  Other driver error 2018-02-02       Auto   \n",
       "3     13015401     47830476      Natural causes 2018-06-17       Auto   \n",
       "4     22890252     19269962               Crime 2018-01-13       Auto   \n",
       "...        ...          ...                 ...        ...        ...   \n",
       "1095  97727122     35951012  Other driver error 2017-06-11       Auto   \n",
       "1096  10247193     14818669      Natural causes 2018-03-14       Auto   \n",
       "1097  79807493     85322831  Other driver error 2018-02-09       Auto   \n",
       "1098  69299345     73449366        Other causes 2018-03-21       Auto   \n",
       "1099  58809728     43020876  Other driver error 2017-06-04       Auto   \n",
       "\n",
       "     police_report           claim_type  claim_amount  total_policy_claims  \\\n",
       "0               No        Material only        2980.0                  1.0   \n",
       "1          Unknown        Material only        2980.0                  3.0   \n",
       "2               No        Material only        3369.5                  1.0   \n",
       "3               No        Material only        1680.0                  1.0   \n",
       "4               No        Material only        2680.0                  1.0   \n",
       "...            ...                  ...           ...                  ...   \n",
       "1095            No        Material only        3059.0                  4.0   \n",
       "1096            No        Material only        1520.0                  2.0   \n",
       "1097            No  Material and injury       23575.0                  2.0   \n",
       "1098       Unknown  Material and injury       25120.0                  1.0   \n",
       "1099           Yes  Material and injury       36685.0                  3.0   \n",
       "\n",
       "     fraudulent  \n",
       "0            No  \n",
       "1            No  \n",
       "2           Yes  \n",
       "3            No  \n",
       "4            No  \n",
       "...         ...  \n",
       "1095        Yes  \n",
       "1096         No  \n",
       "1097        Yes  \n",
       "1098         No  \n",
       "1099        Yes  \n",
       "\n",
       "[1100 rows x 10 columns]"
      ]
     },
     "execution_count": 52,
     "metadata": {},
     "output_type": "execute_result"
    }
   ],
   "source": [
    "claims"
   ]
  },
  {
   "cell_type": "markdown",
   "id": "98d888a9-0d80-4dd6-a92f-4c82ab0d6808",
   "metadata": {},
   "source": [
    "### Duplicate values check :"
   ]
  },
  {
   "cell_type": "code",
   "execution_count": 55,
   "id": "7520a90b-5ffe-4972-ab0f-550ecc7aa838",
   "metadata": {},
   "outputs": [
    {
     "data": {
      "text/plain": [
       "0"
      ]
     },
     "execution_count": 55,
     "metadata": {},
     "output_type": "execute_result"
    }
   ],
   "source": [
    "claims.duplicated().sum()"
   ]
  },
  {
   "cell_type": "code",
   "execution_count": 57,
   "id": "5886505c-2203-46b1-bc11-c4baf1fb4ec3",
   "metadata": {},
   "outputs": [
    {
     "data": {
      "text/plain": [
       "0"
      ]
     },
     "execution_count": 57,
     "metadata": {},
     "output_type": "execute_result"
    }
   ],
   "source": [
    "Demographics.duplicated().sum()"
   ]
  },
  {
   "cell_type": "markdown",
   "id": "5d1a9e82-0869-40c6-83f7-62037523e643",
   "metadata": {},
   "source": [
    "### ## No duplicate records forund in both tables."
   ]
  },
  {
   "cell_type": "markdown",
   "id": "dfc9d3c5-e8ae-4b26-900c-00fbb5996b26",
   "metadata": {},
   "source": [
    "### MISSING VALUES"
   ]
  },
  {
   "cell_type": "markdown",
   "id": "4e5296a5-1d73-4d90-b0b7-37063b3af31e",
   "metadata": {},
   "source": [
    "## The Customer Demographics tables lack any null values and is our dimension table in this scenario what claims table is the fact  table.\n",
    "## The Claims table have 65 null values in the claim amount and 10 null values in the column total_policy_claims"
   ]
  },
  {
   "cell_type": "markdown",
   "id": "7bd6d2d0-a6be-421f-9957-a78ec4ae9d2b",
   "metadata": {},
   "source": [
    "# The missing values need to be imputated before moving ahead .\n",
    "## Colmns having categorical values, their missing values to be replaced with mode while in case of continous variables the missing value to be replaced with mean if no outlier present and with median if an outlier is present."
   ]
  },
  {
   "cell_type": "code",
   "execution_count": 69,
   "id": "8a29c98e-070b-45e0-8b78-6d59454511a0",
   "metadata": {},
   "outputs": [
    {
     "data": {
      "text/plain": [
       "<Axes: xlabel='claim_amount'>"
      ]
     },
     "execution_count": 69,
     "metadata": {},
     "output_type": "execute_result"
    }
   ],
   "source": [
    "### checking outliers before filling the missing values:\n",
    "sns.boxplot(claims,x = claims.claim_amount)\n",
    "\n",
    "# No outliers found in claim amount column ."
   ]
  },
  {
   "cell_type": "code",
   "execution_count": 71,
   "id": "bb30cd11-e608-4a72-8ca0-5ce6e5a69109",
   "metadata": {},
   "outputs": [
    {
     "data": {
      "text/plain": [
       "<Axes: xlabel='claim_amount'>"
      ]
     },
     "execution_count": 71,
     "metadata": {},
     "output_type": "execute_result"
    }
   ],
   "source": [
    "sns.boxplot(claims, x= claims.total_policy_claims)\n",
    "# It was observed that in total_policy_claims column of claims table positive outliers were present. \n",
    "#Thus we will use median  to fill null / missing values  in this column"
   ]
  },
  {
   "cell_type": "code",
   "execution_count": 73,
   "id": "a53e1afa-75c5-485b-a424-509e56d09d96",
   "metadata": {},
   "outputs": [
    {
     "data": {
      "text/plain": [
       "12442.125120772947"
      ]
     },
     "execution_count": 73,
     "metadata": {},
     "output_type": "execute_result"
    }
   ],
   "source": [
    "claims.claim_amount.mean()"
   ]
  },
  {
   "cell_type": "code",
   "execution_count": 75,
   "id": "a6d2423f-5604-406f-9bde-d415c050b05d",
   "metadata": {},
   "outputs": [],
   "source": [
    "# Imputing missing values in claims amount column with mean\n",
    "claims.claim_amount= claims.claim_amount.fillna(claims.claim_amount.mean()) "
   ]
  },
  {
   "cell_type": "code",
   "execution_count": 77,
   "id": "6e977d28-65f7-49a6-b018-9def784892c3",
   "metadata": {},
   "outputs": [
    {
     "data": {
      "text/html": [
       "<div>\n",
       "<style scoped>\n",
       "    .dataframe tbody tr th:only-of-type {\n",
       "        vertical-align: middle;\n",
       "    }\n",
       "\n",
       "    .dataframe tbody tr th {\n",
       "        vertical-align: top;\n",
       "    }\n",
       "\n",
       "    .dataframe thead th {\n",
       "        text-align: right;\n",
       "    }\n",
       "</style>\n",
       "<table border=\"1\" class=\"dataframe\">\n",
       "  <thead>\n",
       "    <tr style=\"text-align: right;\">\n",
       "      <th></th>\n",
       "      <th>claim_id</th>\n",
       "      <th>customer_id</th>\n",
       "      <th>incident_cause</th>\n",
       "      <th>claim_date</th>\n",
       "      <th>claim_area</th>\n",
       "      <th>police_report</th>\n",
       "      <th>claim_type</th>\n",
       "      <th>claim_amount</th>\n",
       "      <th>total_policy_claims</th>\n",
       "      <th>fraudulent</th>\n",
       "    </tr>\n",
       "  </thead>\n",
       "  <tbody>\n",
       "    <tr>\n",
       "      <th>20</th>\n",
       "      <td>32630720</td>\n",
       "      <td>75584003</td>\n",
       "      <td>Crime</td>\n",
       "      <td>2017-02-03</td>\n",
       "      <td>Auto</td>\n",
       "      <td>No</td>\n",
       "      <td>Material only</td>\n",
       "      <td>12442.125121</td>\n",
       "      <td>1.0</td>\n",
       "      <td>No</td>\n",
       "    </tr>\n",
       "    <tr>\n",
       "      <th>22</th>\n",
       "      <td>46956597</td>\n",
       "      <td>10665308</td>\n",
       "      <td>Natural causes</td>\n",
       "      <td>2018-07-20</td>\n",
       "      <td>Auto</td>\n",
       "      <td>No</td>\n",
       "      <td>Material only</td>\n",
       "      <td>12442.125121</td>\n",
       "      <td>1.0</td>\n",
       "      <td>No</td>\n",
       "    </tr>\n",
       "    <tr>\n",
       "      <th>47</th>\n",
       "      <td>28636278</td>\n",
       "      <td>31012778</td>\n",
       "      <td>Other causes</td>\n",
       "      <td>2018-03-01</td>\n",
       "      <td>Auto</td>\n",
       "      <td>No</td>\n",
       "      <td>Material only</td>\n",
       "      <td>12442.125121</td>\n",
       "      <td>5.0</td>\n",
       "      <td>Yes</td>\n",
       "    </tr>\n",
       "    <tr>\n",
       "      <th>48</th>\n",
       "      <td>96749077</td>\n",
       "      <td>84571128</td>\n",
       "      <td>Natural causes</td>\n",
       "      <td>2017-05-15</td>\n",
       "      <td>Auto</td>\n",
       "      <td>No</td>\n",
       "      <td>Material only</td>\n",
       "      <td>12442.125121</td>\n",
       "      <td>1.0</td>\n",
       "      <td>Yes</td>\n",
       "    </tr>\n",
       "    <tr>\n",
       "      <th>66</th>\n",
       "      <td>43973221</td>\n",
       "      <td>83290720</td>\n",
       "      <td>Driver error</td>\n",
       "      <td>2018-09-26</td>\n",
       "      <td>Auto</td>\n",
       "      <td>Yes</td>\n",
       "      <td>Material and injury</td>\n",
       "      <td>12442.125121</td>\n",
       "      <td>1.0</td>\n",
       "      <td>No</td>\n",
       "    </tr>\n",
       "    <tr>\n",
       "      <th>...</th>\n",
       "      <td>...</td>\n",
       "      <td>...</td>\n",
       "      <td>...</td>\n",
       "      <td>...</td>\n",
       "      <td>...</td>\n",
       "      <td>...</td>\n",
       "      <td>...</td>\n",
       "      <td>...</td>\n",
       "      <td>...</td>\n",
       "      <td>...</td>\n",
       "    </tr>\n",
       "    <tr>\n",
       "      <th>989</th>\n",
       "      <td>78685929</td>\n",
       "      <td>29459103</td>\n",
       "      <td>Natural causes</td>\n",
       "      <td>2017-07-01</td>\n",
       "      <td>Auto</td>\n",
       "      <td>No</td>\n",
       "      <td>Injury only</td>\n",
       "      <td>12442.125121</td>\n",
       "      <td>1.0</td>\n",
       "      <td>Yes</td>\n",
       "    </tr>\n",
       "    <tr>\n",
       "      <th>1016</th>\n",
       "      <td>12612736</td>\n",
       "      <td>74787956</td>\n",
       "      <td>Driver error</td>\n",
       "      <td>2017-09-14</td>\n",
       "      <td>Auto</td>\n",
       "      <td>Unknown</td>\n",
       "      <td>Material only</td>\n",
       "      <td>12442.125121</td>\n",
       "      <td>1.0</td>\n",
       "      <td>No</td>\n",
       "    </tr>\n",
       "    <tr>\n",
       "      <th>1025</th>\n",
       "      <td>54291209</td>\n",
       "      <td>28528424</td>\n",
       "      <td>Other causes</td>\n",
       "      <td>2018-07-14</td>\n",
       "      <td>Auto</td>\n",
       "      <td>No</td>\n",
       "      <td>Material only</td>\n",
       "      <td>12442.125121</td>\n",
       "      <td>1.0</td>\n",
       "      <td>No</td>\n",
       "    </tr>\n",
       "    <tr>\n",
       "      <th>1036</th>\n",
       "      <td>83884815</td>\n",
       "      <td>71676845</td>\n",
       "      <td>Other driver error</td>\n",
       "      <td>2018-07-27</td>\n",
       "      <td>Auto</td>\n",
       "      <td>No</td>\n",
       "      <td>Material only</td>\n",
       "      <td>12442.125121</td>\n",
       "      <td>3.0</td>\n",
       "      <td>No</td>\n",
       "    </tr>\n",
       "    <tr>\n",
       "      <th>1051</th>\n",
       "      <td>93043462</td>\n",
       "      <td>81634435</td>\n",
       "      <td>Other driver error</td>\n",
       "      <td>2017-01-27</td>\n",
       "      <td>Home</td>\n",
       "      <td>Unknown</td>\n",
       "      <td>Material and injury</td>\n",
       "      <td>12442.125121</td>\n",
       "      <td>1.0</td>\n",
       "      <td>No</td>\n",
       "    </tr>\n",
       "  </tbody>\n",
       "</table>\n",
       "<p>65 rows × 10 columns</p>\n",
       "</div>"
      ],
      "text/plain": [
       "      claim_id  customer_id      incident_cause claim_date claim_area  \\\n",
       "20    32630720     75584003               Crime 2017-02-03       Auto   \n",
       "22    46956597     10665308      Natural causes 2018-07-20       Auto   \n",
       "47    28636278     31012778        Other causes 2018-03-01       Auto   \n",
       "48    96749077     84571128      Natural causes 2017-05-15       Auto   \n",
       "66    43973221     83290720        Driver error 2018-09-26       Auto   \n",
       "...        ...          ...                 ...        ...        ...   \n",
       "989   78685929     29459103      Natural causes 2017-07-01       Auto   \n",
       "1016  12612736     74787956        Driver error 2017-09-14       Auto   \n",
       "1025  54291209     28528424        Other causes 2018-07-14       Auto   \n",
       "1036  83884815     71676845  Other driver error 2018-07-27       Auto   \n",
       "1051  93043462     81634435  Other driver error 2017-01-27       Home   \n",
       "\n",
       "     police_report           claim_type  claim_amount  total_policy_claims  \\\n",
       "20              No        Material only  12442.125121                  1.0   \n",
       "22              No        Material only  12442.125121                  1.0   \n",
       "47              No        Material only  12442.125121                  5.0   \n",
       "48              No        Material only  12442.125121                  1.0   \n",
       "66             Yes  Material and injury  12442.125121                  1.0   \n",
       "...            ...                  ...           ...                  ...   \n",
       "989             No          Injury only  12442.125121                  1.0   \n",
       "1016       Unknown        Material only  12442.125121                  1.0   \n",
       "1025            No        Material only  12442.125121                  1.0   \n",
       "1036            No        Material only  12442.125121                  3.0   \n",
       "1051       Unknown  Material and injury  12442.125121                  1.0   \n",
       "\n",
       "     fraudulent  \n",
       "20           No  \n",
       "22           No  \n",
       "47          Yes  \n",
       "48          Yes  \n",
       "66           No  \n",
       "...         ...  \n",
       "989         Yes  \n",
       "1016         No  \n",
       "1025         No  \n",
       "1036         No  \n",
       "1051         No  \n",
       "\n",
       "[65 rows x 10 columns]"
      ]
     },
     "execution_count": 77,
     "metadata": {},
     "output_type": "execute_result"
    }
   ],
   "source": [
    "claims[claims.claim_amount ==  12442.125120772947 ]"
   ]
  },
  {
   "cell_type": "code",
   "execution_count": 79,
   "id": "3ef1efe4-3cd1-47f9-babf-c91b8862c131",
   "metadata": {},
   "outputs": [
    {
     "data": {
      "text/plain": [
       "1.0"
      ]
     },
     "execution_count": 79,
     "metadata": {},
     "output_type": "execute_result"
    }
   ],
   "source": [
    "claims.total_policy_claims.median()"
   ]
  },
  {
   "cell_type": "code",
   "execution_count": 81,
   "id": "3d270bdf-e6dd-4732-b5a3-694952dd0e5a",
   "metadata": {},
   "outputs": [],
   "source": [
    " # Imputing missing values in total_policy_claims with median:\n",
    "claims.total_policy_claims = claims.total_policy_claims.fillna(claims.total_policy_claims.median()) "
   ]
  },
  {
   "cell_type": "code",
   "execution_count": 83,
   "id": "762a7b03-b83f-48b2-84d5-ecf71b9bbde3",
   "metadata": {},
   "outputs": [
    {
     "data": {
      "text/html": [
       "<div>\n",
       "<style scoped>\n",
       "    .dataframe tbody tr th:only-of-type {\n",
       "        vertical-align: middle;\n",
       "    }\n",
       "\n",
       "    .dataframe tbody tr th {\n",
       "        vertical-align: top;\n",
       "    }\n",
       "\n",
       "    .dataframe thead th {\n",
       "        text-align: right;\n",
       "    }\n",
       "</style>\n",
       "<table border=\"1\" class=\"dataframe\">\n",
       "  <thead>\n",
       "    <tr style=\"text-align: right;\">\n",
       "      <th></th>\n",
       "      <th>claim_id</th>\n",
       "      <th>customer_id</th>\n",
       "      <th>incident_cause</th>\n",
       "      <th>claim_date</th>\n",
       "      <th>claim_area</th>\n",
       "      <th>police_report</th>\n",
       "      <th>claim_type</th>\n",
       "      <th>claim_amount</th>\n",
       "      <th>total_policy_claims</th>\n",
       "      <th>fraudulent</th>\n",
       "    </tr>\n",
       "  </thead>\n",
       "  <tbody>\n",
       "    <tr>\n",
       "      <th>0</th>\n",
       "      <td>54004764</td>\n",
       "      <td>21868593</td>\n",
       "      <td>Driver error</td>\n",
       "      <td>2017-11-27</td>\n",
       "      <td>Auto</td>\n",
       "      <td>No</td>\n",
       "      <td>Material only</td>\n",
       "      <td>2980.0</td>\n",
       "      <td>1.0</td>\n",
       "      <td>No</td>\n",
       "    </tr>\n",
       "    <tr>\n",
       "      <th>2</th>\n",
       "      <td>53522022</td>\n",
       "      <td>30308357</td>\n",
       "      <td>Other driver error</td>\n",
       "      <td>2018-02-02</td>\n",
       "      <td>Auto</td>\n",
       "      <td>No</td>\n",
       "      <td>Material only</td>\n",
       "      <td>3369.5</td>\n",
       "      <td>1.0</td>\n",
       "      <td>Yes</td>\n",
       "    </tr>\n",
       "    <tr>\n",
       "      <th>3</th>\n",
       "      <td>13015401</td>\n",
       "      <td>47830476</td>\n",
       "      <td>Natural causes</td>\n",
       "      <td>2018-06-17</td>\n",
       "      <td>Auto</td>\n",
       "      <td>No</td>\n",
       "      <td>Material only</td>\n",
       "      <td>1680.0</td>\n",
       "      <td>1.0</td>\n",
       "      <td>No</td>\n",
       "    </tr>\n",
       "    <tr>\n",
       "      <th>4</th>\n",
       "      <td>22890252</td>\n",
       "      <td>19269962</td>\n",
       "      <td>Crime</td>\n",
       "      <td>2018-01-13</td>\n",
       "      <td>Auto</td>\n",
       "      <td>No</td>\n",
       "      <td>Material only</td>\n",
       "      <td>2680.0</td>\n",
       "      <td>1.0</td>\n",
       "      <td>No</td>\n",
       "    </tr>\n",
       "    <tr>\n",
       "      <th>8</th>\n",
       "      <td>43908336</td>\n",
       "      <td>32813689</td>\n",
       "      <td>Crime</td>\n",
       "      <td>2018-02-15</td>\n",
       "      <td>Auto</td>\n",
       "      <td>Unknown</td>\n",
       "      <td>Material only</td>\n",
       "      <td>2620.0</td>\n",
       "      <td>1.0</td>\n",
       "      <td>No</td>\n",
       "    </tr>\n",
       "    <tr>\n",
       "      <th>...</th>\n",
       "      <td>...</td>\n",
       "      <td>...</td>\n",
       "      <td>...</td>\n",
       "      <td>...</td>\n",
       "      <td>...</td>\n",
       "      <td>...</td>\n",
       "      <td>...</td>\n",
       "      <td>...</td>\n",
       "      <td>...</td>\n",
       "      <td>...</td>\n",
       "    </tr>\n",
       "    <tr>\n",
       "      <th>1088</th>\n",
       "      <td>87003624</td>\n",
       "      <td>99120304</td>\n",
       "      <td>Other causes</td>\n",
       "      <td>2017-03-22</td>\n",
       "      <td>Auto</td>\n",
       "      <td>No</td>\n",
       "      <td>Material only</td>\n",
       "      <td>1710.0</td>\n",
       "      <td>1.0</td>\n",
       "      <td>No</td>\n",
       "    </tr>\n",
       "    <tr>\n",
       "      <th>1090</th>\n",
       "      <td>56626640</td>\n",
       "      <td>82584690</td>\n",
       "      <td>Other driver error</td>\n",
       "      <td>2017-08-24</td>\n",
       "      <td>Auto</td>\n",
       "      <td>Unknown</td>\n",
       "      <td>Material only</td>\n",
       "      <td>2288.5</td>\n",
       "      <td>1.0</td>\n",
       "      <td>Yes</td>\n",
       "    </tr>\n",
       "    <tr>\n",
       "      <th>1092</th>\n",
       "      <td>74995596</td>\n",
       "      <td>55765343</td>\n",
       "      <td>Crime</td>\n",
       "      <td>2018-06-30</td>\n",
       "      <td>Auto</td>\n",
       "      <td>Unknown</td>\n",
       "      <td>Material only</td>\n",
       "      <td>1805.5</td>\n",
       "      <td>1.0</td>\n",
       "      <td>Yes</td>\n",
       "    </tr>\n",
       "    <tr>\n",
       "      <th>1094</th>\n",
       "      <td>33194240</td>\n",
       "      <td>18332683</td>\n",
       "      <td>Other causes</td>\n",
       "      <td>2017-11-13</td>\n",
       "      <td>Auto</td>\n",
       "      <td>Yes</td>\n",
       "      <td>Material and injury</td>\n",
       "      <td>24850.0</td>\n",
       "      <td>1.0</td>\n",
       "      <td>No</td>\n",
       "    </tr>\n",
       "    <tr>\n",
       "      <th>1098</th>\n",
       "      <td>69299345</td>\n",
       "      <td>73449366</td>\n",
       "      <td>Other causes</td>\n",
       "      <td>2018-03-21</td>\n",
       "      <td>Auto</td>\n",
       "      <td>Unknown</td>\n",
       "      <td>Material and injury</td>\n",
       "      <td>25120.0</td>\n",
       "      <td>1.0</td>\n",
       "      <td>No</td>\n",
       "    </tr>\n",
       "  </tbody>\n",
       "</table>\n",
       "<p>803 rows × 10 columns</p>\n",
       "</div>"
      ],
      "text/plain": [
       "      claim_id  customer_id      incident_cause claim_date claim_area  \\\n",
       "0     54004764     21868593        Driver error 2017-11-27       Auto   \n",
       "2     53522022     30308357  Other driver error 2018-02-02       Auto   \n",
       "3     13015401     47830476      Natural causes 2018-06-17       Auto   \n",
       "4     22890252     19269962               Crime 2018-01-13       Auto   \n",
       "8     43908336     32813689               Crime 2018-02-15       Auto   \n",
       "...        ...          ...                 ...        ...        ...   \n",
       "1088  87003624     99120304        Other causes 2017-03-22       Auto   \n",
       "1090  56626640     82584690  Other driver error 2017-08-24       Auto   \n",
       "1092  74995596     55765343               Crime 2018-06-30       Auto   \n",
       "1094  33194240     18332683        Other causes 2017-11-13       Auto   \n",
       "1098  69299345     73449366        Other causes 2018-03-21       Auto   \n",
       "\n",
       "     police_report           claim_type  claim_amount  total_policy_claims  \\\n",
       "0               No        Material only        2980.0                  1.0   \n",
       "2               No        Material only        3369.5                  1.0   \n",
       "3               No        Material only        1680.0                  1.0   \n",
       "4               No        Material only        2680.0                  1.0   \n",
       "8          Unknown        Material only        2620.0                  1.0   \n",
       "...            ...                  ...           ...                  ...   \n",
       "1088            No        Material only        1710.0                  1.0   \n",
       "1090       Unknown        Material only        2288.5                  1.0   \n",
       "1092       Unknown        Material only        1805.5                  1.0   \n",
       "1094           Yes  Material and injury       24850.0                  1.0   \n",
       "1098       Unknown  Material and injury       25120.0                  1.0   \n",
       "\n",
       "     fraudulent  \n",
       "0            No  \n",
       "2           Yes  \n",
       "3            No  \n",
       "4            No  \n",
       "8            No  \n",
       "...         ...  \n",
       "1088         No  \n",
       "1090        Yes  \n",
       "1092        Yes  \n",
       "1094         No  \n",
       "1098         No  \n",
       "\n",
       "[803 rows x 10 columns]"
      ]
     },
     "execution_count": 83,
     "metadata": {},
     "output_type": "execute_result"
    }
   ],
   "source": [
    "claims[claims.total_policy_claims ==  1.0 ]"
   ]
  },
  {
   "cell_type": "code",
   "execution_count": 85,
   "id": "9a9c1a2e-36ec-482a-b30e-b9a00a821ef9",
   "metadata": {},
   "outputs": [
    {
     "data": {
      "text/plain": [
       "claim_id               0\n",
       "customer_id            0\n",
       "incident_cause         0\n",
       "claim_date             0\n",
       "claim_area             0\n",
       "police_report          0\n",
       "claim_type             0\n",
       "claim_amount           0\n",
       "total_policy_claims    0\n",
       "fraudulent             0\n",
       "dtype: int64"
      ]
     },
     "execution_count": 85,
     "metadata": {},
     "output_type": "execute_result"
    }
   ],
   "source": [
    "claims.isna().sum()"
   ]
  },
  {
   "cell_type": "markdown",
   "id": "1d51cdc6-abfb-4683-b030-a26da117d479",
   "metadata": {},
   "source": [
    "#### # No missing values left in claims table."
   ]
  },
  {
   "cell_type": "markdown",
   "id": "a03d3069-8a8b-4c59-a7da-1fec817cce23",
   "metadata": {},
   "source": [
    "## MERGING THE GIVEN DATASETS:"
   ]
  },
  {
   "cell_type": "code",
   "execution_count": 91,
   "id": "4a42cfdb-0aac-4017-add1-fafce19538ef",
   "metadata": {},
   "outputs": [
    {
     "data": {
      "text/plain": [
       "claim_id                0\n",
       "customer_id             0\n",
       "incident_cause          0\n",
       "claim_date              0\n",
       "claim_area              0\n",
       "police_report           0\n",
       "claim_type              0\n",
       "claim_amount            0\n",
       "total_policy_claims     0\n",
       "fraudulent              0\n",
       "CUST_ID                15\n",
       "gender                 15\n",
       "DateOfBirth            15\n",
       "State                  15\n",
       "Contact                15\n",
       "Segment                15\n",
       "dtype: int64"
      ]
     },
     "execution_count": 91,
     "metadata": {},
     "output_type": "execute_result"
    }
   ],
   "source": [
    "pd.merge(left = claims, right = Demographics,how= 'left', left_on= 'customer_id', right_on = 'CUST_ID').isna().sum()"
   ]
  },
  {
   "cell_type": "markdown",
   "id": "d1a012bc-0b85-4b08-8074-6da00e74f849",
   "metadata": {},
   "source": [
    "#### # After merging the dataset it was observed that demographics data of 15 customers were missing in Demographics table but entries of such customer available in claims table.\n",
    "#### Thus we will drop these missing values as they are less than 5 % as per industry standards."
   ]
  },
  {
   "cell_type": "code",
   "execution_count": 96,
   "id": "91c31de9-7925-43ea-a586-cb0dba2385aa",
   "metadata": {},
   "outputs": [],
   "source": [
    "Final_dataset= pd.merge(left = claims, right = Demographics,how= 'inner', left_on= 'customer_id', right_on = 'CUST_ID')"
   ]
  },
  {
   "cell_type": "code",
   "execution_count": 98,
   "id": "78c09a3d-e5aa-4f29-95ff-f3628e297273",
   "metadata": {},
   "outputs": [
    {
     "data": {
      "text/plain": [
       "claim_id               0\n",
       "customer_id            0\n",
       "incident_cause         0\n",
       "claim_date             0\n",
       "claim_area             0\n",
       "police_report          0\n",
       "claim_type             0\n",
       "claim_amount           0\n",
       "total_policy_claims    0\n",
       "fraudulent             0\n",
       "CUST_ID                0\n",
       "gender                 0\n",
       "DateOfBirth            0\n",
       "State                  0\n",
       "Contact                0\n",
       "Segment                0\n",
       "dtype: int64"
      ]
     },
     "execution_count": 98,
     "metadata": {},
     "output_type": "execute_result"
    }
   ],
   "source": [
    "Final_dataset.isna().sum()"
   ]
  },
  {
   "cell_type": "markdown",
   "id": "87a61b63-9e86-4ff2-a6a6-613c02799380",
   "metadata": {},
   "source": [
    "### 4. Of all the injury claims, some of them have gone unreported with the\n",
    "### police. Create an alert flag (1,0) for all such claims"
   ]
  },
  {
   "cell_type": "code",
   "execution_count": 102,
   "id": "1a72b6b9-23f3-41e5-b1b3-5bb76fedfd6e",
   "metadata": {},
   "outputs": [],
   "source": [
    "Final_dataset['Report_flag'] = np.where(Final_dataset.police_report=='Yes', 1, 0)"
   ]
  },
  {
   "cell_type": "code",
   "execution_count": 104,
   "id": "b3c551cd-18b4-49ad-a21e-4576709c4212",
   "metadata": {},
   "outputs": [
    {
     "data": {
      "text/html": [
       "<div>\n",
       "<style scoped>\n",
       "    .dataframe tbody tr th:only-of-type {\n",
       "        vertical-align: middle;\n",
       "    }\n",
       "\n",
       "    .dataframe tbody tr th {\n",
       "        vertical-align: top;\n",
       "    }\n",
       "\n",
       "    .dataframe thead th {\n",
       "        text-align: right;\n",
       "    }\n",
       "</style>\n",
       "<table border=\"1\" class=\"dataframe\">\n",
       "  <thead>\n",
       "    <tr style=\"text-align: right;\">\n",
       "      <th></th>\n",
       "      <th>claim_id</th>\n",
       "      <th>customer_id</th>\n",
       "      <th>incident_cause</th>\n",
       "      <th>claim_date</th>\n",
       "      <th>claim_area</th>\n",
       "      <th>police_report</th>\n",
       "      <th>claim_type</th>\n",
       "      <th>claim_amount</th>\n",
       "      <th>total_policy_claims</th>\n",
       "      <th>fraudulent</th>\n",
       "      <th>CUST_ID</th>\n",
       "      <th>gender</th>\n",
       "      <th>DateOfBirth</th>\n",
       "      <th>State</th>\n",
       "      <th>Contact</th>\n",
       "      <th>Segment</th>\n",
       "      <th>Report_flag</th>\n",
       "    </tr>\n",
       "  </thead>\n",
       "  <tbody>\n",
       "    <tr>\n",
       "      <th>0</th>\n",
       "      <td>54004764</td>\n",
       "      <td>21868593</td>\n",
       "      <td>Driver error</td>\n",
       "      <td>2017-11-27</td>\n",
       "      <td>Auto</td>\n",
       "      <td>No</td>\n",
       "      <td>Material only</td>\n",
       "      <td>2980.0</td>\n",
       "      <td>1.0</td>\n",
       "      <td>No</td>\n",
       "      <td>21868593</td>\n",
       "      <td>Female</td>\n",
       "      <td>1979-01-12</td>\n",
       "      <td>VT</td>\n",
       "      <td>789-916-8172</td>\n",
       "      <td>Platinum</td>\n",
       "      <td>0</td>\n",
       "    </tr>\n",
       "    <tr>\n",
       "      <th>1</th>\n",
       "      <td>33985796</td>\n",
       "      <td>75740424</td>\n",
       "      <td>Crime</td>\n",
       "      <td>2018-10-03</td>\n",
       "      <td>Home</td>\n",
       "      <td>Unknown</td>\n",
       "      <td>Material only</td>\n",
       "      <td>2980.0</td>\n",
       "      <td>3.0</td>\n",
       "      <td>No</td>\n",
       "      <td>75740424</td>\n",
       "      <td>Female</td>\n",
       "      <td>1970-01-13</td>\n",
       "      <td>ME</td>\n",
       "      <td>265-543-1264</td>\n",
       "      <td>Silver</td>\n",
       "      <td>0</td>\n",
       "    </tr>\n",
       "    <tr>\n",
       "      <th>2</th>\n",
       "      <td>53522022</td>\n",
       "      <td>30308357</td>\n",
       "      <td>Other driver error</td>\n",
       "      <td>2018-02-02</td>\n",
       "      <td>Auto</td>\n",
       "      <td>No</td>\n",
       "      <td>Material only</td>\n",
       "      <td>3369.5</td>\n",
       "      <td>1.0</td>\n",
       "      <td>Yes</td>\n",
       "      <td>30308357</td>\n",
       "      <td>Female</td>\n",
       "      <td>1984-03-11</td>\n",
       "      <td>TN</td>\n",
       "      <td>798-631-4758</td>\n",
       "      <td>Silver</td>\n",
       "      <td>0</td>\n",
       "    </tr>\n",
       "    <tr>\n",
       "      <th>3</th>\n",
       "      <td>13015401</td>\n",
       "      <td>47830476</td>\n",
       "      <td>Natural causes</td>\n",
       "      <td>2018-06-17</td>\n",
       "      <td>Auto</td>\n",
       "      <td>No</td>\n",
       "      <td>Material only</td>\n",
       "      <td>1680.0</td>\n",
       "      <td>1.0</td>\n",
       "      <td>No</td>\n",
       "      <td>47830476</td>\n",
       "      <td>Female</td>\n",
       "      <td>1986-05-01</td>\n",
       "      <td>MA</td>\n",
       "      <td>413-187-7945</td>\n",
       "      <td>Silver</td>\n",
       "      <td>0</td>\n",
       "    </tr>\n",
       "    <tr>\n",
       "      <th>4</th>\n",
       "      <td>22890252</td>\n",
       "      <td>19269962</td>\n",
       "      <td>Crime</td>\n",
       "      <td>2018-01-13</td>\n",
       "      <td>Auto</td>\n",
       "      <td>No</td>\n",
       "      <td>Material only</td>\n",
       "      <td>2680.0</td>\n",
       "      <td>1.0</td>\n",
       "      <td>No</td>\n",
       "      <td>19269962</td>\n",
       "      <td>Male</td>\n",
       "      <td>1977-05-13</td>\n",
       "      <td>NV</td>\n",
       "      <td>956-871-8691</td>\n",
       "      <td>Gold</td>\n",
       "      <td>0</td>\n",
       "    </tr>\n",
       "    <tr>\n",
       "      <th>...</th>\n",
       "      <td>...</td>\n",
       "      <td>...</td>\n",
       "      <td>...</td>\n",
       "      <td>...</td>\n",
       "      <td>...</td>\n",
       "      <td>...</td>\n",
       "      <td>...</td>\n",
       "      <td>...</td>\n",
       "      <td>...</td>\n",
       "      <td>...</td>\n",
       "      <td>...</td>\n",
       "      <td>...</td>\n",
       "      <td>...</td>\n",
       "      <td>...</td>\n",
       "      <td>...</td>\n",
       "      <td>...</td>\n",
       "      <td>...</td>\n",
       "    </tr>\n",
       "    <tr>\n",
       "      <th>1080</th>\n",
       "      <td>62020796</td>\n",
       "      <td>79539873</td>\n",
       "      <td>Other driver error</td>\n",
       "      <td>2018-09-06</td>\n",
       "      <td>Auto</td>\n",
       "      <td>Yes</td>\n",
       "      <td>Material only</td>\n",
       "      <td>1770.0</td>\n",
       "      <td>1.0</td>\n",
       "      <td>No</td>\n",
       "      <td>79539873</td>\n",
       "      <td>Female</td>\n",
       "      <td>1981-03-15</td>\n",
       "      <td>ND</td>\n",
       "      <td>459-425-4319</td>\n",
       "      <td>Platinum</td>\n",
       "      <td>1</td>\n",
       "    </tr>\n",
       "    <tr>\n",
       "      <th>1081</th>\n",
       "      <td>63269067</td>\n",
       "      <td>42364152</td>\n",
       "      <td>Other causes</td>\n",
       "      <td>2017-05-09</td>\n",
       "      <td>Home</td>\n",
       "      <td>No</td>\n",
       "      <td>Material only</td>\n",
       "      <td>2800.0</td>\n",
       "      <td>1.0</td>\n",
       "      <td>No</td>\n",
       "      <td>42364152</td>\n",
       "      <td>Female</td>\n",
       "      <td>1996-07-07</td>\n",
       "      <td>ID</td>\n",
       "      <td>529-462-1635</td>\n",
       "      <td>Silver</td>\n",
       "      <td>0</td>\n",
       "    </tr>\n",
       "    <tr>\n",
       "      <th>1082</th>\n",
       "      <td>22690595</td>\n",
       "      <td>19888166</td>\n",
       "      <td>Other driver error</td>\n",
       "      <td>2017-05-15</td>\n",
       "      <td>Auto</td>\n",
       "      <td>Yes</td>\n",
       "      <td>Injury only</td>\n",
       "      <td>33080.0</td>\n",
       "      <td>2.0</td>\n",
       "      <td>No</td>\n",
       "      <td>19888166</td>\n",
       "      <td>Male</td>\n",
       "      <td>1990-04-11</td>\n",
       "      <td>WI</td>\n",
       "      <td>712-651-9613</td>\n",
       "      <td>Gold</td>\n",
       "      <td>1</td>\n",
       "    </tr>\n",
       "    <tr>\n",
       "      <th>1083</th>\n",
       "      <td>12376894</td>\n",
       "      <td>11256802</td>\n",
       "      <td>Other driver error</td>\n",
       "      <td>2017-04-18</td>\n",
       "      <td>Auto</td>\n",
       "      <td>No</td>\n",
       "      <td>Material only</td>\n",
       "      <td>2840.0</td>\n",
       "      <td>4.0</td>\n",
       "      <td>No</td>\n",
       "      <td>11256802</td>\n",
       "      <td>Female</td>\n",
       "      <td>1964-10-22</td>\n",
       "      <td>LA</td>\n",
       "      <td>469-345-5617</td>\n",
       "      <td>Silver</td>\n",
       "      <td>0</td>\n",
       "    </tr>\n",
       "    <tr>\n",
       "      <th>1084</th>\n",
       "      <td>63226031</td>\n",
       "      <td>61575264</td>\n",
       "      <td>Natural causes</td>\n",
       "      <td>2017-03-16</td>\n",
       "      <td>Auto</td>\n",
       "      <td>No</td>\n",
       "      <td>Material only</td>\n",
       "      <td>1490.0</td>\n",
       "      <td>1.0</td>\n",
       "      <td>No</td>\n",
       "      <td>61575264</td>\n",
       "      <td>Male</td>\n",
       "      <td>1995-07-12</td>\n",
       "      <td>WY</td>\n",
       "      <td>182-385-1392</td>\n",
       "      <td>Gold</td>\n",
       "      <td>0</td>\n",
       "    </tr>\n",
       "  </tbody>\n",
       "</table>\n",
       "<p>1085 rows × 17 columns</p>\n",
       "</div>"
      ],
      "text/plain": [
       "      claim_id  customer_id      incident_cause claim_date claim_area  \\\n",
       "0     54004764     21868593        Driver error 2017-11-27       Auto   \n",
       "1     33985796     75740424               Crime 2018-10-03       Home   \n",
       "2     53522022     30308357  Other driver error 2018-02-02       Auto   \n",
       "3     13015401     47830476      Natural causes 2018-06-17       Auto   \n",
       "4     22890252     19269962               Crime 2018-01-13       Auto   \n",
       "...        ...          ...                 ...        ...        ...   \n",
       "1080  62020796     79539873  Other driver error 2018-09-06       Auto   \n",
       "1081  63269067     42364152        Other causes 2017-05-09       Home   \n",
       "1082  22690595     19888166  Other driver error 2017-05-15       Auto   \n",
       "1083  12376894     11256802  Other driver error 2017-04-18       Auto   \n",
       "1084  63226031     61575264      Natural causes 2017-03-16       Auto   \n",
       "\n",
       "     police_report     claim_type  claim_amount  total_policy_claims  \\\n",
       "0               No  Material only        2980.0                  1.0   \n",
       "1          Unknown  Material only        2980.0                  3.0   \n",
       "2               No  Material only        3369.5                  1.0   \n",
       "3               No  Material only        1680.0                  1.0   \n",
       "4               No  Material only        2680.0                  1.0   \n",
       "...            ...            ...           ...                  ...   \n",
       "1080           Yes  Material only        1770.0                  1.0   \n",
       "1081            No  Material only        2800.0                  1.0   \n",
       "1082           Yes    Injury only       33080.0                  2.0   \n",
       "1083            No  Material only        2840.0                  4.0   \n",
       "1084            No  Material only        1490.0                  1.0   \n",
       "\n",
       "     fraudulent   CUST_ID  gender DateOfBirth State       Contact   Segment  \\\n",
       "0            No  21868593  Female  1979-01-12    VT  789-916-8172  Platinum   \n",
       "1            No  75740424  Female  1970-01-13    ME  265-543-1264    Silver   \n",
       "2           Yes  30308357  Female  1984-03-11    TN  798-631-4758    Silver   \n",
       "3            No  47830476  Female  1986-05-01    MA  413-187-7945    Silver   \n",
       "4            No  19269962    Male  1977-05-13    NV  956-871-8691      Gold   \n",
       "...         ...       ...     ...         ...   ...           ...       ...   \n",
       "1080         No  79539873  Female  1981-03-15    ND  459-425-4319  Platinum   \n",
       "1081         No  42364152  Female  1996-07-07    ID  529-462-1635    Silver   \n",
       "1082         No  19888166    Male  1990-04-11    WI  712-651-9613      Gold   \n",
       "1083         No  11256802  Female  1964-10-22    LA  469-345-5617    Silver   \n",
       "1084         No  61575264    Male  1995-07-12    WY  182-385-1392      Gold   \n",
       "\n",
       "      Report_flag  \n",
       "0               0  \n",
       "1               0  \n",
       "2               0  \n",
       "3               0  \n",
       "4               0  \n",
       "...           ...  \n",
       "1080            1  \n",
       "1081            0  \n",
       "1082            1  \n",
       "1083            0  \n",
       "1084            0  \n",
       "\n",
       "[1085 rows x 17 columns]"
      ]
     },
     "execution_count": 104,
     "metadata": {},
     "output_type": "execute_result"
    }
   ],
   "source": [
    "Final_dataset"
   ]
  },
  {
   "cell_type": "markdown",
   "id": "b7d1aec1-8585-4bff-9342-95a881ff3342",
   "metadata": {},
   "source": [
    "### 5. Retain the most recent observation and delete any duplicated records in the data based on the customer ID column"
   ]
  },
  {
   "cell_type": "code",
   "execution_count": 107,
   "id": "8cc92a69-2111-4d4e-89e3-abecfe0f7e34",
   "metadata": {},
   "outputs": [
    {
     "data": {
      "text/html": [
       "<div>\n",
       "<style scoped>\n",
       "    .dataframe tbody tr th:only-of-type {\n",
       "        vertical-align: middle;\n",
       "    }\n",
       "\n",
       "    .dataframe tbody tr th {\n",
       "        vertical-align: top;\n",
       "    }\n",
       "\n",
       "    .dataframe thead th {\n",
       "        text-align: right;\n",
       "    }\n",
       "</style>\n",
       "<table border=\"1\" class=\"dataframe\">\n",
       "  <thead>\n",
       "    <tr style=\"text-align: right;\">\n",
       "      <th></th>\n",
       "      <th>claim_id</th>\n",
       "      <th>customer_id</th>\n",
       "      <th>incident_cause</th>\n",
       "      <th>claim_date</th>\n",
       "      <th>claim_area</th>\n",
       "      <th>police_report</th>\n",
       "      <th>claim_type</th>\n",
       "      <th>claim_amount</th>\n",
       "      <th>total_policy_claims</th>\n",
       "      <th>fraudulent</th>\n",
       "      <th>CUST_ID</th>\n",
       "      <th>gender</th>\n",
       "      <th>DateOfBirth</th>\n",
       "      <th>State</th>\n",
       "      <th>Contact</th>\n",
       "      <th>Segment</th>\n",
       "      <th>Report_flag</th>\n",
       "    </tr>\n",
       "  </thead>\n",
       "  <tbody>\n",
       "    <tr>\n",
       "      <th>4</th>\n",
       "      <td>22890252</td>\n",
       "      <td>19269962</td>\n",
       "      <td>Crime</td>\n",
       "      <td>2018-01-13</td>\n",
       "      <td>Auto</td>\n",
       "      <td>No</td>\n",
       "      <td>Material only</td>\n",
       "      <td>2680.0</td>\n",
       "      <td>1.0</td>\n",
       "      <td>No</td>\n",
       "      <td>19269962</td>\n",
       "      <td>Male</td>\n",
       "      <td>1977-05-13</td>\n",
       "      <td>NV</td>\n",
       "      <td>956-871-8691</td>\n",
       "      <td>Gold</td>\n",
       "      <td>0</td>\n",
       "    </tr>\n",
       "    <tr>\n",
       "      <th>631</th>\n",
       "      <td>39219616</td>\n",
       "      <td>19269962</td>\n",
       "      <td>Other causes</td>\n",
       "      <td>2018-09-26</td>\n",
       "      <td>Auto</td>\n",
       "      <td>No</td>\n",
       "      <td>Material only</td>\n",
       "      <td>2240.0</td>\n",
       "      <td>2.0</td>\n",
       "      <td>No</td>\n",
       "      <td>19269962</td>\n",
       "      <td>Male</td>\n",
       "      <td>1977-05-13</td>\n",
       "      <td>NV</td>\n",
       "      <td>956-871-8691</td>\n",
       "      <td>Gold</td>\n",
       "      <td>0</td>\n",
       "    </tr>\n",
       "  </tbody>\n",
       "</table>\n",
       "</div>"
      ],
      "text/plain": [
       "     claim_id  customer_id incident_cause claim_date claim_area police_report  \\\n",
       "4    22890252     19269962          Crime 2018-01-13       Auto            No   \n",
       "631  39219616     19269962   Other causes 2018-09-26       Auto            No   \n",
       "\n",
       "        claim_type  claim_amount  total_policy_claims fraudulent   CUST_ID  \\\n",
       "4    Material only        2680.0                  1.0         No  19269962   \n",
       "631  Material only        2240.0                  2.0         No  19269962   \n",
       "\n",
       "    gender DateOfBirth State       Contact Segment  Report_flag  \n",
       "4     Male  1977-05-13    NV  956-871-8691    Gold            0  \n",
       "631   Male  1977-05-13    NV  956-871-8691    Gold            0  "
      ]
     },
     "execution_count": 107,
     "metadata": {},
     "output_type": "execute_result"
    }
   ],
   "source": [
    "Final_dataset[Final_dataset.customer_id ==19269962]"
   ]
  },
  {
   "cell_type": "code",
   "execution_count": 109,
   "id": "1dce439e-da76-4a01-99c2-3d60d882cecd",
   "metadata": {},
   "outputs": [],
   "source": [
    "Max_date = Final_dataset.pivot_table(index='customer_id' ,values='claim_date', aggfunc='max').reset_index()"
   ]
  },
  {
   "cell_type": "code",
   "execution_count": 111,
   "id": "a78223e8-1169-44a4-8ce7-d999d3dd6773",
   "metadata": {},
   "outputs": [
    {
     "data": {
      "text/html": [
       "<div>\n",
       "<style scoped>\n",
       "    .dataframe tbody tr th:only-of-type {\n",
       "        vertical-align: middle;\n",
       "    }\n",
       "\n",
       "    .dataframe tbody tr th {\n",
       "        vertical-align: top;\n",
       "    }\n",
       "\n",
       "    .dataframe thead th {\n",
       "        text-align: right;\n",
       "    }\n",
       "</style>\n",
       "<table border=\"1\" class=\"dataframe\">\n",
       "  <thead>\n",
       "    <tr style=\"text-align: right;\">\n",
       "      <th></th>\n",
       "      <th>customer_id</th>\n",
       "      <th>claim_date</th>\n",
       "    </tr>\n",
       "  </thead>\n",
       "  <tbody>\n",
       "    <tr>\n",
       "      <th>0</th>\n",
       "      <td>154557</td>\n",
       "      <td>2018-04-10</td>\n",
       "    </tr>\n",
       "    <tr>\n",
       "      <th>1</th>\n",
       "      <td>263204</td>\n",
       "      <td>2018-04-04</td>\n",
       "    </tr>\n",
       "    <tr>\n",
       "      <th>2</th>\n",
       "      <td>287476</td>\n",
       "      <td>2017-10-17</td>\n",
       "    </tr>\n",
       "    <tr>\n",
       "      <th>3</th>\n",
       "      <td>441097</td>\n",
       "      <td>2018-03-21</td>\n",
       "    </tr>\n",
       "    <tr>\n",
       "      <th>4</th>\n",
       "      <td>524545</td>\n",
       "      <td>2018-07-27</td>\n",
       "    </tr>\n",
       "    <tr>\n",
       "      <th>...</th>\n",
       "      <td>...</td>\n",
       "      <td>...</td>\n",
       "    </tr>\n",
       "    <tr>\n",
       "      <th>1073</th>\n",
       "      <td>99674324</td>\n",
       "      <td>2018-07-07</td>\n",
       "    </tr>\n",
       "    <tr>\n",
       "      <th>1074</th>\n",
       "      <td>99723844</td>\n",
       "      <td>2018-01-06</td>\n",
       "    </tr>\n",
       "    <tr>\n",
       "      <th>1075</th>\n",
       "      <td>99761663</td>\n",
       "      <td>2018-04-04</td>\n",
       "    </tr>\n",
       "    <tr>\n",
       "      <th>1076</th>\n",
       "      <td>99892000</td>\n",
       "      <td>2017-11-13</td>\n",
       "    </tr>\n",
       "    <tr>\n",
       "      <th>1077</th>\n",
       "      <td>99961993</td>\n",
       "      <td>2018-10-23</td>\n",
       "    </tr>\n",
       "  </tbody>\n",
       "</table>\n",
       "<p>1078 rows × 2 columns</p>\n",
       "</div>"
      ],
      "text/plain": [
       "      customer_id claim_date\n",
       "0          154557 2018-04-10\n",
       "1          263204 2018-04-04\n",
       "2          287476 2017-10-17\n",
       "3          441097 2018-03-21\n",
       "4          524545 2018-07-27\n",
       "...           ...        ...\n",
       "1073     99674324 2018-07-07\n",
       "1074     99723844 2018-01-06\n",
       "1075     99761663 2018-04-04\n",
       "1076     99892000 2017-11-13\n",
       "1077     99961993 2018-10-23\n",
       "\n",
       "[1078 rows x 2 columns]"
      ]
     },
     "execution_count": 111,
     "metadata": {},
     "output_type": "execute_result"
    }
   ],
   "source": [
    "Max_date "
   ]
  },
  {
   "cell_type": "code",
   "execution_count": 113,
   "id": "21991712-b1a4-4999-9c21-0855cc49ae6c",
   "metadata": {},
   "outputs": [],
   "source": [
    "Customer_claim_data= pd.merge(left = Max_date, right = Final_dataset ,how= 'inner', on = ['customer_id','claim_date'] )"
   ]
  },
  {
   "cell_type": "code",
   "execution_count": 115,
   "id": "465ae33a-8245-4053-801d-95eae6ae817c",
   "metadata": {},
   "outputs": [],
   "source": [
    "Customer_claim_data.drop('CUST_ID', axis = 1, inplace = True )"
   ]
  },
  {
   "cell_type": "code",
   "execution_count": 117,
   "id": "d0ea6bb7-60f4-45e9-9031-f0459b1f63ff",
   "metadata": {},
   "outputs": [
    {
     "data": {
      "text/html": [
       "<div>\n",
       "<style scoped>\n",
       "    .dataframe tbody tr th:only-of-type {\n",
       "        vertical-align: middle;\n",
       "    }\n",
       "\n",
       "    .dataframe tbody tr th {\n",
       "        vertical-align: top;\n",
       "    }\n",
       "\n",
       "    .dataframe thead th {\n",
       "        text-align: right;\n",
       "    }\n",
       "</style>\n",
       "<table border=\"1\" class=\"dataframe\">\n",
       "  <thead>\n",
       "    <tr style=\"text-align: right;\">\n",
       "      <th></th>\n",
       "      <th>customer_id</th>\n",
       "      <th>claim_date</th>\n",
       "      <th>claim_id</th>\n",
       "      <th>incident_cause</th>\n",
       "      <th>claim_area</th>\n",
       "      <th>police_report</th>\n",
       "      <th>claim_type</th>\n",
       "      <th>claim_amount</th>\n",
       "      <th>total_policy_claims</th>\n",
       "      <th>fraudulent</th>\n",
       "      <th>gender</th>\n",
       "      <th>DateOfBirth</th>\n",
       "      <th>State</th>\n",
       "      <th>Contact</th>\n",
       "      <th>Segment</th>\n",
       "      <th>Report_flag</th>\n",
       "    </tr>\n",
       "  </thead>\n",
       "  <tbody>\n",
       "    <tr>\n",
       "      <th>0</th>\n",
       "      <td>154557</td>\n",
       "      <td>2018-04-10</td>\n",
       "      <td>69348631</td>\n",
       "      <td>Driver error</td>\n",
       "      <td>Auto</td>\n",
       "      <td>No</td>\n",
       "      <td>Injury only</td>\n",
       "      <td>12442.125121</td>\n",
       "      <td>1.0</td>\n",
       "      <td>Yes</td>\n",
       "      <td>Female</td>\n",
       "      <td>1978-05-23</td>\n",
       "      <td>DE</td>\n",
       "      <td>962-879-1238</td>\n",
       "      <td>Platinum</td>\n",
       "      <td>0</td>\n",
       "    </tr>\n",
       "    <tr>\n",
       "      <th>1</th>\n",
       "      <td>263204</td>\n",
       "      <td>2018-04-04</td>\n",
       "      <td>40953049</td>\n",
       "      <td>Other causes</td>\n",
       "      <td>Auto</td>\n",
       "      <td>No</td>\n",
       "      <td>Material and injury</td>\n",
       "      <td>39192.000000</td>\n",
       "      <td>1.0</td>\n",
       "      <td>Yes</td>\n",
       "      <td>Male</td>\n",
       "      <td>1972-12-20</td>\n",
       "      <td>TX</td>\n",
       "      <td>173-892-6314</td>\n",
       "      <td>Silver</td>\n",
       "      <td>0</td>\n",
       "    </tr>\n",
       "    <tr>\n",
       "      <th>2</th>\n",
       "      <td>287476</td>\n",
       "      <td>2017-10-17</td>\n",
       "      <td>45780237</td>\n",
       "      <td>Natural causes</td>\n",
       "      <td>Auto</td>\n",
       "      <td>Unknown</td>\n",
       "      <td>Material only</td>\n",
       "      <td>1621.500000</td>\n",
       "      <td>2.0</td>\n",
       "      <td>Yes</td>\n",
       "      <td>Male</td>\n",
       "      <td>1988-07-28</td>\n",
       "      <td>FL</td>\n",
       "      <td>364-598-1549</td>\n",
       "      <td>Silver</td>\n",
       "      <td>0</td>\n",
       "    </tr>\n",
       "    <tr>\n",
       "      <th>3</th>\n",
       "      <td>441097</td>\n",
       "      <td>2018-03-21</td>\n",
       "      <td>89833962</td>\n",
       "      <td>Other causes</td>\n",
       "      <td>Auto</td>\n",
       "      <td>Yes</td>\n",
       "      <td>Material and injury</td>\n",
       "      <td>37040.000000</td>\n",
       "      <td>1.0</td>\n",
       "      <td>No</td>\n",
       "      <td>Male</td>\n",
       "      <td>1971-08-19</td>\n",
       "      <td>CA</td>\n",
       "      <td>187-348-8375</td>\n",
       "      <td>Gold</td>\n",
       "      <td>1</td>\n",
       "    </tr>\n",
       "    <tr>\n",
       "      <th>4</th>\n",
       "      <td>524545</td>\n",
       "      <td>2018-07-27</td>\n",
       "      <td>35782742</td>\n",
       "      <td>Other driver error</td>\n",
       "      <td>Auto</td>\n",
       "      <td>No</td>\n",
       "      <td>Injury only</td>\n",
       "      <td>35250.000000</td>\n",
       "      <td>3.0</td>\n",
       "      <td>No</td>\n",
       "      <td>Female</td>\n",
       "      <td>1980-08-10</td>\n",
       "      <td>NC</td>\n",
       "      <td>798-862-5398</td>\n",
       "      <td>Gold</td>\n",
       "      <td>0</td>\n",
       "    </tr>\n",
       "    <tr>\n",
       "      <th>...</th>\n",
       "      <td>...</td>\n",
       "      <td>...</td>\n",
       "      <td>...</td>\n",
       "      <td>...</td>\n",
       "      <td>...</td>\n",
       "      <td>...</td>\n",
       "      <td>...</td>\n",
       "      <td>...</td>\n",
       "      <td>...</td>\n",
       "      <td>...</td>\n",
       "      <td>...</td>\n",
       "      <td>...</td>\n",
       "      <td>...</td>\n",
       "      <td>...</td>\n",
       "      <td>...</td>\n",
       "      <td>...</td>\n",
       "    </tr>\n",
       "    <tr>\n",
       "      <th>1073</th>\n",
       "      <td>99674324</td>\n",
       "      <td>2018-07-07</td>\n",
       "      <td>4549014</td>\n",
       "      <td>Other causes</td>\n",
       "      <td>Auto</td>\n",
       "      <td>No</td>\n",
       "      <td>Injury only</td>\n",
       "      <td>21480.000000</td>\n",
       "      <td>1.0</td>\n",
       "      <td>No</td>\n",
       "      <td>Male</td>\n",
       "      <td>1965-01-28</td>\n",
       "      <td>UT</td>\n",
       "      <td>517-562-4916</td>\n",
       "      <td>Silver</td>\n",
       "      <td>0</td>\n",
       "    </tr>\n",
       "    <tr>\n",
       "      <th>1074</th>\n",
       "      <td>99723844</td>\n",
       "      <td>2018-01-06</td>\n",
       "      <td>35453672</td>\n",
       "      <td>Natural causes</td>\n",
       "      <td>Auto</td>\n",
       "      <td>Yes</td>\n",
       "      <td>Material and injury</td>\n",
       "      <td>14360.000000</td>\n",
       "      <td>1.0</td>\n",
       "      <td>No</td>\n",
       "      <td>Female</td>\n",
       "      <td>1966-06-19</td>\n",
       "      <td>HI</td>\n",
       "      <td>457-752-1374</td>\n",
       "      <td>Gold</td>\n",
       "      <td>1</td>\n",
       "    </tr>\n",
       "    <tr>\n",
       "      <th>1075</th>\n",
       "      <td>99761663</td>\n",
       "      <td>2018-04-04</td>\n",
       "      <td>37305754</td>\n",
       "      <td>Natural causes</td>\n",
       "      <td>Auto</td>\n",
       "      <td>No</td>\n",
       "      <td>Material only</td>\n",
       "      <td>1242.000000</td>\n",
       "      <td>1.0</td>\n",
       "      <td>Yes</td>\n",
       "      <td>Female</td>\n",
       "      <td>1963-11-18</td>\n",
       "      <td>NC</td>\n",
       "      <td>643-246-4718</td>\n",
       "      <td>Silver</td>\n",
       "      <td>0</td>\n",
       "    </tr>\n",
       "    <tr>\n",
       "      <th>1076</th>\n",
       "      <td>99892000</td>\n",
       "      <td>2017-11-13</td>\n",
       "      <td>22960702</td>\n",
       "      <td>Driver error</td>\n",
       "      <td>Auto</td>\n",
       "      <td>No</td>\n",
       "      <td>Material only</td>\n",
       "      <td>2415.000000</td>\n",
       "      <td>2.0</td>\n",
       "      <td>Yes</td>\n",
       "      <td>Male</td>\n",
       "      <td>1995-06-08</td>\n",
       "      <td>OR</td>\n",
       "      <td>395-246-6172</td>\n",
       "      <td>Gold</td>\n",
       "      <td>0</td>\n",
       "    </tr>\n",
       "    <tr>\n",
       "      <th>1077</th>\n",
       "      <td>99961993</td>\n",
       "      <td>2018-10-23</td>\n",
       "      <td>47262068</td>\n",
       "      <td>Driver error</td>\n",
       "      <td>Home</td>\n",
       "      <td>No</td>\n",
       "      <td>Material only</td>\n",
       "      <td>2310.000000</td>\n",
       "      <td>1.0</td>\n",
       "      <td>No</td>\n",
       "      <td>Male</td>\n",
       "      <td>1995-06-10</td>\n",
       "      <td>AL</td>\n",
       "      <td>234-943-2876</td>\n",
       "      <td>Platinum</td>\n",
       "      <td>0</td>\n",
       "    </tr>\n",
       "  </tbody>\n",
       "</table>\n",
       "<p>1078 rows × 16 columns</p>\n",
       "</div>"
      ],
      "text/plain": [
       "      customer_id claim_date  claim_id      incident_cause claim_area  \\\n",
       "0          154557 2018-04-10  69348631        Driver error       Auto   \n",
       "1          263204 2018-04-04  40953049        Other causes       Auto   \n",
       "2          287476 2017-10-17  45780237      Natural causes       Auto   \n",
       "3          441097 2018-03-21  89833962        Other causes       Auto   \n",
       "4          524545 2018-07-27  35782742  Other driver error       Auto   \n",
       "...           ...        ...       ...                 ...        ...   \n",
       "1073     99674324 2018-07-07   4549014        Other causes       Auto   \n",
       "1074     99723844 2018-01-06  35453672      Natural causes       Auto   \n",
       "1075     99761663 2018-04-04  37305754      Natural causes       Auto   \n",
       "1076     99892000 2017-11-13  22960702        Driver error       Auto   \n",
       "1077     99961993 2018-10-23  47262068        Driver error       Home   \n",
       "\n",
       "     police_report           claim_type  claim_amount  total_policy_claims  \\\n",
       "0               No          Injury only  12442.125121                  1.0   \n",
       "1               No  Material and injury  39192.000000                  1.0   \n",
       "2          Unknown        Material only   1621.500000                  2.0   \n",
       "3              Yes  Material and injury  37040.000000                  1.0   \n",
       "4               No          Injury only  35250.000000                  3.0   \n",
       "...            ...                  ...           ...                  ...   \n",
       "1073            No          Injury only  21480.000000                  1.0   \n",
       "1074           Yes  Material and injury  14360.000000                  1.0   \n",
       "1075            No        Material only   1242.000000                  1.0   \n",
       "1076            No        Material only   2415.000000                  2.0   \n",
       "1077            No        Material only   2310.000000                  1.0   \n",
       "\n",
       "     fraudulent  gender DateOfBirth State       Contact   Segment  Report_flag  \n",
       "0           Yes  Female  1978-05-23    DE  962-879-1238  Platinum            0  \n",
       "1           Yes    Male  1972-12-20    TX  173-892-6314    Silver            0  \n",
       "2           Yes    Male  1988-07-28    FL  364-598-1549    Silver            0  \n",
       "3            No    Male  1971-08-19    CA  187-348-8375      Gold            1  \n",
       "4            No  Female  1980-08-10    NC  798-862-5398      Gold            0  \n",
       "...         ...     ...         ...   ...           ...       ...          ...  \n",
       "1073         No    Male  1965-01-28    UT  517-562-4916    Silver            0  \n",
       "1074         No  Female  1966-06-19    HI  457-752-1374      Gold            1  \n",
       "1075        Yes  Female  1963-11-18    NC  643-246-4718    Silver            0  \n",
       "1076        Yes    Male  1995-06-08    OR  395-246-6172      Gold            0  \n",
       "1077         No    Male  1995-06-10    AL  234-943-2876  Platinum            0  \n",
       "\n",
       "[1078 rows x 16 columns]"
      ]
     },
     "execution_count": 117,
     "metadata": {},
     "output_type": "execute_result"
    }
   ],
   "source": [
    "Customer_claim_data"
   ]
  },
  {
   "cell_type": "markdown",
   "id": "beabf655-2fc2-4715-b0d8-b92363adb7d5",
   "metadata": {},
   "source": [
    "### # Thus we have generated a final data set called Customer_claim_data table.But it still requires outlier treatment."
   ]
  },
  {
   "cell_type": "markdown",
   "id": "b203090a-7a41-42ff-9e2a-81e63f09a779",
   "metadata": {},
   "source": [
    "### Outlier treatment:"
   ]
  },
  {
   "cell_type": "code",
   "execution_count": 121,
   "id": "9f003099-c1d9-4bb7-bb7d-f760ca7f1bc4",
   "metadata": {},
   "outputs": [
    {
     "data": {
      "image/png": "[encoded data removed]",
      "text/plain": [
       "<Figure size 640x480 with 1 Axes>"
      ]
     },
     "metadata": {},
     "output_type": "display_data"
    },
    {
     "data": {
      "image/png": "[encoded data removed]",
      "text/plain": [
       "<Figure size 640x480 with 1 Axes>"
      ]
     },
     "metadata": {},
     "output_type": "display_data"
    },
    {
     "data": {
      "image/png": "[encoded data removed]",
      "text/plain": [
       "<Figure size 640x480 with 1 Axes>"
      ]
     },
     "metadata": {},
     "output_type": "display_data"
    },
    {
     "data": {
      "image/png": "[encoded data removed]",
      "text/plain": [
       "<Figure size 640x480 with 1 Axes>"
      ]
     },
     "metadata": {},
     "output_type": "display_data"
    },
    {
     "data": {
      "image/png": "[encoded data removed]",
      "text/plain": [
       "<Figure size 640x480 with 1 Axes>"
      ]
     },
     "metadata": {},
     "output_type": "display_data"
    },
    {
     "data": {
      "image/png": "[encoded data removed]",
      "text/plain": [
       "<Figure size 640x480 with 1 Axes>"
      ]
     },
     "metadata": {},
     "output_type": "display_data"
    },
    {
     "data": {
      "image/png": "[encoded data removed]",
      "text/plain": [
       "<Figure size 640x480 with 1 Axes>"
      ]
     },
     "metadata": {},
     "output_type": "display_data"
    },
    {
     "data": {
      "image/png": "[encoded data removed]",
      "text/plain": [
       "<Figure size 640x480 with 1 Axes>"
      ]
     },
     "metadata": {},
     "output_type": "display_data"
    },
    {
     "data": {
      "image/png": "[encoded data removed]",
      "text/plain": [
       "<Figure size 640x480 with 1 Axes>"
      ]
     },
     "metadata": {},
     "output_type": "display_data"
    },
    {
     "data": {
      "image/png": "[encoded data removed]",
      "text/plain": [
       "<Figure size 640x480 with 1 Axes>"
      ]
     },
     "metadata": {},
     "output_type": "display_data"
    },
    {
     "data": {
      "image/png": "[encoded data removed]",
      "text/plain": [
       "<Figure size 640x480 with 1 Axes>"
      ]
     },
     "metadata": {},
     "output_type": "display_data"
    },
    {
     "data": {
      "image/png": "[encoded data removed]",
      "text/plain": [
       "<Figure size 640x480 with 1 Axes>"
      ]
     },
     "metadata": {},
     "output_type": "display_data"
    },
    {
     "data": {
      "image/png": "[encoded data removed]",
      "text/plain": [
       "<Figure size 640x480 with 1 Axes>"
      ]
     },
     "metadata": {},
     "output_type": "display_data"
    },
    {
     "data": {
      "image/png": "[encoded data removed]",
      "text/plain": [
       "<Figure size 640x480 with 1 Axes>"
      ]
     },
     "metadata": {},
     "output_type": "display_data"
    },
    {
     "data": {
      "image/png": "[encoded data removed]",
      "text/plain": [
       "<Figure size 640x480 with 1 Axes>"
      ]
     },
     "metadata": {},
     "output_type": "display_data"
    },
    {
     "data": {
      "image/png": "[encoded data removed]",
      "text/plain": [
       "<Figure size 640x480 with 1 Axes>"
      ]
     },
     "metadata": {},
     "output_type": "display_data"
    }
   ],
   "source": [
    "for i in Customer_claim_data:\n",
    "    sns.boxplot(Customer_claim_data,x=Customer_claim_data[i])\n",
    "    plt.show()"
   ]
  },
  {
   "cell_type": "code",
   "execution_count": 123,
   "id": "9dc86acb-2278-4bcd-bbad-db0d4f340575",
   "metadata": {},
   "outputs": [],
   "source": [
    "for i in Customer_claim_data:\n",
    "    if Customer_claim_data[i].dtypes in ('float64','int64'):\n",
    "        Q1= Customer_claim_data[i].quantile(0.25)\n",
    "        Q3 = Customer_claim_data[i].quantile(0.75)\n",
    "        IQR = Q3-Q1\n",
    "        upper_l = Q3 +(1.5*IQR)\n",
    "        lower_l = Q1 - (1.5*IQR)\n",
    "        Customer_claim_data[i]= Customer_claim_data[i].clip(lower=lower_l,upper =upper_l )"
   ]
  },
  {
   "cell_type": "code",
   "execution_count": 125,
   "id": "c235768c-369c-4682-a1c9-94486c034fc5",
   "metadata": {},
   "outputs": [
    {
     "data": {
      "image/png": "[encoded data removed]",
      "text/plain": [
       "<Figure size 640x480 with 1 Axes>"
      ]
     },
     "metadata": {},
     "output_type": "display_data"
    },
    {
     "data": {
      "image/png": "[encoded data removed]",
      "text/plain": [
       "<Figure size 640x480 with 1 Axes>"
      ]
     },
     "metadata": {},
     "output_type": "display_data"
    },
    {
     "data": {
      "image/png": "[encoded data removed]",
      "text/plain": [
       "<Figure size 640x480 with 1 Axes>"
      ]
     },
     "metadata": {},
     "output_type": "display_data"
    },
    {
     "data": {
      "image/png": "[encoded data removed]",
      "text/plain": [
       "<Figure size 640x480 with 1 Axes>"
      ]
     },
     "metadata": {},
     "output_type": "display_data"
    },
    {
     "data": {
      "image/png": "[encoded data removed]",
      "text/plain": [
       "<Figure size 640x480 with 1 Axes>"
      ]
     },
     "metadata": {},
     "output_type": "display_data"
    },
    {
     "data": {
      "image/png": "[encoded data removed]",
      "text/plain": [
       "<Figure size 640x480 with 1 Axes>"
      ]
     },
     "metadata": {},
     "output_type": "display_data"
    },
    {
     "data": {
      "image/png": "[encoded data removed]",
      "text/plain": [
       "<Figure size 640x480 with 1 Axes>"
      ]
     },
     "metadata": {},
     "output_type": "display_data"
    },
    {
     "data": {
      "image/png": "[encoded data removed]",
      "text/plain": [
       "<Figure size 640x480 with 1 Axes>"
      ]
     },
     "metadata": {},
     "output_type": "display_data"
    },
    {
     "data": {
      "image/png": "[encoded data removed]",
      "text/plain": [
       "<Figure size 640x480 with 1 Axes>"
      ]
     },
     "metadata": {},
     "output_type": "display_data"
    },
    {
     "data": {
      "image/png": "[encoded data removed]",
      "text/plain": [
       "<Figure size 640x480 with 1 Axes>"
      ]
     },
     "metadata": {},
     "output_type": "display_data"
    },
    {
     "data": {
      "image/png": "[encoded data removed]",
      "text/plain": [
       "<Figure size 640x480 with 1 Axes>"
      ]
     },
     "metadata": {},
     "output_type": "display_data"
    },
    {
     "data": {
      "image/png": "[encoded data removed]",
      "text/plain": [
       "<Figure size 640x480 with 1 Axes>"
      ]
     },
     "metadata": {},
     "output_type": "display_data"
    },
    {
     "data": {
      "image/png": "[encoded data removed]",
      "text/plain": [
       "<Figure size 640x480 with 1 Axes>"
      ]
     },
     "metadata": {},
     "output_type": "display_data"
    },
    {
     "data": {
      "image/png": "[encoded data removed]",
      "text/plain": [
       "<Figure size 640x480 with 1 Axes>"
      ]
     },
     "metadata": {},
     "output_type": "display_data"
    },
    {
     "data": {
      "image/png": "[encoded data removed]",
      "text/plain": [
       "<Figure size 640x480 with 1 Axes>"
      ]
     },
     "metadata": {},
     "output_type": "display_data"
    },
    {
     "data": {
      "image/png": "[encoded data removed]",
      "text/plain": [
       "<Figure size 640x480 with 1 Axes>"
      ]
     },
     "metadata": {},
     "output_type": "display_data"
    }
   ],
   "source": [
    "for i in Customer_claim_data:\n",
    "    sns.boxplot(Customer_claim_data,x=Customer_claim_data[i])\n",
    "    plt.show()"
   ]
  },
  {
   "cell_type": "markdown",
   "id": "886bfa5d-7d7f-40db-ad16-cf3761c22bab",
   "metadata": {},
   "source": [
    "#### The dataset has been cleaned , followed by outlier treatment . It is ready for further analysis."
   ]
  },
  {
   "cell_type": "markdown",
   "id": "4d45db73-131d-47f4-85b7-bec3188a13a1",
   "metadata": {},
   "source": [
    "### 7. Calculate the age of customers in years, Based on the age categorize the customers according to the below criteria"
   ]
  },
  {
   "cell_type": "markdown",
   "id": "d6016792-38c3-4a10-af76-b2be0d40bd18",
   "metadata": {},
   "source": [
    "#### Children  < 18   Youth  18-30  ; Adult :30-60   Senior  : > 60"
   ]
  },
  {
   "cell_type": "code",
   "execution_count": 132,
   "id": "0679e865-58af-4173-a9af-47b00406917b",
   "metadata": {},
   "outputs": [],
   "source": [
    "Customer_claim_data['Age']= pd.Timestamp.today().year- Customer_claim_data.DateOfBirth.dt.year"
   ]
  },
  {
   "cell_type": "code",
   "execution_count": 134,
   "id": "2febf9ed-e77a-4ce5-96f4-04fa09395eea",
   "metadata": {},
   "outputs": [],
   "source": [
    "Customer_claim_data['Life_stage'] = np.where((Customer_claim_data.Age>=18) &(Customer_claim_data.Age<30),'Youth',np.where((Customer_claim_data.Age>=30) &(Customer_claim_data.Age<=60),'Adult','Senior'))"
   ]
  },
  {
   "cell_type": "code",
   "execution_count": 136,
   "id": "d2cfc8b3-2bf1-4889-bc5f-f68d2b2220f0",
   "metadata": {},
   "outputs": [
    {
     "data": {
      "text/html": [
       "<div>\n",
       "<style scoped>\n",
       "    .dataframe tbody tr th:only-of-type {\n",
       "        vertical-align: middle;\n",
       "    }\n",
       "\n",
       "    .dataframe tbody tr th {\n",
       "        vertical-align: top;\n",
       "    }\n",
       "\n",
       "    .dataframe thead th {\n",
       "        text-align: right;\n",
       "    }\n",
       "</style>\n",
       "<table border=\"1\" class=\"dataframe\">\n",
       "  <thead>\n",
       "    <tr style=\"text-align: right;\">\n",
       "      <th></th>\n",
       "      <th>customer_id</th>\n",
       "      <th>claim_date</th>\n",
       "      <th>claim_id</th>\n",
       "      <th>incident_cause</th>\n",
       "      <th>claim_area</th>\n",
       "      <th>police_report</th>\n",
       "      <th>claim_type</th>\n",
       "      <th>claim_amount</th>\n",
       "      <th>total_policy_claims</th>\n",
       "      <th>fraudulent</th>\n",
       "      <th>gender</th>\n",
       "      <th>DateOfBirth</th>\n",
       "      <th>State</th>\n",
       "      <th>Contact</th>\n",
       "      <th>Segment</th>\n",
       "      <th>Report_flag</th>\n",
       "      <th>Age</th>\n",
       "      <th>Life_stage</th>\n",
       "    </tr>\n",
       "  </thead>\n",
       "  <tbody>\n",
       "    <tr>\n",
       "      <th>0</th>\n",
       "      <td>154557</td>\n",
       "      <td>2018-04-10</td>\n",
       "      <td>69348631</td>\n",
       "      <td>Driver error</td>\n",
       "      <td>Auto</td>\n",
       "      <td>No</td>\n",
       "      <td>Injury only</td>\n",
       "      <td>12442.125121</td>\n",
       "      <td>1.0</td>\n",
       "      <td>Yes</td>\n",
       "      <td>Female</td>\n",
       "      <td>1978-05-23</td>\n",
       "      <td>DE</td>\n",
       "      <td>962-879-1238</td>\n",
       "      <td>Platinum</td>\n",
       "      <td>0</td>\n",
       "      <td>47</td>\n",
       "      <td>Adult</td>\n",
       "    </tr>\n",
       "    <tr>\n",
       "      <th>1</th>\n",
       "      <td>263204</td>\n",
       "      <td>2018-04-04</td>\n",
       "      <td>40953049</td>\n",
       "      <td>Other causes</td>\n",
       "      <td>Auto</td>\n",
       "      <td>No</td>\n",
       "      <td>Material and injury</td>\n",
       "      <td>39192.000000</td>\n",
       "      <td>1.0</td>\n",
       "      <td>Yes</td>\n",
       "      <td>Male</td>\n",
       "      <td>1972-12-20</td>\n",
       "      <td>TX</td>\n",
       "      <td>173-892-6314</td>\n",
       "      <td>Silver</td>\n",
       "      <td>0</td>\n",
       "      <td>53</td>\n",
       "      <td>Adult</td>\n",
       "    </tr>\n",
       "    <tr>\n",
       "      <th>2</th>\n",
       "      <td>287476</td>\n",
       "      <td>2017-10-17</td>\n",
       "      <td>45780237</td>\n",
       "      <td>Natural causes</td>\n",
       "      <td>Auto</td>\n",
       "      <td>Unknown</td>\n",
       "      <td>Material only</td>\n",
       "      <td>1621.500000</td>\n",
       "      <td>2.0</td>\n",
       "      <td>Yes</td>\n",
       "      <td>Male</td>\n",
       "      <td>1988-07-28</td>\n",
       "      <td>FL</td>\n",
       "      <td>364-598-1549</td>\n",
       "      <td>Silver</td>\n",
       "      <td>0</td>\n",
       "      <td>37</td>\n",
       "      <td>Adult</td>\n",
       "    </tr>\n",
       "    <tr>\n",
       "      <th>3</th>\n",
       "      <td>441097</td>\n",
       "      <td>2018-03-21</td>\n",
       "      <td>89833962</td>\n",
       "      <td>Other causes</td>\n",
       "      <td>Auto</td>\n",
       "      <td>Yes</td>\n",
       "      <td>Material and injury</td>\n",
       "      <td>37040.000000</td>\n",
       "      <td>1.0</td>\n",
       "      <td>No</td>\n",
       "      <td>Male</td>\n",
       "      <td>1971-08-19</td>\n",
       "      <td>CA</td>\n",
       "      <td>187-348-8375</td>\n",
       "      <td>Gold</td>\n",
       "      <td>1</td>\n",
       "      <td>54</td>\n",
       "      <td>Adult</td>\n",
       "    </tr>\n",
       "    <tr>\n",
       "      <th>4</th>\n",
       "      <td>524545</td>\n",
       "      <td>2018-07-27</td>\n",
       "      <td>35782742</td>\n",
       "      <td>Other driver error</td>\n",
       "      <td>Auto</td>\n",
       "      <td>No</td>\n",
       "      <td>Injury only</td>\n",
       "      <td>35250.000000</td>\n",
       "      <td>3.0</td>\n",
       "      <td>No</td>\n",
       "      <td>Female</td>\n",
       "      <td>1980-08-10</td>\n",
       "      <td>NC</td>\n",
       "      <td>798-862-5398</td>\n",
       "      <td>Gold</td>\n",
       "      <td>0</td>\n",
       "      <td>45</td>\n",
       "      <td>Adult</td>\n",
       "    </tr>\n",
       "    <tr>\n",
       "      <th>...</th>\n",
       "      <td>...</td>\n",
       "      <td>...</td>\n",
       "      <td>...</td>\n",
       "      <td>...</td>\n",
       "      <td>...</td>\n",
       "      <td>...</td>\n",
       "      <td>...</td>\n",
       "      <td>...</td>\n",
       "      <td>...</td>\n",
       "      <td>...</td>\n",
       "      <td>...</td>\n",
       "      <td>...</td>\n",
       "      <td>...</td>\n",
       "      <td>...</td>\n",
       "      <td>...</td>\n",
       "      <td>...</td>\n",
       "      <td>...</td>\n",
       "      <td>...</td>\n",
       "    </tr>\n",
       "    <tr>\n",
       "      <th>1073</th>\n",
       "      <td>99674324</td>\n",
       "      <td>2018-07-07</td>\n",
       "      <td>4549014</td>\n",
       "      <td>Other causes</td>\n",
       "      <td>Auto</td>\n",
       "      <td>No</td>\n",
       "      <td>Injury only</td>\n",
       "      <td>21480.000000</td>\n",
       "      <td>1.0</td>\n",
       "      <td>No</td>\n",
       "      <td>Male</td>\n",
       "      <td>1965-01-28</td>\n",
       "      <td>UT</td>\n",
       "      <td>517-562-4916</td>\n",
       "      <td>Silver</td>\n",
       "      <td>0</td>\n",
       "      <td>60</td>\n",
       "      <td>Adult</td>\n",
       "    </tr>\n",
       "    <tr>\n",
       "      <th>1074</th>\n",
       "      <td>99723844</td>\n",
       "      <td>2018-01-06</td>\n",
       "      <td>35453672</td>\n",
       "      <td>Natural causes</td>\n",
       "      <td>Auto</td>\n",
       "      <td>Yes</td>\n",
       "      <td>Material and injury</td>\n",
       "      <td>14360.000000</td>\n",
       "      <td>1.0</td>\n",
       "      <td>No</td>\n",
       "      <td>Female</td>\n",
       "      <td>1966-06-19</td>\n",
       "      <td>HI</td>\n",
       "      <td>457-752-1374</td>\n",
       "      <td>Gold</td>\n",
       "      <td>1</td>\n",
       "      <td>59</td>\n",
       "      <td>Adult</td>\n",
       "    </tr>\n",
       "    <tr>\n",
       "      <th>1075</th>\n",
       "      <td>99761663</td>\n",
       "      <td>2018-04-04</td>\n",
       "      <td>37305754</td>\n",
       "      <td>Natural causes</td>\n",
       "      <td>Auto</td>\n",
       "      <td>No</td>\n",
       "      <td>Material only</td>\n",
       "      <td>1242.000000</td>\n",
       "      <td>1.0</td>\n",
       "      <td>Yes</td>\n",
       "      <td>Female</td>\n",
       "      <td>1963-11-18</td>\n",
       "      <td>NC</td>\n",
       "      <td>643-246-4718</td>\n",
       "      <td>Silver</td>\n",
       "      <td>0</td>\n",
       "      <td>62</td>\n",
       "      <td>Senior</td>\n",
       "    </tr>\n",
       "    <tr>\n",
       "      <th>1076</th>\n",
       "      <td>99892000</td>\n",
       "      <td>2017-11-13</td>\n",
       "      <td>22960702</td>\n",
       "      <td>Driver error</td>\n",
       "      <td>Auto</td>\n",
       "      <td>No</td>\n",
       "      <td>Material only</td>\n",
       "      <td>2415.000000</td>\n",
       "      <td>2.0</td>\n",
       "      <td>Yes</td>\n",
       "      <td>Male</td>\n",
       "      <td>1995-06-08</td>\n",
       "      <td>OR</td>\n",
       "      <td>395-246-6172</td>\n",
       "      <td>Gold</td>\n",
       "      <td>0</td>\n",
       "      <td>30</td>\n",
       "      <td>Adult</td>\n",
       "    </tr>\n",
       "    <tr>\n",
       "      <th>1077</th>\n",
       "      <td>99961993</td>\n",
       "      <td>2018-10-23</td>\n",
       "      <td>47262068</td>\n",
       "      <td>Driver error</td>\n",
       "      <td>Home</td>\n",
       "      <td>No</td>\n",
       "      <td>Material only</td>\n",
       "      <td>2310.000000</td>\n",
       "      <td>1.0</td>\n",
       "      <td>No</td>\n",
       "      <td>Male</td>\n",
       "      <td>1995-06-10</td>\n",
       "      <td>AL</td>\n",
       "      <td>234-943-2876</td>\n",
       "      <td>Platinum</td>\n",
       "      <td>0</td>\n",
       "      <td>30</td>\n",
       "      <td>Adult</td>\n",
       "    </tr>\n",
       "  </tbody>\n",
       "</table>\n",
       "<p>1078 rows × 18 columns</p>\n",
       "</div>"
      ],
      "text/plain": [
       "      customer_id claim_date  claim_id      incident_cause claim_area  \\\n",
       "0          154557 2018-04-10  69348631        Driver error       Auto   \n",
       "1          263204 2018-04-04  40953049        Other causes       Auto   \n",
       "2          287476 2017-10-17  45780237      Natural causes       Auto   \n",
       "3          441097 2018-03-21  89833962        Other causes       Auto   \n",
       "4          524545 2018-07-27  35782742  Other driver error       Auto   \n",
       "...           ...        ...       ...                 ...        ...   \n",
       "1073     99674324 2018-07-07   4549014        Other causes       Auto   \n",
       "1074     99723844 2018-01-06  35453672      Natural causes       Auto   \n",
       "1075     99761663 2018-04-04  37305754      Natural causes       Auto   \n",
       "1076     99892000 2017-11-13  22960702        Driver error       Auto   \n",
       "1077     99961993 2018-10-23  47262068        Driver error       Home   \n",
       "\n",
       "     police_report           claim_type  claim_amount  total_policy_claims  \\\n",
       "0               No          Injury only  12442.125121                  1.0   \n",
       "1               No  Material and injury  39192.000000                  1.0   \n",
       "2          Unknown        Material only   1621.500000                  2.0   \n",
       "3              Yes  Material and injury  37040.000000                  1.0   \n",
       "4               No          Injury only  35250.000000                  3.0   \n",
       "...            ...                  ...           ...                  ...   \n",
       "1073            No          Injury only  21480.000000                  1.0   \n",
       "1074           Yes  Material and injury  14360.000000                  1.0   \n",
       "1075            No        Material only   1242.000000                  1.0   \n",
       "1076            No        Material only   2415.000000                  2.0   \n",
       "1077            No        Material only   2310.000000                  1.0   \n",
       "\n",
       "     fraudulent  gender DateOfBirth State       Contact   Segment  \\\n",
       "0           Yes  Female  1978-05-23    DE  962-879-1238  Platinum   \n",
       "1           Yes    Male  1972-12-20    TX  173-892-6314    Silver   \n",
       "2           Yes    Male  1988-07-28    FL  364-598-1549    Silver   \n",
       "3            No    Male  1971-08-19    CA  187-348-8375      Gold   \n",
       "4            No  Female  1980-08-10    NC  798-862-5398      Gold   \n",
       "...         ...     ...         ...   ...           ...       ...   \n",
       "1073         No    Male  1965-01-28    UT  517-562-4916    Silver   \n",
       "1074         No  Female  1966-06-19    HI  457-752-1374      Gold   \n",
       "1075        Yes  Female  1963-11-18    NC  643-246-4718    Silver   \n",
       "1076        Yes    Male  1995-06-08    OR  395-246-6172      Gold   \n",
       "1077         No    Male  1995-06-10    AL  234-943-2876  Platinum   \n",
       "\n",
       "      Report_flag  Age Life_stage  \n",
       "0               0   47      Adult  \n",
       "1               0   53      Adult  \n",
       "2               0   37      Adult  \n",
       "3               1   54      Adult  \n",
       "4               0   45      Adult  \n",
       "...           ...  ...        ...  \n",
       "1073            0   60      Adult  \n",
       "1074            1   59      Adult  \n",
       "1075            0   62     Senior  \n",
       "1076            0   30      Adult  \n",
       "1077            0   30      Adult  \n",
       "\n",
       "[1078 rows x 18 columns]"
      ]
     },
     "execution_count": 136,
     "metadata": {},
     "output_type": "execute_result"
    }
   ],
   "source": [
    "Customer_claim_data"
   ]
  },
  {
   "cell_type": "markdown",
   "id": "db060cc2-6a87-4bd0-a590-fcefacd0ccd9",
   "metadata": {},
   "source": [
    "### 8 .What is the average amount claimed by the customers from various segments"
   ]
  },
  {
   "cell_type": "code",
   "execution_count": 139,
   "id": "8c717834-d9a1-442d-9b4d-92e041fda050",
   "metadata": {},
   "outputs": [
    {
     "data": {
      "text/html": [
       "<div>\n",
       "<style scoped>\n",
       "    .dataframe tbody tr th:only-of-type {\n",
       "        vertical-align: middle;\n",
       "    }\n",
       "\n",
       "    .dataframe tbody tr th {\n",
       "        vertical-align: top;\n",
       "    }\n",
       "\n",
       "    .dataframe thead th {\n",
       "        text-align: right;\n",
       "    }\n",
       "</style>\n",
       "<table border=\"1\" class=\"dataframe\">\n",
       "  <thead>\n",
       "    <tr style=\"text-align: right;\">\n",
       "      <th></th>\n",
       "      <th>Segment</th>\n",
       "      <th>claim_amount</th>\n",
       "    </tr>\n",
       "  </thead>\n",
       "  <tbody>\n",
       "    <tr>\n",
       "      <th>0</th>\n",
       "      <td>Gold</td>\n",
       "      <td>12842.865910</td>\n",
       "    </tr>\n",
       "    <tr>\n",
       "      <th>1</th>\n",
       "      <td>Platinum</td>\n",
       "      <td>12369.178329</td>\n",
       "    </tr>\n",
       "    <tr>\n",
       "      <th>2</th>\n",
       "      <td>Silver</td>\n",
       "      <td>12263.036137</td>\n",
       "    </tr>\n",
       "  </tbody>\n",
       "</table>\n",
       "</div>"
      ],
      "text/plain": [
       "    Segment  claim_amount\n",
       "0      Gold  12842.865910\n",
       "1  Platinum  12369.178329\n",
       "2    Silver  12263.036137"
      ]
     },
     "execution_count": 139,
     "metadata": {},
     "output_type": "execute_result"
    }
   ],
   "source": [
    "Customer_claim_data.pivot_table(index = 'Segment', values = 'claim_amount' ,aggfunc = 'mean').reset_index()"
   ]
  },
  {
   "cell_type": "markdown",
   "id": "023997dc-4287-41b1-b06c-84693671cd76",
   "metadata": {},
   "source": [
    "#### # Customers from gold segment had the highest average claim amount , followed by Platinum and silver."
   ]
  },
  {
   "cell_type": "markdown",
   "id": "4e489f19-9767-4a5f-9782-280835615ad8",
   "metadata": {},
   "source": [
    "### 9. What is the total claim amount based on incident cause for all the claims that have been done at least 20 days prior to 1st of October, 2018"
   ]
  },
  {
   "cell_type": "code",
   "execution_count": 143,
   "id": "31262fde-d686-488a-8776-3de2ab6254cf",
   "metadata": {},
   "outputs": [
    {
     "data": {
      "text/html": [
       "<div>\n",
       "<style scoped>\n",
       "    .dataframe tbody tr th:only-of-type {\n",
       "        vertical-align: middle;\n",
       "    }\n",
       "\n",
       "    .dataframe tbody tr th {\n",
       "        vertical-align: top;\n",
       "    }\n",
       "\n",
       "    .dataframe thead th {\n",
       "        text-align: right;\n",
       "    }\n",
       "</style>\n",
       "<table border=\"1\" class=\"dataframe\">\n",
       "  <thead>\n",
       "    <tr style=\"text-align: right;\">\n",
       "      <th></th>\n",
       "      <th>incident_cause</th>\n",
       "      <th>claim_amount</th>\n",
       "    </tr>\n",
       "  </thead>\n",
       "  <tbody>\n",
       "    <tr>\n",
       "      <th>0</th>\n",
       "      <td>Crime</td>\n",
       "      <td>7.216406e+05</td>\n",
       "    </tr>\n",
       "    <tr>\n",
       "      <th>1</th>\n",
       "      <td>Driver error</td>\n",
       "      <td>3.315136e+06</td>\n",
       "    </tr>\n",
       "    <tr>\n",
       "      <th>2</th>\n",
       "      <td>Natural causes</td>\n",
       "      <td>1.312451e+06</td>\n",
       "    </tr>\n",
       "    <tr>\n",
       "      <th>3</th>\n",
       "      <td>Other causes</td>\n",
       "      <td>3.722019e+06</td>\n",
       "    </tr>\n",
       "    <tr>\n",
       "      <th>4</th>\n",
       "      <td>Other driver error</td>\n",
       "      <td>3.276762e+06</td>\n",
       "    </tr>\n",
       "  </tbody>\n",
       "</table>\n",
       "</div>"
      ],
      "text/plain": [
       "       incident_cause  claim_amount\n",
       "0               Crime  7.216406e+05\n",
       "1        Driver error  3.315136e+06\n",
       "2      Natural causes  1.312451e+06\n",
       "3        Other causes  3.722019e+06\n",
       "4  Other driver error  3.276762e+06"
      ]
     },
     "execution_count": 143,
     "metadata": {},
     "output_type": "execute_result"
    }
   ],
   "source": [
    "Customer_claim_data[Customer_claim_data.claim_date <=(pd.Timestamp(day = 1 , month = 10 , year = 2018 ) - pd.DateOffset(days = 20 ))].pivot_table(index = 'incident_cause', values = 'claim_amount', aggfunc= 'sum').reset_index()"
   ]
  },
  {
   "cell_type": "code",
   "execution_count": 145,
   "id": "b1811968-9142-491d-ada4-d5921aaa75e3",
   "metadata": {},
   "outputs": [
    {
     "data": {
      "text/plain": [
       "Timestamp('2018-09-11 00:00:00')"
      ]
     },
     "execution_count": 145,
     "metadata": {},
     "output_type": "execute_result"
    }
   ],
   "source": [
    "pd.Timestamp(day = 1 , month = 10 , year = 2018 ) - pd.DateOffset(days = 20 )"
   ]
  },
  {
   "cell_type": "markdown",
   "id": "228d83a0-fc2e-4ef9-a098-adf62e3b2305",
   "metadata": {},
   "source": [
    "### 10. How many adults from TX, DE and AK claimed insurance for driver related issues and causes?"
   ]
  },
  {
   "cell_type": "code",
   "execution_count": 148,
   "id": "27435f94-d0db-42ff-8eb4-e54de9209549",
   "metadata": {},
   "outputs": [
    {
     "data": {
      "text/html": [
       "<div>\n",
       "<style scoped>\n",
       "    .dataframe tbody tr th:only-of-type {\n",
       "        vertical-align: middle;\n",
       "    }\n",
       "\n",
       "    .dataframe tbody tr th {\n",
       "        vertical-align: top;\n",
       "    }\n",
       "\n",
       "    .dataframe thead th {\n",
       "        text-align: right;\n",
       "    }\n",
       "</style>\n",
       "<table border=\"1\" class=\"dataframe\">\n",
       "  <thead>\n",
       "    <tr style=\"text-align: right;\">\n",
       "      <th></th>\n",
       "      <th>customer_id</th>\n",
       "      <th>claim_date</th>\n",
       "      <th>claim_id</th>\n",
       "      <th>incident_cause</th>\n",
       "      <th>claim_area</th>\n",
       "      <th>police_report</th>\n",
       "      <th>claim_type</th>\n",
       "      <th>claim_amount</th>\n",
       "      <th>total_policy_claims</th>\n",
       "      <th>fraudulent</th>\n",
       "      <th>gender</th>\n",
       "      <th>DateOfBirth</th>\n",
       "      <th>State</th>\n",
       "      <th>Contact</th>\n",
       "      <th>Segment</th>\n",
       "      <th>Report_flag</th>\n",
       "      <th>Age</th>\n",
       "      <th>Life_stage</th>\n",
       "    </tr>\n",
       "  </thead>\n",
       "  <tbody>\n",
       "    <tr>\n",
       "      <th>0</th>\n",
       "      <td>154557</td>\n",
       "      <td>2018-04-10</td>\n",
       "      <td>69348631</td>\n",
       "      <td>Driver error</td>\n",
       "      <td>Auto</td>\n",
       "      <td>No</td>\n",
       "      <td>Injury only</td>\n",
       "      <td>12442.125121</td>\n",
       "      <td>1.0</td>\n",
       "      <td>Yes</td>\n",
       "      <td>Female</td>\n",
       "      <td>1978-05-23</td>\n",
       "      <td>DE</td>\n",
       "      <td>962-879-1238</td>\n",
       "      <td>Platinum</td>\n",
       "      <td>0</td>\n",
       "      <td>47</td>\n",
       "      <td>Adult</td>\n",
       "    </tr>\n",
       "    <tr>\n",
       "      <th>6</th>\n",
       "      <td>684748</td>\n",
       "      <td>2018-07-14</td>\n",
       "      <td>7238381</td>\n",
       "      <td>Other driver error</td>\n",
       "      <td>Auto</td>\n",
       "      <td>No</td>\n",
       "      <td>Material only</td>\n",
       "      <td>2920.000000</td>\n",
       "      <td>2.0</td>\n",
       "      <td>No</td>\n",
       "      <td>Male</td>\n",
       "      <td>1977-08-03</td>\n",
       "      <td>AK</td>\n",
       "      <td>613-385-2863</td>\n",
       "      <td>Gold</td>\n",
       "      <td>0</td>\n",
       "      <td>48</td>\n",
       "      <td>Adult</td>\n",
       "    </tr>\n",
       "    <tr>\n",
       "      <th>22</th>\n",
       "      <td>2632562</td>\n",
       "      <td>2018-05-14</td>\n",
       "      <td>4506676</td>\n",
       "      <td>Other driver error</td>\n",
       "      <td>Home</td>\n",
       "      <td>Unknown</td>\n",
       "      <td>Material only</td>\n",
       "      <td>1400.000000</td>\n",
       "      <td>1.0</td>\n",
       "      <td>No</td>\n",
       "      <td>Female</td>\n",
       "      <td>1985-12-14</td>\n",
       "      <td>AK</td>\n",
       "      <td>498-597-9658</td>\n",
       "      <td>Platinum</td>\n",
       "      <td>0</td>\n",
       "      <td>40</td>\n",
       "      <td>Adult</td>\n",
       "    </tr>\n",
       "    <tr>\n",
       "      <th>28</th>\n",
       "      <td>3159546</td>\n",
       "      <td>2017-04-25</td>\n",
       "      <td>26716331</td>\n",
       "      <td>Other driver error</td>\n",
       "      <td>Auto</td>\n",
       "      <td>No</td>\n",
       "      <td>Injury only</td>\n",
       "      <td>17590.000000</td>\n",
       "      <td>3.5</td>\n",
       "      <td>No</td>\n",
       "      <td>Male</td>\n",
       "      <td>1987-10-20</td>\n",
       "      <td>TX</td>\n",
       "      <td>586-129-9752</td>\n",
       "      <td>Platinum</td>\n",
       "      <td>0</td>\n",
       "      <td>38</td>\n",
       "      <td>Adult</td>\n",
       "    </tr>\n",
       "    <tr>\n",
       "      <th>40</th>\n",
       "      <td>4669941</td>\n",
       "      <td>2017-11-06</td>\n",
       "      <td>70068</td>\n",
       "      <td>Driver error</td>\n",
       "      <td>Auto</td>\n",
       "      <td>Unknown</td>\n",
       "      <td>Injury only</td>\n",
       "      <td>29900.000000</td>\n",
       "      <td>1.0</td>\n",
       "      <td>Yes</td>\n",
       "      <td>Male</td>\n",
       "      <td>1982-08-03</td>\n",
       "      <td>AK</td>\n",
       "      <td>761-462-3458</td>\n",
       "      <td>Platinum</td>\n",
       "      <td>0</td>\n",
       "      <td>43</td>\n",
       "      <td>Adult</td>\n",
       "    </tr>\n",
       "    <tr>\n",
       "      <th>90</th>\n",
       "      <td>9205013</td>\n",
       "      <td>2018-06-17</td>\n",
       "      <td>40283824</td>\n",
       "      <td>Driver error</td>\n",
       "      <td>Auto</td>\n",
       "      <td>Yes</td>\n",
       "      <td>Material and injury</td>\n",
       "      <td>23430.000000</td>\n",
       "      <td>1.0</td>\n",
       "      <td>No</td>\n",
       "      <td>Male</td>\n",
       "      <td>1963-12-11</td>\n",
       "      <td>DE</td>\n",
       "      <td>239-368-6759</td>\n",
       "      <td>Platinum</td>\n",
       "      <td>1</td>\n",
       "      <td>62</td>\n",
       "      <td>Senior</td>\n",
       "    </tr>\n",
       "    <tr>\n",
       "      <th>110</th>\n",
       "      <td>11321295</td>\n",
       "      <td>2017-02-03</td>\n",
       "      <td>31574986</td>\n",
       "      <td>Driver error</td>\n",
       "      <td>Auto</td>\n",
       "      <td>No</td>\n",
       "      <td>Material only</td>\n",
       "      <td>2460.000000</td>\n",
       "      <td>2.0</td>\n",
       "      <td>No</td>\n",
       "      <td>Male</td>\n",
       "      <td>1965-11-13</td>\n",
       "      <td>DE</td>\n",
       "      <td>429-596-2169</td>\n",
       "      <td>Platinum</td>\n",
       "      <td>0</td>\n",
       "      <td>60</td>\n",
       "      <td>Adult</td>\n",
       "    </tr>\n",
       "    <tr>\n",
       "      <th>132</th>\n",
       "      <td>13687085</td>\n",
       "      <td>2018-01-13</td>\n",
       "      <td>37688454</td>\n",
       "      <td>Driver error</td>\n",
       "      <td>Auto</td>\n",
       "      <td>Unknown</td>\n",
       "      <td>Injury only</td>\n",
       "      <td>16760.000000</td>\n",
       "      <td>1.0</td>\n",
       "      <td>No</td>\n",
       "      <td>Male</td>\n",
       "      <td>1997-11-18</td>\n",
       "      <td>DE</td>\n",
       "      <td>137-146-7356</td>\n",
       "      <td>Platinum</td>\n",
       "      <td>0</td>\n",
       "      <td>28</td>\n",
       "      <td>Youth</td>\n",
       "    </tr>\n",
       "    <tr>\n",
       "      <th>156</th>\n",
       "      <td>15820948</td>\n",
       "      <td>2017-09-27</td>\n",
       "      <td>53831641</td>\n",
       "      <td>Driver error</td>\n",
       "      <td>Auto</td>\n",
       "      <td>Yes</td>\n",
       "      <td>Material and injury</td>\n",
       "      <td>14570.000000</td>\n",
       "      <td>1.0</td>\n",
       "      <td>No</td>\n",
       "      <td>Male</td>\n",
       "      <td>1964-02-22</td>\n",
       "      <td>TX</td>\n",
       "      <td>583-641-3184</td>\n",
       "      <td>Silver</td>\n",
       "      <td>1</td>\n",
       "      <td>61</td>\n",
       "      <td>Senior</td>\n",
       "    </tr>\n",
       "    <tr>\n",
       "      <th>187</th>\n",
       "      <td>18282409</td>\n",
       "      <td>2017-08-11</td>\n",
       "      <td>94983900</td>\n",
       "      <td>Driver error</td>\n",
       "      <td>Auto</td>\n",
       "      <td>No</td>\n",
       "      <td>Injury only</td>\n",
       "      <td>31020.000000</td>\n",
       "      <td>2.0</td>\n",
       "      <td>No</td>\n",
       "      <td>Female</td>\n",
       "      <td>1973-09-29</td>\n",
       "      <td>AK</td>\n",
       "      <td>326-215-7361</td>\n",
       "      <td>Gold</td>\n",
       "      <td>0</td>\n",
       "      <td>52</td>\n",
       "      <td>Adult</td>\n",
       "    </tr>\n",
       "    <tr>\n",
       "      <th>203</th>\n",
       "      <td>19796899</td>\n",
       "      <td>2018-04-04</td>\n",
       "      <td>9124181</td>\n",
       "      <td>Other driver error</td>\n",
       "      <td>Auto</td>\n",
       "      <td>Yes</td>\n",
       "      <td>Material and injury</td>\n",
       "      <td>24667.500000</td>\n",
       "      <td>1.0</td>\n",
       "      <td>Yes</td>\n",
       "      <td>Female</td>\n",
       "      <td>1975-12-17</td>\n",
       "      <td>TX</td>\n",
       "      <td>725-873-8239</td>\n",
       "      <td>Gold</td>\n",
       "      <td>1</td>\n",
       "      <td>50</td>\n",
       "      <td>Adult</td>\n",
       "    </tr>\n",
       "    <tr>\n",
       "      <th>270</th>\n",
       "      <td>26489135</td>\n",
       "      <td>2017-07-01</td>\n",
       "      <td>70399158</td>\n",
       "      <td>Driver error</td>\n",
       "      <td>Auto</td>\n",
       "      <td>No</td>\n",
       "      <td>Material only</td>\n",
       "      <td>1110.000000</td>\n",
       "      <td>1.0</td>\n",
       "      <td>No</td>\n",
       "      <td>Male</td>\n",
       "      <td>1994-10-05</td>\n",
       "      <td>DE</td>\n",
       "      <td>654-456-1493</td>\n",
       "      <td>Platinum</td>\n",
       "      <td>0</td>\n",
       "      <td>31</td>\n",
       "      <td>Adult</td>\n",
       "    </tr>\n",
       "    <tr>\n",
       "      <th>304</th>\n",
       "      <td>29903212</td>\n",
       "      <td>2018-06-17</td>\n",
       "      <td>7136079</td>\n",
       "      <td>Driver error</td>\n",
       "      <td>Auto</td>\n",
       "      <td>No</td>\n",
       "      <td>Material only</td>\n",
       "      <td>2668.000000</td>\n",
       "      <td>2.0</td>\n",
       "      <td>Yes</td>\n",
       "      <td>Male</td>\n",
       "      <td>1989-12-16</td>\n",
       "      <td>DE</td>\n",
       "      <td>279-918-3268</td>\n",
       "      <td>Platinum</td>\n",
       "      <td>0</td>\n",
       "      <td>36</td>\n",
       "      <td>Adult</td>\n",
       "    </tr>\n",
       "    <tr>\n",
       "      <th>335</th>\n",
       "      <td>32464636</td>\n",
       "      <td>2017-10-31</td>\n",
       "      <td>99281527</td>\n",
       "      <td>Driver error</td>\n",
       "      <td>Auto</td>\n",
       "      <td>No</td>\n",
       "      <td>Material only</td>\n",
       "      <td>2323.000000</td>\n",
       "      <td>1.0</td>\n",
       "      <td>Yes</td>\n",
       "      <td>Female</td>\n",
       "      <td>1988-08-25</td>\n",
       "      <td>DE</td>\n",
       "      <td>862-247-1496</td>\n",
       "      <td>Gold</td>\n",
       "      <td>0</td>\n",
       "      <td>37</td>\n",
       "      <td>Adult</td>\n",
       "    </tr>\n",
       "    <tr>\n",
       "      <th>411</th>\n",
       "      <td>39959491</td>\n",
       "      <td>2018-09-06</td>\n",
       "      <td>54642809</td>\n",
       "      <td>Driver error</td>\n",
       "      <td>Auto</td>\n",
       "      <td>Unknown</td>\n",
       "      <td>Material only</td>\n",
       "      <td>2720.000000</td>\n",
       "      <td>1.0</td>\n",
       "      <td>No</td>\n",
       "      <td>Female</td>\n",
       "      <td>1995-04-07</td>\n",
       "      <td>DE</td>\n",
       "      <td>139-742-5417</td>\n",
       "      <td>Silver</td>\n",
       "      <td>0</td>\n",
       "      <td>30</td>\n",
       "      <td>Adult</td>\n",
       "    </tr>\n",
       "    <tr>\n",
       "      <th>437</th>\n",
       "      <td>42083451</td>\n",
       "      <td>2017-08-31</td>\n",
       "      <td>6365892</td>\n",
       "      <td>Driver error</td>\n",
       "      <td>Auto</td>\n",
       "      <td>No</td>\n",
       "      <td>Material only</td>\n",
       "      <td>2400.000000</td>\n",
       "      <td>1.0</td>\n",
       "      <td>No</td>\n",
       "      <td>Male</td>\n",
       "      <td>1967-11-23</td>\n",
       "      <td>AK</td>\n",
       "      <td>689-375-9463</td>\n",
       "      <td>Platinum</td>\n",
       "      <td>0</td>\n",
       "      <td>58</td>\n",
       "      <td>Adult</td>\n",
       "    </tr>\n",
       "    <tr>\n",
       "      <th>458</th>\n",
       "      <td>44050095</td>\n",
       "      <td>2017-03-22</td>\n",
       "      <td>17396013</td>\n",
       "      <td>Driver error</td>\n",
       "      <td>Auto</td>\n",
       "      <td>Unknown</td>\n",
       "      <td>Material and injury</td>\n",
       "      <td>20458.500000</td>\n",
       "      <td>1.0</td>\n",
       "      <td>Yes</td>\n",
       "      <td>Male</td>\n",
       "      <td>1977-06-04</td>\n",
       "      <td>DE</td>\n",
       "      <td>314-298-9257</td>\n",
       "      <td>Platinum</td>\n",
       "      <td>0</td>\n",
       "      <td>48</td>\n",
       "      <td>Adult</td>\n",
       "    </tr>\n",
       "    <tr>\n",
       "      <th>502</th>\n",
       "      <td>47415706</td>\n",
       "      <td>2017-08-04</td>\n",
       "      <td>77192370</td>\n",
       "      <td>Other driver error</td>\n",
       "      <td>Auto</td>\n",
       "      <td>Unknown</td>\n",
       "      <td>Material and injury</td>\n",
       "      <td>18457.500000</td>\n",
       "      <td>1.0</td>\n",
       "      <td>Yes</td>\n",
       "      <td>Female</td>\n",
       "      <td>1961-08-08</td>\n",
       "      <td>DE</td>\n",
       "      <td>179-574-5837</td>\n",
       "      <td>Gold</td>\n",
       "      <td>0</td>\n",
       "      <td>64</td>\n",
       "      <td>Senior</td>\n",
       "    </tr>\n",
       "    <tr>\n",
       "      <th>588</th>\n",
       "      <td>54094880</td>\n",
       "      <td>2017-02-17</td>\n",
       "      <td>34621474</td>\n",
       "      <td>Other driver error</td>\n",
       "      <td>Auto</td>\n",
       "      <td>No</td>\n",
       "      <td>Material only</td>\n",
       "      <td>1529.500000</td>\n",
       "      <td>1.0</td>\n",
       "      <td>Yes</td>\n",
       "      <td>Male</td>\n",
       "      <td>1984-06-01</td>\n",
       "      <td>DE</td>\n",
       "      <td>568-481-7418</td>\n",
       "      <td>Silver</td>\n",
       "      <td>0</td>\n",
       "      <td>41</td>\n",
       "      <td>Adult</td>\n",
       "    </tr>\n",
       "    <tr>\n",
       "      <th>659</th>\n",
       "      <td>61810954</td>\n",
       "      <td>2018-09-19</td>\n",
       "      <td>65335959</td>\n",
       "      <td>Other driver error</td>\n",
       "      <td>Auto</td>\n",
       "      <td>Unknown</td>\n",
       "      <td>Material and injury</td>\n",
       "      <td>36620.000000</td>\n",
       "      <td>1.0</td>\n",
       "      <td>No</td>\n",
       "      <td>Male</td>\n",
       "      <td>1969-05-18</td>\n",
       "      <td>TX</td>\n",
       "      <td>724-493-6179</td>\n",
       "      <td>Silver</td>\n",
       "      <td>0</td>\n",
       "      <td>56</td>\n",
       "      <td>Adult</td>\n",
       "    </tr>\n",
       "    <tr>\n",
       "      <th>661</th>\n",
       "      <td>62204138</td>\n",
       "      <td>2017-10-31</td>\n",
       "      <td>93028492</td>\n",
       "      <td>Driver error</td>\n",
       "      <td>Auto</td>\n",
       "      <td>Unknown</td>\n",
       "      <td>Material only</td>\n",
       "      <td>2691.000000</td>\n",
       "      <td>1.0</td>\n",
       "      <td>Yes</td>\n",
       "      <td>Female</td>\n",
       "      <td>1989-12-15</td>\n",
       "      <td>DE</td>\n",
       "      <td>471-934-4961</td>\n",
       "      <td>Platinum</td>\n",
       "      <td>0</td>\n",
       "      <td>36</td>\n",
       "      <td>Adult</td>\n",
       "    </tr>\n",
       "    <tr>\n",
       "      <th>697</th>\n",
       "      <td>65899365</td>\n",
       "      <td>2018-07-14</td>\n",
       "      <td>86096444</td>\n",
       "      <td>Driver error</td>\n",
       "      <td>Auto</td>\n",
       "      <td>No</td>\n",
       "      <td>Material and injury</td>\n",
       "      <td>34160.000000</td>\n",
       "      <td>1.0</td>\n",
       "      <td>No</td>\n",
       "      <td>Female</td>\n",
       "      <td>1973-07-25</td>\n",
       "      <td>TX</td>\n",
       "      <td>135-971-8567</td>\n",
       "      <td>Platinum</td>\n",
       "      <td>0</td>\n",
       "      <td>52</td>\n",
       "      <td>Adult</td>\n",
       "    </tr>\n",
       "    <tr>\n",
       "      <th>703</th>\n",
       "      <td>66433138</td>\n",
       "      <td>2017-02-23</td>\n",
       "      <td>22577147</td>\n",
       "      <td>Driver error</td>\n",
       "      <td>Auto</td>\n",
       "      <td>No</td>\n",
       "      <td>Material and injury</td>\n",
       "      <td>21447.500000</td>\n",
       "      <td>2.0</td>\n",
       "      <td>Yes</td>\n",
       "      <td>Male</td>\n",
       "      <td>1978-06-27</td>\n",
       "      <td>TX</td>\n",
       "      <td>752-617-3867</td>\n",
       "      <td>Gold</td>\n",
       "      <td>0</td>\n",
       "      <td>47</td>\n",
       "      <td>Adult</td>\n",
       "    </tr>\n",
       "    <tr>\n",
       "      <th>727</th>\n",
       "      <td>68772500</td>\n",
       "      <td>2018-08-30</td>\n",
       "      <td>21550521</td>\n",
       "      <td>Driver error</td>\n",
       "      <td>Auto</td>\n",
       "      <td>Unknown</td>\n",
       "      <td>Material only</td>\n",
       "      <td>2320.000000</td>\n",
       "      <td>1.0</td>\n",
       "      <td>No</td>\n",
       "      <td>Male</td>\n",
       "      <td>1989-11-10</td>\n",
       "      <td>TX</td>\n",
       "      <td>562-259-5432</td>\n",
       "      <td>Silver</td>\n",
       "      <td>0</td>\n",
       "      <td>36</td>\n",
       "      <td>Adult</td>\n",
       "    </tr>\n",
       "    <tr>\n",
       "      <th>796</th>\n",
       "      <td>74787956</td>\n",
       "      <td>2017-09-14</td>\n",
       "      <td>12612736</td>\n",
       "      <td>Driver error</td>\n",
       "      <td>Auto</td>\n",
       "      <td>Unknown</td>\n",
       "      <td>Material only</td>\n",
       "      <td>12442.125121</td>\n",
       "      <td>1.0</td>\n",
       "      <td>No</td>\n",
       "      <td>Male</td>\n",
       "      <td>1989-06-19</td>\n",
       "      <td>TX</td>\n",
       "      <td>679-514-5894</td>\n",
       "      <td>Gold</td>\n",
       "      <td>0</td>\n",
       "      <td>36</td>\n",
       "      <td>Adult</td>\n",
       "    </tr>\n",
       "    <tr>\n",
       "      <th>811</th>\n",
       "      <td>76314493</td>\n",
       "      <td>2017-09-14</td>\n",
       "      <td>49252712</td>\n",
       "      <td>Other driver error</td>\n",
       "      <td>Home</td>\n",
       "      <td>No</td>\n",
       "      <td>Material only</td>\n",
       "      <td>12442.125121</td>\n",
       "      <td>1.0</td>\n",
       "      <td>No</td>\n",
       "      <td>Female</td>\n",
       "      <td>1961-10-02</td>\n",
       "      <td>DE</td>\n",
       "      <td>389-764-4853</td>\n",
       "      <td>Silver</td>\n",
       "      <td>0</td>\n",
       "      <td>64</td>\n",
       "      <td>Senior</td>\n",
       "    </tr>\n",
       "    <tr>\n",
       "      <th>821</th>\n",
       "      <td>77006226</td>\n",
       "      <td>2018-02-15</td>\n",
       "      <td>21146312</td>\n",
       "      <td>Driver error</td>\n",
       "      <td>Auto</td>\n",
       "      <td>No</td>\n",
       "      <td>Material only</td>\n",
       "      <td>2930.000000</td>\n",
       "      <td>1.0</td>\n",
       "      <td>No</td>\n",
       "      <td>Female</td>\n",
       "      <td>1998-02-13</td>\n",
       "      <td>TX</td>\n",
       "      <td>641-295-5498</td>\n",
       "      <td>Platinum</td>\n",
       "      <td>0</td>\n",
       "      <td>27</td>\n",
       "      <td>Youth</td>\n",
       "    </tr>\n",
       "    <tr>\n",
       "      <th>826</th>\n",
       "      <td>77510822</td>\n",
       "      <td>2018-10-30</td>\n",
       "      <td>87329176</td>\n",
       "      <td>Other driver error</td>\n",
       "      <td>Auto</td>\n",
       "      <td>Unknown</td>\n",
       "      <td>Material only</td>\n",
       "      <td>12442.125121</td>\n",
       "      <td>2.0</td>\n",
       "      <td>No</td>\n",
       "      <td>Female</td>\n",
       "      <td>1986-03-18</td>\n",
       "      <td>AK</td>\n",
       "      <td>436-934-7156</td>\n",
       "      <td>Silver</td>\n",
       "      <td>0</td>\n",
       "      <td>39</td>\n",
       "      <td>Adult</td>\n",
       "    </tr>\n",
       "    <tr>\n",
       "      <th>876</th>\n",
       "      <td>82415154</td>\n",
       "      <td>2017-06-11</td>\n",
       "      <td>46572741</td>\n",
       "      <td>Other driver error</td>\n",
       "      <td>Auto</td>\n",
       "      <td>No</td>\n",
       "      <td>Material and injury</td>\n",
       "      <td>15240.000000</td>\n",
       "      <td>1.0</td>\n",
       "      <td>No</td>\n",
       "      <td>Female</td>\n",
       "      <td>1980-03-08</td>\n",
       "      <td>DE</td>\n",
       "      <td>578-942-1542</td>\n",
       "      <td>Platinum</td>\n",
       "      <td>0</td>\n",
       "      <td>45</td>\n",
       "      <td>Adult</td>\n",
       "    </tr>\n",
       "    <tr>\n",
       "      <th>897</th>\n",
       "      <td>84147585</td>\n",
       "      <td>2018-04-10</td>\n",
       "      <td>78221963</td>\n",
       "      <td>Driver error</td>\n",
       "      <td>Auto</td>\n",
       "      <td>Yes</td>\n",
       "      <td>Injury only</td>\n",
       "      <td>14430.000000</td>\n",
       "      <td>3.5</td>\n",
       "      <td>No</td>\n",
       "      <td>Male</td>\n",
       "      <td>1972-10-18</td>\n",
       "      <td>AK</td>\n",
       "      <td>743-569-4783</td>\n",
       "      <td>Gold</td>\n",
       "      <td>1</td>\n",
       "      <td>53</td>\n",
       "      <td>Adult</td>\n",
       "    </tr>\n",
       "    <tr>\n",
       "      <th>905</th>\n",
       "      <td>84750181</td>\n",
       "      <td>2017-03-09</td>\n",
       "      <td>34691767</td>\n",
       "      <td>Other driver error</td>\n",
       "      <td>Home</td>\n",
       "      <td>No</td>\n",
       "      <td>Material only</td>\n",
       "      <td>2370.000000</td>\n",
       "      <td>3.5</td>\n",
       "      <td>No</td>\n",
       "      <td>Female</td>\n",
       "      <td>1993-05-16</td>\n",
       "      <td>AK</td>\n",
       "      <td>419-431-6251</td>\n",
       "      <td>Platinum</td>\n",
       "      <td>0</td>\n",
       "      <td>32</td>\n",
       "      <td>Adult</td>\n",
       "    </tr>\n",
       "    <tr>\n",
       "      <th>909</th>\n",
       "      <td>85250389</td>\n",
       "      <td>2017-03-02</td>\n",
       "      <td>9129053</td>\n",
       "      <td>Other driver error</td>\n",
       "      <td>Auto</td>\n",
       "      <td>Unknown</td>\n",
       "      <td>Injury only</td>\n",
       "      <td>24380.000000</td>\n",
       "      <td>1.0</td>\n",
       "      <td>Yes</td>\n",
       "      <td>Female</td>\n",
       "      <td>1967-05-08</td>\n",
       "      <td>TX</td>\n",
       "      <td>827-367-5247</td>\n",
       "      <td>Platinum</td>\n",
       "      <td>0</td>\n",
       "      <td>58</td>\n",
       "      <td>Adult</td>\n",
       "    </tr>\n",
       "    <tr>\n",
       "      <th>1004</th>\n",
       "      <td>92752865</td>\n",
       "      <td>2017-04-25</td>\n",
       "      <td>82144259</td>\n",
       "      <td>Driver error</td>\n",
       "      <td>Auto</td>\n",
       "      <td>No</td>\n",
       "      <td>Injury only</td>\n",
       "      <td>12442.125121</td>\n",
       "      <td>1.0</td>\n",
       "      <td>No</td>\n",
       "      <td>Male</td>\n",
       "      <td>1986-01-30</td>\n",
       "      <td>AK</td>\n",
       "      <td>143-219-5498</td>\n",
       "      <td>Silver</td>\n",
       "      <td>0</td>\n",
       "      <td>39</td>\n",
       "      <td>Adult</td>\n",
       "    </tr>\n",
       "    <tr>\n",
       "      <th>1007</th>\n",
       "      <td>92971195</td>\n",
       "      <td>2018-09-26</td>\n",
       "      <td>92399694</td>\n",
       "      <td>Other driver error</td>\n",
       "      <td>Home</td>\n",
       "      <td>No</td>\n",
       "      <td>Material only</td>\n",
       "      <td>1140.000000</td>\n",
       "      <td>1.0</td>\n",
       "      <td>No</td>\n",
       "      <td>Male</td>\n",
       "      <td>1975-02-02</td>\n",
       "      <td>DE</td>\n",
       "      <td>892-173-4657</td>\n",
       "      <td>Gold</td>\n",
       "      <td>0</td>\n",
       "      <td>50</td>\n",
       "      <td>Adult</td>\n",
       "    </tr>\n",
       "    <tr>\n",
       "      <th>1023</th>\n",
       "      <td>94643289</td>\n",
       "      <td>2018-03-14</td>\n",
       "      <td>34596802</td>\n",
       "      <td>Driver error</td>\n",
       "      <td>Auto</td>\n",
       "      <td>No</td>\n",
       "      <td>Material and injury</td>\n",
       "      <td>45287.000000</td>\n",
       "      <td>1.0</td>\n",
       "      <td>Yes</td>\n",
       "      <td>Male</td>\n",
       "      <td>1998-04-24</td>\n",
       "      <td>AK</td>\n",
       "      <td>317-612-1425</td>\n",
       "      <td>Silver</td>\n",
       "      <td>0</td>\n",
       "      <td>27</td>\n",
       "      <td>Youth</td>\n",
       "    </tr>\n",
       "  </tbody>\n",
       "</table>\n",
       "</div>"
      ],
      "text/plain": [
       "      customer_id claim_date  claim_id      incident_cause claim_area  \\\n",
       "0          154557 2018-04-10  69348631        Driver error       Auto   \n",
       "6          684748 2018-07-14   7238381  Other driver error       Auto   \n",
       "22        2632562 2018-05-14   4506676  Other driver error       Home   \n",
       "28        3159546 2017-04-25  26716331  Other driver error       Auto   \n",
       "40        4669941 2017-11-06     70068        Driver error       Auto   \n",
       "90        9205013 2018-06-17  40283824        Driver error       Auto   \n",
       "110      11321295 2017-02-03  31574986        Driver error       Auto   \n",
       "132      13687085 2018-01-13  37688454        Driver error       Auto   \n",
       "156      15820948 2017-09-27  53831641        Driver error       Auto   \n",
       "187      18282409 2017-08-11  94983900        Driver error       Auto   \n",
       "203      19796899 2018-04-04   9124181  Other driver error       Auto   \n",
       "270      26489135 2017-07-01  70399158        Driver error       Auto   \n",
       "304      29903212 2018-06-17   7136079        Driver error       Auto   \n",
       "335      32464636 2017-10-31  99281527        Driver error       Auto   \n",
       "411      39959491 2018-09-06  54642809        Driver error       Auto   \n",
       "437      42083451 2017-08-31   6365892        Driver error       Auto   \n",
       "458      44050095 2017-03-22  17396013        Driver error       Auto   \n",
       "502      47415706 2017-08-04  77192370  Other driver error       Auto   \n",
       "588      54094880 2017-02-17  34621474  Other driver error       Auto   \n",
       "659      61810954 2018-09-19  65335959  Other driver error       Auto   \n",
       "661      62204138 2017-10-31  93028492        Driver error       Auto   \n",
       "697      65899365 2018-07-14  86096444        Driver error       Auto   \n",
       "703      66433138 2017-02-23  22577147        Driver error       Auto   \n",
       "727      68772500 2018-08-30  21550521        Driver error       Auto   \n",
       "796      74787956 2017-09-14  12612736        Driver error       Auto   \n",
       "811      76314493 2017-09-14  49252712  Other driver error       Home   \n",
       "821      77006226 2018-02-15  21146312        Driver error       Auto   \n",
       "826      77510822 2018-10-30  87329176  Other driver error       Auto   \n",
       "876      82415154 2017-06-11  46572741  Other driver error       Auto   \n",
       "897      84147585 2018-04-10  78221963        Driver error       Auto   \n",
       "905      84750181 2017-03-09  34691767  Other driver error       Home   \n",
       "909      85250389 2017-03-02   9129053  Other driver error       Auto   \n",
       "1004     92752865 2017-04-25  82144259        Driver error       Auto   \n",
       "1007     92971195 2018-09-26  92399694  Other driver error       Home   \n",
       "1023     94643289 2018-03-14  34596802        Driver error       Auto   \n",
       "\n",
       "     police_report           claim_type  claim_amount  total_policy_claims  \\\n",
       "0               No          Injury only  12442.125121                  1.0   \n",
       "6               No        Material only   2920.000000                  2.0   \n",
       "22         Unknown        Material only   1400.000000                  1.0   \n",
       "28              No          Injury only  17590.000000                  3.5   \n",
       "40         Unknown          Injury only  29900.000000                  1.0   \n",
       "90             Yes  Material and injury  23430.000000                  1.0   \n",
       "110             No        Material only   2460.000000                  2.0   \n",
       "132        Unknown          Injury only  16760.000000                  1.0   \n",
       "156            Yes  Material and injury  14570.000000                  1.0   \n",
       "187             No          Injury only  31020.000000                  2.0   \n",
       "203            Yes  Material and injury  24667.500000                  1.0   \n",
       "270             No        Material only   1110.000000                  1.0   \n",
       "304             No        Material only   2668.000000                  2.0   \n",
       "335             No        Material only   2323.000000                  1.0   \n",
       "411        Unknown        Material only   2720.000000                  1.0   \n",
       "437             No        Material only   2400.000000                  1.0   \n",
       "458        Unknown  Material and injury  20458.500000                  1.0   \n",
       "502        Unknown  Material and injury  18457.500000                  1.0   \n",
       "588             No        Material only   1529.500000                  1.0   \n",
       "659        Unknown  Material and injury  36620.000000                  1.0   \n",
       "661        Unknown        Material only   2691.000000                  1.0   \n",
       "697             No  Material and injury  34160.000000                  1.0   \n",
       "703             No  Material and injury  21447.500000                  2.0   \n",
       "727        Unknown        Material only   2320.000000                  1.0   \n",
       "796        Unknown        Material only  12442.125121                  1.0   \n",
       "811             No        Material only  12442.125121                  1.0   \n",
       "821             No        Material only   2930.000000                  1.0   \n",
       "826        Unknown        Material only  12442.125121                  2.0   \n",
       "876             No  Material and injury  15240.000000                  1.0   \n",
       "897            Yes          Injury only  14430.000000                  3.5   \n",
       "905             No        Material only   2370.000000                  3.5   \n",
       "909        Unknown          Injury only  24380.000000                  1.0   \n",
       "1004            No          Injury only  12442.125121                  1.0   \n",
       "1007            No        Material only   1140.000000                  1.0   \n",
       "1023            No  Material and injury  45287.000000                  1.0   \n",
       "\n",
       "     fraudulent  gender DateOfBirth State       Contact   Segment  \\\n",
       "0           Yes  Female  1978-05-23    DE  962-879-1238  Platinum   \n",
       "6            No    Male  1977-08-03    AK  613-385-2863      Gold   \n",
       "22           No  Female  1985-12-14    AK  498-597-9658  Platinum   \n",
       "28           No    Male  1987-10-20    TX  586-129-9752  Platinum   \n",
       "40          Yes    Male  1982-08-03    AK  761-462-3458  Platinum   \n",
       "90           No    Male  1963-12-11    DE  239-368-6759  Platinum   \n",
       "110          No    Male  1965-11-13    DE  429-596-2169  Platinum   \n",
       "132          No    Male  1997-11-18    DE  137-146-7356  Platinum   \n",
       "156          No    Male  1964-02-22    TX  583-641-3184    Silver   \n",
       "187          No  Female  1973-09-29    AK  326-215-7361      Gold   \n",
       "203         Yes  Female  1975-12-17    TX  725-873-8239      Gold   \n",
       "270          No    Male  1994-10-05    DE  654-456-1493  Platinum   \n",
       "304         Yes    Male  1989-12-16    DE  279-918-3268  Platinum   \n",
       "335         Yes  Female  1988-08-25    DE  862-247-1496      Gold   \n",
       "411          No  Female  1995-04-07    DE  139-742-5417    Silver   \n",
       "437          No    Male  1967-11-23    AK  689-375-9463  Platinum   \n",
       "458         Yes    Male  1977-06-04    DE  314-298-9257  Platinum   \n",
       "502         Yes  Female  1961-08-08    DE  179-574-5837      Gold   \n",
       "588         Yes    Male  1984-06-01    DE  568-481-7418    Silver   \n",
       "659          No    Male  1969-05-18    TX  724-493-6179    Silver   \n",
       "661         Yes  Female  1989-12-15    DE  471-934-4961  Platinum   \n",
       "697          No  Female  1973-07-25    TX  135-971-8567  Platinum   \n",
       "703         Yes    Male  1978-06-27    TX  752-617-3867      Gold   \n",
       "727          No    Male  1989-11-10    TX  562-259-5432    Silver   \n",
       "796          No    Male  1989-06-19    TX  679-514-5894      Gold   \n",
       "811          No  Female  1961-10-02    DE  389-764-4853    Silver   \n",
       "821          No  Female  1998-02-13    TX  641-295-5498  Platinum   \n",
       "826          No  Female  1986-03-18    AK  436-934-7156    Silver   \n",
       "876          No  Female  1980-03-08    DE  578-942-1542  Platinum   \n",
       "897          No    Male  1972-10-18    AK  743-569-4783      Gold   \n",
       "905          No  Female  1993-05-16    AK  419-431-6251  Platinum   \n",
       "909         Yes  Female  1967-05-08    TX  827-367-5247  Platinum   \n",
       "1004         No    Male  1986-01-30    AK  143-219-5498    Silver   \n",
       "1007         No    Male  1975-02-02    DE  892-173-4657      Gold   \n",
       "1023        Yes    Male  1998-04-24    AK  317-612-1425    Silver   \n",
       "\n",
       "      Report_flag  Age Life_stage  \n",
       "0               0   47      Adult  \n",
       "6               0   48      Adult  \n",
       "22              0   40      Adult  \n",
       "28              0   38      Adult  \n",
       "40              0   43      Adult  \n",
       "90              1   62     Senior  \n",
       "110             0   60      Adult  \n",
       "132             0   28      Youth  \n",
       "156             1   61     Senior  \n",
       "187             0   52      Adult  \n",
       "203             1   50      Adult  \n",
       "270             0   31      Adult  \n",
       "304             0   36      Adult  \n",
       "335             0   37      Adult  \n",
       "411             0   30      Adult  \n",
       "437             0   58      Adult  \n",
       "458             0   48      Adult  \n",
       "502             0   64     Senior  \n",
       "588             0   41      Adult  \n",
       "659             0   56      Adult  \n",
       "661             0   36      Adult  \n",
       "697             0   52      Adult  \n",
       "703             0   47      Adult  \n",
       "727             0   36      Adult  \n",
       "796             0   36      Adult  \n",
       "811             0   64     Senior  \n",
       "821             0   27      Youth  \n",
       "826             0   39      Adult  \n",
       "876             0   45      Adult  \n",
       "897             1   53      Adult  \n",
       "905             0   32      Adult  \n",
       "909             0   58      Adult  \n",
       "1004            0   39      Adult  \n",
       "1007            0   50      Adult  \n",
       "1023            0   27      Youth  "
      ]
     },
     "execution_count": 148,
     "metadata": {},
     "output_type": "execute_result"
    }
   ],
   "source": [
    "Customer_claim_data[((Customer_claim_data.State == 'TX') | (Customer_claim_data.State=='DE') | (Customer_claim_data.State == 'AK')) & (Customer_claim_data.incident_cause.str.contains(pat = 'Driver|driver'))]"
   ]
  },
  {
   "cell_type": "code",
   "execution_count": 150,
   "id": "a6ff22f0-1336-41b5-b6bb-9415fbecfac5",
   "metadata": {},
   "outputs": [
    {
     "data": {
      "text/plain": [
       "35"
      ]
     },
     "execution_count": 150,
     "metadata": {},
     "output_type": "execute_result"
    }
   ],
   "source": [
    "len(Customer_claim_data[((Customer_claim_data.State == 'TX') | (Customer_claim_data.State=='DE') | (Customer_claim_data.State == 'AK')) & (Customer_claim_data.incident_cause.str.contains(pat = 'Driver|driver'))])"
   ]
  },
  {
   "cell_type": "markdown",
   "id": "29832d31-6db0-4eb4-993e-d2f9ae8f1278",
   "metadata": {},
   "source": [
    "##### # Around 35 adults from TX, DE and AK claimed insurance for driver related issues and causes."
   ]
  },
  {
   "cell_type": "markdown",
   "id": "23f34528-a6b1-450a-98bf-73db5a9cb6d5",
   "metadata": {},
   "source": [
    "### 11. Draw a pie chart between the aggregated value of claim amount based on gender and segment. Represent the claim amount as a percentage on the pie chart."
   ]
  },
  {
   "cell_type": "code",
   "execution_count": 154,
   "id": "97194ce0-0e28-4fb2-bc50-8e26dcdc6f32",
   "metadata": {},
   "outputs": [
    {
     "data": {
      "text/plain": [
       "array([<Axes: ylabel='claim_amount'>], dtype=object)"
      ]
     },
     "execution_count": 154,
     "metadata": {},
     "output_type": "execute_result"
    }
   ],
   "source": [
    "Customer_claim_data[['claim_amount','gender','Segment']].groupby(by=['gender','Segment'] ).sum().plot(kind = 'pie', subplots = True)"
   ]
  },
  {
   "cell_type": "markdown",
   "id": "a68e98b8-e06a-454d-a9d2-46ab54d8e8b3",
   "metadata": {},
   "source": [
    "### 12. Among males and females, which gender had claimed the most for any type of driver related issues? E.g. This metric can be compared using a bar chart"
   ]
  },
  {
   "cell_type": "code",
   "execution_count": 157,
   "id": "9a0bf4d3-5c14-44c0-ad8c-ab7f7e6771fd",
   "metadata": {},
   "outputs": [],
   "source": [
    "Gender_agg= Customer_claim_data[Customer_claim_data.incident_cause.str.contains(pat = 'Driver|driver')].pivot_table(index = 'gender', values = 'claim_amount', aggfunc = 'sum') "
   ]
  },
  {
   "cell_type": "code",
   "execution_count": 159,
   "id": "a988beab-ed9f-4599-b723-d62e760f456e",
   "metadata": {},
   "outputs": [
    {
     "data": {
      "text/html": [
       "<div>\n",
       "<style scoped>\n",
       "    .dataframe tbody tr th:only-of-type {\n",
       "        vertical-align: middle;\n",
       "    }\n",
       "\n",
       "    .dataframe tbody tr th {\n",
       "        vertical-align: top;\n",
       "    }\n",
       "\n",
       "    .dataframe thead th {\n",
       "        text-align: right;\n",
       "    }\n",
       "</style>\n",
       "<table border=\"1\" class=\"dataframe\">\n",
       "  <thead>\n",
       "    <tr style=\"text-align: right;\">\n",
       "      <th></th>\n",
       "      <th>claim_amount</th>\n",
       "    </tr>\n",
       "    <tr>\n",
       "      <th>gender</th>\n",
       "      <th></th>\n",
       "    </tr>\n",
       "  </thead>\n",
       "  <tbody>\n",
       "    <tr>\n",
       "      <th>Female</th>\n",
       "      <td>3.135943e+06</td>\n",
       "    </tr>\n",
       "    <tr>\n",
       "      <th>Male</th>\n",
       "      <td>3.974399e+06</td>\n",
       "    </tr>\n",
       "  </tbody>\n",
       "</table>\n",
       "</div>"
      ],
      "text/plain": [
       "        claim_amount\n",
       "gender              \n",
       "Female  3.135943e+06\n",
       "Male    3.974399e+06"
      ]
     },
     "execution_count": 159,
     "metadata": {},
     "output_type": "execute_result"
    }
   ],
   "source": [
    "Gender_agg"
   ]
  },
  {
   "cell_type": "code",
   "execution_count": 161,
   "id": "c963eecc-fbc7-4267-9787-88616c7ac4c9",
   "metadata": {},
   "outputs": [
    {
     "data": {
      "text/plain": [
       "array([<Axes: ylabel='claim_amount'>], dtype=object)"
      ]
     },
     "execution_count": 161,
     "metadata": {},
     "output_type": "execute_result"
    }
   ],
   "source": [
    "Gender_agg.plot(kind ='pie',subplots=True)"
   ]
  },
  {
   "cell_type": "markdown",
   "id": "1adaa34f-559d-4106-b990-b0e5cd1c58cd",
   "metadata": {},
   "source": [
    "##### # Out of both the gender , male customers had claimed the most for any type of driver related issues"
   ]
  },
  {
   "cell_type": "markdown",
   "id": "98112e18-caf3-4160-9a4c-46d701d44296",
   "metadata": {},
   "source": [
    "### 13. Which age group had the maximum fraudulent policy claims? Visualize it on a bar chart"
   ]
  },
  {
   "cell_type": "code",
   "execution_count": 165,
   "id": "b43cc3fa-227e-4ab0-9b24-12e24c0bfcd6",
   "metadata": {},
   "outputs": [],
   "source": [
    "Customer_claim_data.rename(columns ={'Life_stage':'Age_group'},inplace = True)"
   ]
  },
  {
   "cell_type": "code",
   "execution_count": 167,
   "id": "8658d88b-755b-4765-9a35-8d322ff0718c",
   "metadata": {},
   "outputs": [],
   "source": [
    "Fraudulent_agg = Customer_claim_data[Customer_claim_data.fraudulent=='Yes'].pivot_table(index='Age_group', values ='fraudulent' , aggfunc ='count')"
   ]
  },
  {
   "cell_type": "code",
   "execution_count": 169,
   "id": "153295cf-3e35-4e9b-a304-289bd5e70745",
   "metadata": {},
   "outputs": [
    {
     "data": {
      "text/html": [
       "<div>\n",
       "<style scoped>\n",
       "    .dataframe tbody tr th:only-of-type {\n",
       "        vertical-align: middle;\n",
       "    }\n",
       "\n",
       "    .dataframe tbody tr th {\n",
       "        vertical-align: top;\n",
       "    }\n",
       "\n",
       "    .dataframe thead th {\n",
       "        text-align: right;\n",
       "    }\n",
       "</style>\n",
       "<table border=\"1\" class=\"dataframe\">\n",
       "  <thead>\n",
       "    <tr style=\"text-align: right;\">\n",
       "      <th></th>\n",
       "      <th>fraudulent</th>\n",
       "    </tr>\n",
       "    <tr>\n",
       "      <th>Age_group</th>\n",
       "      <th></th>\n",
       "    </tr>\n",
       "  </thead>\n",
       "  <tbody>\n",
       "    <tr>\n",
       "      <th>Adult</th>\n",
       "      <td>190</td>\n",
       "    </tr>\n",
       "    <tr>\n",
       "      <th>Senior</th>\n",
       "      <td>35</td>\n",
       "    </tr>\n",
       "    <tr>\n",
       "      <th>Youth</th>\n",
       "      <td>20</td>\n",
       "    </tr>\n",
       "  </tbody>\n",
       "</table>\n",
       "</div>"
      ],
      "text/plain": [
       "           fraudulent\n",
       "Age_group            \n",
       "Adult             190\n",
       "Senior             35\n",
       "Youth              20"
      ]
     },
     "execution_count": 169,
     "metadata": {},
     "output_type": "execute_result"
    }
   ],
   "source": [
    "Fraudulent_agg"
   ]
  },
  {
   "cell_type": "code",
   "execution_count": 171,
   "id": "c3c4249d-ac4f-40cb-a300-98ab8fa35899",
   "metadata": {},
   "outputs": [
    {
     "data": {
      "text/plain": [
       "<Axes: xlabel='Age_group'>"
      ]
     },
     "execution_count": 171,
     "metadata": {},
     "output_type": "execute_result"
    }
   ],
   "source": [
    "Fraudulent_agg.plot(kind ='bar'  )"
   ]
  },
  {
   "cell_type": "markdown",
   "id": "3b3e9535-f8c6-4127-8199-1101566e9125",
   "metadata": {},
   "source": [
    "##### # 'Adult'age group had the maximum fraudulent policy claims."
   ]
  },
  {
   "cell_type": "markdown",
   "id": "1dfe15c9-ef16-40bd-9050-346b1b19faf7",
   "metadata": {},
   "source": [
    "### 14. Visualize the monthly trend of the total amount that has been claimed by the customers. Ensure that on the “month” axis, the month is in a chronological order not alphabetical order."
   ]
  },
  {
   "cell_type": "code",
   "execution_count": 175,
   "id": "d2bb4b94-5ecd-4af0-81b6-07fed5d505f9",
   "metadata": {},
   "outputs": [],
   "source": [
    "Customer_claim_data['claim_Month']=Customer_claim_data.claim_date.dt.strftime('%B')\n",
    "Customer_claim_data['claim_Month_no.']=Customer_claim_data.claim_date.dt.month"
   ]
  },
  {
   "cell_type": "code",
   "execution_count": 177,
   "id": "c4e68c2a-7013-44f3-9a22-b4b35230c7f9",
   "metadata": {},
   "outputs": [],
   "source": [
    "Month_agg = Customer_claim_data.pivot_table(index = ['claim_Month','claim_Month_no.'], values = 'claim_amount',aggfunc= 'sum').reset_index().sort_values(by= 'claim_Month_no.')"
   ]
  },
  {
   "cell_type": "code",
   "execution_count": 179,
   "id": "5fb8d6ba-8e11-40c1-9dd7-e2cdab44c8c2",
   "metadata": {},
   "outputs": [
    {
     "data": {
      "text/html": [
       "<div>\n",
       "<style scoped>\n",
       "    .dataframe tbody tr th:only-of-type {\n",
       "        vertical-align: middle;\n",
       "    }\n",
       "\n",
       "    .dataframe tbody tr th {\n",
       "        vertical-align: top;\n",
       "    }\n",
       "\n",
       "    .dataframe thead th {\n",
       "        text-align: right;\n",
       "    }\n",
       "</style>\n",
       "<table border=\"1\" class=\"dataframe\">\n",
       "  <thead>\n",
       "    <tr style=\"text-align: right;\">\n",
       "      <th></th>\n",
       "      <th>claim_Month</th>\n",
       "      <th>claim_Month_no.</th>\n",
       "      <th>claim_amount</th>\n",
       "    </tr>\n",
       "  </thead>\n",
       "  <tbody>\n",
       "    <tr>\n",
       "      <th>4</th>\n",
       "      <td>January</td>\n",
       "      <td>1</td>\n",
       "      <td>1.326753e+06</td>\n",
       "    </tr>\n",
       "    <tr>\n",
       "      <th>3</th>\n",
       "      <td>February</td>\n",
       "      <td>2</td>\n",
       "      <td>1.164304e+06</td>\n",
       "    </tr>\n",
       "    <tr>\n",
       "      <th>7</th>\n",
       "      <td>March</td>\n",
       "      <td>3</td>\n",
       "      <td>1.319952e+06</td>\n",
       "    </tr>\n",
       "    <tr>\n",
       "      <th>0</th>\n",
       "      <td>April</td>\n",
       "      <td>4</td>\n",
       "      <td>1.292395e+06</td>\n",
       "    </tr>\n",
       "    <tr>\n",
       "      <th>8</th>\n",
       "      <td>May</td>\n",
       "      <td>5</td>\n",
       "      <td>1.113985e+06</td>\n",
       "    </tr>\n",
       "    <tr>\n",
       "      <th>6</th>\n",
       "      <td>June</td>\n",
       "      <td>6</td>\n",
       "      <td>1.278673e+06</td>\n",
       "    </tr>\n",
       "    <tr>\n",
       "      <th>5</th>\n",
       "      <td>July</td>\n",
       "      <td>7</td>\n",
       "      <td>1.378780e+06</td>\n",
       "    </tr>\n",
       "    <tr>\n",
       "      <th>1</th>\n",
       "      <td>August</td>\n",
       "      <td>8</td>\n",
       "      <td>9.111184e+05</td>\n",
       "    </tr>\n",
       "    <tr>\n",
       "      <th>11</th>\n",
       "      <td>September</td>\n",
       "      <td>9</td>\n",
       "      <td>9.826043e+05</td>\n",
       "    </tr>\n",
       "    <tr>\n",
       "      <th>10</th>\n",
       "      <td>October</td>\n",
       "      <td>10</td>\n",
       "      <td>1.409162e+06</td>\n",
       "    </tr>\n",
       "    <tr>\n",
       "      <th>9</th>\n",
       "      <td>November</td>\n",
       "      <td>11</td>\n",
       "      <td>6.010683e+05</td>\n",
       "    </tr>\n",
       "    <tr>\n",
       "      <th>2</th>\n",
       "      <td>December</td>\n",
       "      <td>12</td>\n",
       "      <td>6.941931e+05</td>\n",
       "    </tr>\n",
       "  </tbody>\n",
       "</table>\n",
       "</div>"
      ],
      "text/plain": [
       "   claim_Month  claim_Month_no.  claim_amount\n",
       "4      January                1  1.326753e+06\n",
       "3     February                2  1.164304e+06\n",
       "7        March                3  1.319952e+06\n",
       "0        April                4  1.292395e+06\n",
       "8          May                5  1.113985e+06\n",
       "6         June                6  1.278673e+06\n",
       "5         July                7  1.378780e+06\n",
       "1       August                8  9.111184e+05\n",
       "11   September                9  9.826043e+05\n",
       "10     October               10  1.409162e+06\n",
       "9     November               11  6.010683e+05\n",
       "2     December               12  6.941931e+05"
      ]
     },
     "execution_count": 179,
     "metadata": {},
     "output_type": "execute_result"
    }
   ],
   "source": [
    "Month_agg"
   ]
  },
  {
   "cell_type": "code",
   "execution_count": 181,
   "id": "aa0e7ee9-9905-47ea-b5a0-b8da8cd3a7db",
   "metadata": {},
   "outputs": [
    {
     "data": {
      "text/plain": [
       "<Axes: xlabel='claim_Month'>"
      ]
     },
     "execution_count": 181,
     "metadata": {},
     "output_type": "execute_result"
    }
   ],
   "source": [
    "Month_agg.plot(kind ='bar', y='claim_amount', x= 'claim_Month')"
   ]
  },
  {
   "cell_type": "markdown",
   "id": "a03b3b1d-f2db-4963-8658-be2067d9eb55",
   "metadata": {},
   "source": [
    "###### The total claim amount fluctuates across the 12 months , with the highest claimed amount in October followed by July."
   ]
  },
  {
   "cell_type": "markdown",
   "id": "4be25f20-8935-4266-bfe9-b94d0a614f1d",
   "metadata": {},
   "source": [
    "### 15. What is the average claim amount for gender and age categories and suitably represent the above using a facetted bar chart, one facet that represents fraudulent claims and the other for non-fraudulent claims NOT DONE !!!"
   ]
  },
  {
   "cell_type": "markdown",
   "id": "71992394-b8c2-42df-b1e8-3889cc5eb6f2",
   "metadata": {},
   "source": [
    "##### # Creating a facet that represent fradulent claims based on gender and age group"
   ]
  },
  {
   "cell_type": "code",
   "execution_count": 188,
   "id": "13751344-7be8-433c-b551-07a797c45b7a",
   "metadata": {},
   "outputs": [],
   "source": [
    "Customer_claim_data_fraud = Customer_claim_data[Customer_claim_data.fraudulent=='Yes'].pivot_table(index = ['gender','Age_group'], values = 'claim_amount' ) "
   ]
  },
  {
   "cell_type": "code",
   "execution_count": 190,
   "id": "6b044f2d-3ac2-45fe-b5b2-3878ab7c65e4",
   "metadata": {},
   "outputs": [
    {
     "data": {
      "text/html": [
       "<div>\n",
       "<style scoped>\n",
       "    .dataframe tbody tr th:only-of-type {\n",
       "        vertical-align: middle;\n",
       "    }\n",
       "\n",
       "    .dataframe tbody tr th {\n",
       "        vertical-align: top;\n",
       "    }\n",
       "\n",
       "    .dataframe thead th {\n",
       "        text-align: right;\n",
       "    }\n",
       "</style>\n",
       "<table border=\"1\" class=\"dataframe\">\n",
       "  <thead>\n",
       "    <tr style=\"text-align: right;\">\n",
       "      <th></th>\n",
       "      <th></th>\n",
       "      <th>claim_amount</th>\n",
       "    </tr>\n",
       "    <tr>\n",
       "      <th>gender</th>\n",
       "      <th>Age_group</th>\n",
       "      <th></th>\n",
       "    </tr>\n",
       "  </thead>\n",
       "  <tbody>\n",
       "    <tr>\n",
       "      <th rowspan=\"3\" valign=\"top\">Female</th>\n",
       "      <th>Adult</th>\n",
       "      <td>13142.664414</td>\n",
       "    </tr>\n",
       "    <tr>\n",
       "      <th>Senior</th>\n",
       "      <td>4860.840909</td>\n",
       "    </tr>\n",
       "    <tr>\n",
       "      <th>Youth</th>\n",
       "      <td>6858.102284</td>\n",
       "    </tr>\n",
       "    <tr>\n",
       "      <th rowspan=\"3\" valign=\"top\">Male</th>\n",
       "      <th>Adult</th>\n",
       "      <td>15108.130109</td>\n",
       "    </tr>\n",
       "    <tr>\n",
       "      <th>Senior</th>\n",
       "      <td>15424.153846</td>\n",
       "    </tr>\n",
       "    <tr>\n",
       "      <th>Youth</th>\n",
       "      <td>11391.291680</td>\n",
       "    </tr>\n",
       "  </tbody>\n",
       "</table>\n",
       "</div>"
      ],
      "text/plain": [
       "                  claim_amount\n",
       "gender Age_group              \n",
       "Female Adult      13142.664414\n",
       "       Senior      4860.840909\n",
       "       Youth       6858.102284\n",
       "Male   Adult      15108.130109\n",
       "       Senior     15424.153846\n",
       "       Youth      11391.291680"
      ]
     },
     "execution_count": 190,
     "metadata": {},
     "output_type": "execute_result"
    }
   ],
   "source": [
    "Customer_claim_data_fraud"
   ]
  },
  {
   "cell_type": "code",
   "execution_count": 192,
   "id": "8ee39eb3-f20f-427d-85f6-0870d647c8ef",
   "metadata": {},
   "outputs": [
    {
     "data": {
      "text/plain": [
       "<seaborn.axisgrid.FacetGrid at 0x1d32d1dc410>"
      ]
     },
     "execution_count": 192,
     "metadata": {},
     "output_type": "execute_result"
    }
   ],
   "source": [
    "plt.figure(figsize = (30,30))\n",
    "sns.catplot(data = Customer_claim_data_fraud, kind = 'bar' , x = 'Age_group', y ='claim_amount', hue = 'gender' )"
   ]
  },
  {
   "cell_type": "markdown",
   "id": "62d15769-0395-410b-967e-6b783c1aed01",
   "metadata": {},
   "source": [
    "##### # As observed in the above graph in senior age group males tend to apply for fraud claims more as compared to females and the same in case of Adult age group."
   ]
  },
  {
   "cell_type": "markdown",
   "id": "27979081-7a9f-424e-887d-9dd6cd89ddb6",
   "metadata": {},
   "source": [
    "###### # Creating a facet that represent non- fradulent claims based on gender and age group"
   ]
  },
  {
   "cell_type": "code",
   "execution_count": 198,
   "id": "8dedb29c-6729-4602-a9e1-369c9b7069fb",
   "metadata": {},
   "outputs": [],
   "source": [
    "Customer_claim_data_non_fraud = Customer_claim_data[Customer_claim_data.fraudulent=='No'].pivot_table(index = ['gender','Age_group'], values = 'claim_amount' ) "
   ]
  },
  {
   "cell_type": "code",
   "execution_count": 200,
   "id": "e243dde4-b23c-428c-b0b0-a5f5db8c97dc",
   "metadata": {},
   "outputs": [
    {
     "data": {
      "text/plain": [
       "<seaborn.axisgrid.FacetGrid at 0x1d32f1c6ff0>"
      ]
     },
     "execution_count": 200,
     "metadata": {},
     "output_type": "execute_result"
    }
   ],
   "source": [
    "sns.catplot(data = Customer_claim_data_non_fraud , kind = 'bar', x = 'Age_group', y = 'claim_amount', hue ='gender' )"
   ]
  },
  {
   "cell_type": "markdown",
   "id": "061979d3-9209-4611-9015-bc27a6e968a9",
   "metadata": {},
   "source": [
    "##### # Based on the above graph in the Youth age group males go for non-fraud claims more than female. "
   ]
  },
  {
   "cell_type": "markdown",
   "id": "ee282aa0-96ef-43e5-a9bb-2c3c9a556bd1",
   "metadata": {},
   "source": [
    "## STATISTICAL TESTS :"
   ]
  },
  {
   "cell_type": "markdown",
   "id": "2487631c-a77c-4648-a0e6-986cf90f93c8",
   "metadata": {},
   "source": [
    "### 16. Is there any similarity in the amount claimed by males and females?"
   ]
  },
  {
   "cell_type": "markdown",
   "id": "c3658318-722f-47cd-a3ca-6c2bf0b15248",
   "metadata": {},
   "source": [
    "##### # The hypothesis test we're conducting to compare the average amount claimed by males and females\n",
    "##### #is called a two-sample t-test (also known as an independent t-test).It is used to determine if there are statistically \n",
    "##### #significant differences between the means of two independent groups (in this case, the amount claimed by males and females)."
   ]
  },
  {
   "cell_type": "code",
   "execution_count": null,
   "id": "d24314e0-2cd6-4a06-9ac8-33d279a2268d",
   "metadata": {},
   "outputs": [],
   "source": [
    "Ho (Null Hypothesis) : amount claimed by males and females are equal\n",
    "Ha (Alternate Hypothesis) : amount claimed by males and females are not equal\n",
    "\n",
    "Based on industry standards we set the following parameters :\n",
    "\n",
    "confidence level = 95 % \n",
    "Significance level = 5%\n",
    "p critical= 0.05\n",
    "\n",
    "\n",
    "In the given scenario our sample is claim amount and since we have the sample mean and standard deviation we would use T-test "
   ]
  },
  {
   "cell_type": "code",
   "execution_count": 206,
   "id": "06f4f5e9-1c83-43e0-a9dc-a6dfdc927de9",
   "metadata": {},
   "outputs": [],
   "source": [
    "Female= Customer_claim_data[Customer_claim_data.gender =='Female']['claim_amount']\n",
    "Male= Customer_claim_data[Customer_claim_data.gender =='Male']['claim_amount']"
   ]
  },
  {
   "cell_type": "code",
   "execution_count": 208,
   "id": "fecf64aa-a877-49d2-90bc-158d4a0ba9b7",
   "metadata": {},
   "outputs": [
    {
     "data": {
      "text/plain": [
       "TtestResult(statistic=-0.9617536430640763, pvalue=0.3363894432719138, df=1076.0)"
      ]
     },
     "execution_count": 208,
     "metadata": {},
     "output_type": "execute_result"
    }
   ],
   "source": [
    "#Conducting t test :\n",
    "\n",
    "T = stats.ttest_ind(Female,Male)\n",
    "T"
   ]
  },
  {
   "cell_type": "code",
   "execution_count": 210,
   "id": "58a19d94-3a3a-4f05-bdcd-3f0eca8c1082",
   "metadata": {},
   "outputs": [
    {
     "data": {
      "text/plain": [
       "True"
      ]
     },
     "execution_count": 210,
     "metadata": {},
     "output_type": "execute_result"
    }
   ],
   "source": [
    "T[1] >0.05"
   ]
  },
  {
   "cell_type": "markdown",
   "id": "a5c094ce-ac05-4928-be9b-1af2b49ea7db",
   "metadata": {},
   "source": [
    "##### # Since the p value obtained is greater than the p critical that was set we fail to reject the null hypothesis(Ho).\n",
    "##### # Thus the amount claimed by male and female are similar."
   ]
  },
  {
   "cell_type": "markdown",
   "id": "e2afa793-7efd-41e3-bf02-628f17c914ed",
   "metadata": {},
   "source": [
    "### 17. Is there any relationship between age category and segment"
   ]
  },
  {
   "cell_type": "markdown",
   "id": "23d895ad-e683-419f-aca6-fec2440c585d",
   "metadata": {},
   "source": [
    "##### # To determine if there is a  relationship between age category and segment , we will use the Chi-Square Test of Independence.\n",
    "##### # This test is appropriate for categorical variables, such as age category and segment .\n",
    "##### # The Chi-Square Test of Independence assesses whether two categorical variables are independent or if there is a significant association between them."
   ]
  },
  {
   "cell_type": "markdown",
   "id": "70335a85-f4fd-4c2c-973c-f4a91792a5a2",
   "metadata": {},
   "source": [
    "###### # Before going ahead with the test we need to create a contigency table.\n",
    "###### # CONTIGENCY TABLE: a table that shows the frequency counts of each combination of categories"
   ]
  },
  {
   "cell_type": "code",
   "execution_count": 217,
   "id": "ca4902a9-add7-4008-a0c6-f97865a1827b",
   "metadata": {},
   "outputs": [],
   "source": [
    "CONTIGENCY_TABLE = pd.crosstab(Customer_claim_data.Age_group, Customer_claim_data.Segment)"
   ]
  },
  {
   "cell_type": "code",
   "execution_count": 219,
   "id": "86438216-a0ba-4e45-a305-652d8f1ad2f4",
   "metadata": {},
   "outputs": [
    {
     "data": {
      "text/html": [
       "<div>\n",
       "<style scoped>\n",
       "    .dataframe tbody tr th:only-of-type {\n",
       "        vertical-align: middle;\n",
       "    }\n",
       "\n",
       "    .dataframe tbody tr th {\n",
       "        vertical-align: top;\n",
       "    }\n",
       "\n",
       "    .dataframe thead th {\n",
       "        text-align: right;\n",
       "    }\n",
       "</style>\n",
       "<table border=\"1\" class=\"dataframe\">\n",
       "  <thead>\n",
       "    <tr style=\"text-align: right;\">\n",
       "      <th>Segment</th>\n",
       "      <th>Gold</th>\n",
       "      <th>Platinum</th>\n",
       "      <th>Silver</th>\n",
       "    </tr>\n",
       "    <tr>\n",
       "      <th>Age_group</th>\n",
       "      <th></th>\n",
       "      <th></th>\n",
       "      <th></th>\n",
       "    </tr>\n",
       "  </thead>\n",
       "  <tbody>\n",
       "    <tr>\n",
       "      <th>Adult</th>\n",
       "      <td>289</td>\n",
       "      <td>279</td>\n",
       "      <td>265</td>\n",
       "    </tr>\n",
       "    <tr>\n",
       "      <th>Senior</th>\n",
       "      <td>45</td>\n",
       "      <td>47</td>\n",
       "      <td>40</td>\n",
       "    </tr>\n",
       "    <tr>\n",
       "      <th>Youth</th>\n",
       "      <td>37</td>\n",
       "      <td>35</td>\n",
       "      <td>41</td>\n",
       "    </tr>\n",
       "  </tbody>\n",
       "</table>\n",
       "</div>"
      ],
      "text/plain": [
       "Segment    Gold  Platinum  Silver\n",
       "Age_group                        \n",
       "Adult       289       279     265\n",
       "Senior       45        47      40\n",
       "Youth        37        35      41"
      ]
     },
     "execution_count": 219,
     "metadata": {},
     "output_type": "execute_result"
    }
   ],
   "source": [
    "CONTIGENCY_TABLE"
   ]
  },
  {
   "cell_type": "code",
   "execution_count": null,
   "id": "4ef5902c-7ffc-43f1-b5da-aa662e551191",
   "metadata": {},
   "outputs": [],
   "source": [
    "# (Null Hypothesis) Ho: There is no relationship between Age group and segment\n",
    "# (Alternate Hypothesis) Ha: There is a relationship between Age group and segment\n",
    "\n",
    "# We set the parameters at :\n",
    "\n",
    "# confidence level = 95 % \n",
    "# significance level = 5%\n",
    "# p critical= 0.05\n",
    "\n",
    "# The sample is Age group and segment in Customer claim data "
   ]
  },
  {
   "cell_type": "code",
   "execution_count": 221,
   "id": "7e90a85c-1834-466a-aa36-71294253c7f9",
   "metadata": {},
   "outputs": [],
   "source": [
    "relation_test = stats.chi2_contingency(CONTIGENCY_TABLE)"
   ]
  },
  {
   "cell_type": "code",
   "execution_count": 223,
   "id": "41032615-66bb-4f2b-9d3c-7e4ff306e1bf",
   "metadata": {},
   "outputs": [],
   "source": [
    "relation_test_pvalue = relation_test[1]"
   ]
  },
  {
   "cell_type": "code",
   "execution_count": 225,
   "id": "dc33fa16-d5a8-4093-8c50-982da92bd5c3",
   "metadata": {},
   "outputs": [
    {
     "data": {
      "text/plain": [
       "True"
      ]
     },
     "execution_count": 225,
     "metadata": {},
     "output_type": "execute_result"
    }
   ],
   "source": [
    "relation_test_pvalue >0.05"
   ]
  },
  {
   "cell_type": "markdown",
   "id": "b98a1e4b-72df-4b9d-b0bd-644c13c1c374",
   "metadata": {},
   "source": [
    "##### # As P value is greater than P critical so we were unable to reject the null hypothesis and therefore we can say with 95% confidence that\n",
    "##### # there is no significant relationship between Age_group and segment."
   ]
  },
  {
   "cell_type": "markdown",
   "id": "9f4c4889-31a7-4126-80f9-90b5d7cdf44b",
   "metadata": {},
   "source": [
    "### 18. The current year has shown a significant rise in claim amounts as compared to 2016-17 fiscal average which was $10,000."
   ]
  },
  {
   "cell_type": "code",
   "execution_count": null,
   "id": "983f6be8-283b-458f-bc1a-b5d3b4417246",
   "metadata": {},
   "outputs": [],
   "source": [
    "# The goal is to determine whether the sample mean of the \"claim amount\" is significantly different from a hypothesized 2016-17 fiscal average which was $10,000.\n",
    "#The one-sample t-test is ideal for this because it allows you to compare the sample mean to a target value ($10,000 in this case) \n",
    "# and see if the observed mean is statistically significantly different."
   ]
  },
  {
   "cell_type": "code",
   "execution_count": null,
   "id": "c0e108f9-52fa-4e99-beb9-35626431821b",
   "metadata": {},
   "outputs": [],
   "source": [
    "# (Null Hypothesis) Ho: The average claim amount of current year is equal to 2016-17 fiscal average which was $10,000\n",
    "# (Alternate Hypothesis) Ha: The average claim amount of current year is greater than 2016-17 fiscal average which was $10,000\n",
    "\n",
    "# We set out parameters at :\n",
    "\n",
    "# confidence level = 95 % \n",
    "# significance level = 5%\n",
    "# p critical= 0.05"
   ]
  },
  {
   "cell_type": "code",
   "execution_count": 229,
   "id": "628c1067-59ef-47a6-9b6c-e94b2bb712e5",
   "metadata": {},
   "outputs": [
    {
     "data": {
      "text/plain": [
       "claim_date\n",
       "2017    593\n",
       "2018    485\n",
       "Name: count, dtype: int64"
      ]
     },
     "execution_count": 229,
     "metadata": {},
     "output_type": "execute_result"
    }
   ],
   "source": [
    "Customer_claim_data.claim_date.dt.year.value_counts()"
   ]
  },
  {
   "cell_type": "markdown",
   "id": "7ee82eaa-9833-4912-8eed-cb2dc8a1c702",
   "metadata": {},
   "source": [
    "##### # The provided dataset contains data on the current fiscal year 2017-2018"
   ]
  },
  {
   "cell_type": "code",
   "execution_count": 232,
   "id": "54ebefe2-6fb7-4b1a-8b4f-32766c84019e",
   "metadata": {},
   "outputs": [],
   "source": [
    "claim_amount_test = stats.ttest_1samp(Customer_claim_data.claim_amount,10000)"
   ]
  },
  {
   "cell_type": "code",
   "execution_count": 234,
   "id": "85f80389-f2e0-45cd-8842-b6dc7605957f",
   "metadata": {},
   "outputs": [],
   "source": [
    "claim_amount_test_pvalue= claim_amount_test[1]"
   ]
  },
  {
   "cell_type": "code",
   "execution_count": 236,
   "id": "daf054e9-c548-4945-af5c-b831d3dfd74e",
   "metadata": {},
   "outputs": [
    {
     "data": {
      "text/plain": [
       "False"
      ]
     },
     "execution_count": 236,
     "metadata": {},
     "output_type": "execute_result"
    }
   ],
   "source": [
    "claim_amount_test_pvalue> 0.05 "
   ]
  },
  {
   "cell_type": "code",
   "execution_count": null,
   "id": "1d4ec086-6a01-42d6-b3dd-7d81edec4053",
   "metadata": {},
   "outputs": [],
   "source": [
    "# As P value is less than P critical so we reject null hypothesis and therefore we can say with 95% confidence \n",
    "# that the average claim amount of current year is greater than 2016-17 fiscal average which was $10,000."
   ]
  },
  {
   "cell_type": "markdown",
   "id": "f60914d0-c640-44c8-b083-c63134d57ee9",
   "metadata": {},
   "source": [
    "### 19. Is there any difference between age groups and insurance claims?"
   ]
  },
  {
   "cell_type": "code",
   "execution_count": null,
   "id": "e8b507f4-caa1-4eef-996c-b107fc7514b8",
   "metadata": {},
   "outputs": [],
   "source": [
    "#To analyze whether certain age groups have a different insurance claims, we would typically want to determine if there is a statistically\n",
    "# significant difference in insurance claims across different age groups and thus we can use ANNOVA test.\n",
    "# ANOVA is designed to compare the means of three or more groups. "
   ]
  },
  {
   "cell_type": "code",
   "execution_count": null,
   "id": "9eaac9b5-10f6-4ec8-8319-e095f426758d",
   "metadata": {},
   "outputs": [],
   "source": [
    "# (Null Hypothesis) Ho: There is no difference in the insurance claims across different groups\n",
    "# (Alternate Hypothesis) Ha: At least one group has difference in the insurance claims compared to the others.\n",
    "\n",
    "# We set out parameters at :\n",
    "\n",
    "# confidence level = 95 % \n",
    "# significance level = 5%\n",
    "# p critical= 0.05"
   ]
  },
  {
   "cell_type": "code",
   "execution_count": 239,
   "id": "88f40e52-eee5-43d7-8c86-9470edd188aa",
   "metadata": {},
   "outputs": [
    {
     "data": {
      "text/plain": [
       "array(['Adult', 'Youth', 'Senior'], dtype=object)"
      ]
     },
     "execution_count": 239,
     "metadata": {},
     "output_type": "execute_result"
    }
   ],
   "source": [
    "Customer_claim_data.Age_group.unique()"
   ]
  },
  {
   "cell_type": "code",
   "execution_count": 241,
   "id": "fcd2420c-2ed5-4b3c-970b-dd4fd272cc32",
   "metadata": {},
   "outputs": [],
   "source": [
    "Adult_Data = Customer_claim_data [Customer_claim_data.Age_group=='Adult']['claim_amount']\n",
    "Youth_Data = Customer_claim_data [Customer_claim_data.Age_group=='Youth']['claim_amount']\n",
    "Senior_Data = Customer_claim_data [Customer_claim_data.Age_group=='Senior']['claim_amount']"
   ]
  },
  {
   "cell_type": "code",
   "execution_count": 243,
   "id": "820f93da-ee29-41b3-a09b-1543319d9558",
   "metadata": {},
   "outputs": [
    {
     "data": {
      "text/plain": [
       "F_onewayResult(statistic=1.4618429282394292, pvalue=0.23226910772585677)"
      ]
     },
     "execution_count": 243,
     "metadata": {},
     "output_type": "execute_result"
    }
   ],
   "source": [
    "ANNOVA_test = stats.f_oneway(Adult_Data,Youth_Data,Senior_Data)\n",
    "ANNOVA_test"
   ]
  },
  {
   "cell_type": "code",
   "execution_count": 245,
   "id": "ac8beb1f-6474-4f02-a6bc-0856f973f1b2",
   "metadata": {},
   "outputs": [],
   "source": [
    "ANNOVA_test_pvalue = ANNOVA_test [1]"
   ]
  },
  {
   "cell_type": "code",
   "execution_count": 247,
   "id": "ef21426a-3f4f-471a-8fd8-166315b45cc3",
   "metadata": {},
   "outputs": [
    {
     "data": {
      "text/plain": [
       "True"
      ]
     },
     "execution_count": 247,
     "metadata": {},
     "output_type": "execute_result"
    }
   ],
   "source": [
    "ANNOVA_test_pvalue >0.05"
   ]
  },
  {
   "cell_type": "code",
   "execution_count": null,
   "id": "88f49a1e-f2ae-4700-88e4-1af7c25d051d",
   "metadata": {},
   "outputs": [],
   "source": [
    "# As P value is greater than P critical so we fail to reject the null hypothesis and therefore we can say with 95% confidence that\n",
    "# there is no difference in the insurance claims across different groups."
   ]
  },
  {
   "cell_type": "markdown",
   "id": "2431bf04-cc92-42be-a2d5-1cc57e97c234",
   "metadata": {},
   "source": [
    "### 20. Is there any relationship between total number of policy claims and the claimed amount?"
   ]
  },
  {
   "cell_type": "code",
   "execution_count": null,
   "id": "17cd104e-696b-4c99-9192-f022a25e8e02",
   "metadata": {},
   "outputs": [],
   "source": [
    "# To assess the relationship between the total number of policy claims and the claimed amount, we would typically use a correlation test,\n",
    "# specifically Pearson's correlation test , if both variables are continuous and normally distributed."
   ]
  },
  {
   "cell_type": "code",
   "execution_count": null,
   "id": "1ead851a-b22f-438b-8434-164a2b9d0f0c",
   "metadata": {},
   "outputs": [],
   "source": [
    "# (Null Hypothesis) Ho: There is no relationship between total number of policy claims and the claimed amount.\n",
    "# (Alternate Hypothesis) Ha: There is a  relationship between total number of policy claims and the claimed amount.\n",
    "\n",
    "# We set out parameters at :\n",
    "\n",
    "# confidence level = 95 % \n",
    "# significance level = 5%\n",
    "# p critical= 0.05"
   ]
  },
  {
   "cell_type": "code",
   "execution_count": 250,
   "id": "c14cd68a-4189-43bb-9f9b-011c1fb5a3fd",
   "metadata": {},
   "outputs": [],
   "source": [
    "Correlation_test = stats.pearsonr(Customer_claim_data.claim_amount,Customer_claim_data.total_policy_claims)"
   ]
  },
  {
   "cell_type": "code",
   "execution_count": 252,
   "id": "2cd67e0b-e84b-4ea4-9711-ebbc09e0d7e0",
   "metadata": {},
   "outputs": [],
   "source": [
    "Correlation_test_pvalue = Correlation_test[1]"
   ]
  },
  {
   "cell_type": "code",
   "execution_count": 254,
   "id": "0084d59f-58a9-4563-8806-91d461eb4967",
   "metadata": {},
   "outputs": [
    {
     "data": {
      "text/plain": [
       "True"
      ]
     },
     "execution_count": 254,
     "metadata": {},
     "output_type": "execute_result"
    }
   ],
   "source": [
    "Correlation_test_pvalue >0.05"
   ]
  },
  {
   "cell_type": "code",
   "execution_count": null,
   "id": "ce8f99f2-7ebe-4d02-abde-55218d03c954",
   "metadata": {},
   "outputs": [],
   "source": [
    "# As P value is greater than P critical so we fail to reject the null hypothesis and therefore we can say with 95% confidence that\n",
    "# there is no relationship between total number of policy claims and the claimed amount."
   ]
  },
  {
   "cell_type": "code",
   "execution_count": null,
   "id": "583c2c1a-1717-49a2-9efe-a01dd7fe07de",
   "metadata": {},
   "outputs": [],
   "source": []
  },
  {
   "cell_type": "code",
   "execution_count": null,
   "id": "c9757a7a-39c0-4a18-a298-a41dbd608efe",
   "metadata": {},
   "outputs": [],
   "source": []
  },
  {
   "cell_type": "code",
   "execution_count": null,
   "id": "d7b6443f-82e9-48cc-855d-9cfdb2a6b661",
   "metadata": {},
   "outputs": [],
   "source": []
  },
  {
   "cell_type": "code",
   "execution_count": null,
   "id": "2e24ab03-8591-41b0-8294-e6c6487ee21d",
   "metadata": {},
   "outputs": [],
   "source": []
  },
  {
   "cell_type": "code",
   "execution_count": null,
   "id": "e788a3fd-b9db-4faa-a849-cc1160befc2a",
   "metadata": {},
   "outputs": [],
   "source": []
  },
  {
   "cell_type": "code",
   "execution_count": null,
   "id": "6ef2aafb-20b9-4271-b361-c9dfd72eaeca",
   "metadata": {},
   "outputs": [],
   "source": []
  }
 ],
 "metadata": {
  "kernelspec": {
   "display_name": "Python [conda env:base] *",
   "language": "python",
   "name": "conda-base-py"
  },
  "language_info": {
   "codemirror_mode": {
    "name": "ipython",
    "version": 3
   },
   "file_extension": ".py",
   "mimetype": "text/x-python",
   "name": "python",
   "nbconvert_exporter": "python",
   "pygments_lexer": "ipython3",
   "version": "3.12.7"
  }
 },
 "nbformat": 4,
 "nbformat_minor": 5
}
